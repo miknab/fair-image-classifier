{
 "cells": [
  {
   "cell_type": "markdown",
   "id": "5d703a2e-3a31-4fec-9889-d70aab84c0a3",
   "metadata": {},
   "source": [
    "# Face classifier - Exploratory Data Analysis"
   ]
  },
  {
   "cell_type": "markdown",
   "id": "fd2c0102-7540-4c78-ba92-c552a24cdc12",
   "metadata": {},
   "source": [
    "## Set up"
   ]
  },
  {
   "cell_type": "code",
   "execution_count": null,
   "id": "c9e4be5a-8792-4f83-9ec3-2a58cca9e06e",
   "metadata": {},
   "outputs": [],
   "source": [
    "# 3rd party imports\n",
    "import pandas as pd\n",
    "import numpy as np\n",
    "import seaborn as sns\n",
    "import matplotlib.pyplot as plt\n",
    "\n",
    "# Local imports\n",
    "from facecls import fcaux"
   ]
  },
  {
   "cell_type": "markdown",
   "id": "00bec25b-11be-414b-9815-9743234566ef",
   "metadata": {},
   "source": [
    "## Load data"
   ]
  },
  {
   "cell_type": "code",
   "execution_count": null,
   "id": "592f911a-1b01-4cbd-a8ec-f85cac46c4d3",
   "metadata": {},
   "outputs": [],
   "source": [
    "data = pd.read_csv(\"data/age_gender.csv\")"
   ]
  },
  {
   "cell_type": "markdown",
   "id": "0fe38d3b-59b8-4ea0-82ff-f5d458a9e8de",
   "metadata": {},
   "source": [
    "## EDA"
   ]
  },
  {
   "cell_type": "code",
   "execution_count": null,
   "id": "5cc9bc16-cc6d-43e7-8bb4-6b1af65a38aa",
   "metadata": {},
   "outputs": [],
   "source": [
    "data.shape"
   ]
  },
  {
   "cell_type": "code",
   "execution_count": null,
   "id": "ffeb6ada-7e19-4dd9-bf91-a2af27eacf2a",
   "metadata": {},
   "outputs": [],
   "source": [
    "data.head()"
   ]
  },
  {
   "cell_type": "code",
   "execution_count": null,
   "id": "4da365b6-762b-44c9-b5a6-70be00853632",
   "metadata": {},
   "outputs": [],
   "source": [
    "data.info()"
   ]
  },
  {
   "cell_type": "code",
   "execution_count": null,
   "id": "ea39448b-b360-4d62-9efd-3331ca763d97",
   "metadata": {},
   "outputs": [],
   "source": [
    "sns.set_style(\"whitegrid\")\n",
    "\n",
    "fig, axs = plt.subplots(1,3, figsize=(12,4))\n",
    "sns.histplot(data = data, \n",
    "             x=\"age\", \n",
    "             binrange=(0,120),\n",
    "             bins=30,\n",
    "             ax=axs[0]\n",
    "             )\n",
    "axs[0].set_title(\"Age distribution\")\n",
    "\n",
    "sns.countplot(data = data, \n",
    "             x=\"ethnicity\", \n",
    "             ax=axs[1]\n",
    "             )\n",
    "axs[1].set_title(\"Ethnicity distribution\")\n",
    "\n",
    "sns.countplot(data = data, \n",
    "             x=\"gender\", \n",
    "             ax=axs[2]\n",
    "             )\n",
    "axs[2].set_title(\"Gender distribution\")\n",
    "plt.tight_layout()\n",
    "plt.savefig(\"results/label_distributions.png\")\n",
    "plt.show()"
   ]
  },
  {
   "cell_type": "code",
   "execution_count": null,
   "id": "0851a16b-0f26-4faa-a79f-381db392f262",
   "metadata": {},
   "outputs": [],
   "source": [
    "fig, axs = plt.subplots(3,5, figsize=(10,6))\n",
    "\n",
    "for i in range(3):\n",
    "    for j in range(5):\n",
    "        img = fcaux.pxlvec2pxlarray(fcaux.pxlstring2pxlvec(data,i*2000+j))\n",
    "        axs[i,j].imshow(img, interpolation = \"nearest\", cmap=\"gray\")\n",
    "        axs[i,j].axis(\"off\")\n",
    "        axs[i,j].set_title(f\"Image #{i*2000+j}\")\n",
    "\n",
    "fig.suptitle(\"Example images\")\n",
    "plt.show()"
   ]
  },
  {
   "cell_type": "code",
   "execution_count": null,
   "id": "6da4f719-3fe9-491f-bd91-e23614bc7264",
   "metadata": {},
   "outputs": [],
   "source": [
    "sample_imgs = data.sample(n=15, random_state=42)"
   ]
  },
  {
   "cell_type": "code",
   "execution_count": null,
   "id": "7338f582-4727-40a1-a28a-2578a53685e2",
   "metadata": {},
   "outputs": [],
   "source": [
    "sample_imgs#.index[0]"
   ]
  },
  {
   "cell_type": "code",
   "execution_count": null,
   "id": "3d8cc161-21ac-4eeb-84c9-0cb7044dc268",
   "metadata": {},
   "outputs": [],
   "source": [
    "# 0 = Caucasian\n",
    "# 1 = Black\n",
    "# 2 = Asian\n",
    "# 3 = Indian\n",
    "# 4 = Latino\n",
    "\n",
    "fig, axs = plt.subplots(3,5, figsize=(10,6))\n",
    "\n",
    "for i in range(3):\n",
    "    for j in range(5):\n",
    "        img = fcaux.pxlvec2pxlarray(fcaux.pxlstring2pxlvec(sample_imgs,sample_imgs.index[i*5+j]))\n",
    "        axs[i,j].imshow(img, interpolation = \"nearest\", cmap=\"gray\")\n",
    "        axs[i,j].axis(\"off\")\n",
    "        axs[i,j].set_title(f\"Image #{sample_imgs.index[i*3+j]}\")\n",
    "\n",
    "fig.suptitle(\"Example images\")\n",
    "plt.savefig(\"results/random_face_images.png\")\n",
    "plt.show()"
   ]
  },
  {
   "cell_type": "code",
   "execution_count": null,
   "id": "34d6c937-afd1-4c9f-a8f7-c94bd3c73ed6",
   "metadata": {},
   "outputs": [],
   "source": [
    "# This cell is to experiment with transformations of the age feature\n",
    "# to make it more normally distributed\n",
    "trf1 = data[\"age\"]**0.5\n",
    "trf2 = 1/(trf1-trf1.mean())\n",
    "data[\"age_trf\"] = trf2 * (1 + 1*np.exp(-1*trf2**2))\n",
    "\n",
    "fig, axs = plt.subplots(1,2, figsize=(7,3))\n",
    "data[\"age\"].hist(bins=50, ax=axs[0], alpha=0.5)\n",
    "data[\"age_trf\"].hist(bins=50, color=\"red\", alpha=0.5, ax=axs[1])\n",
    "plt.show()"
   ]
  },
  {
   "cell_type": "code",
   "execution_count": null,
   "id": "8aef6ded-9104-4fe0-80a9-99bdaf3670e5",
   "metadata": {},
   "outputs": [],
   "source": [
    "age_diff = 10\n",
    "for i in range(0,130,age_diff):\n",
    "    data.loc[(i <= data[\"age\"]) & (data[\"age\"]<i+age_diff), \"age_cat\"] = i"
   ]
  },
  {
   "cell_type": "code",
   "execution_count": null,
   "id": "4b4028c1-3ab9-45d1-8307-e29416ffb6f0",
   "metadata": {},
   "outputs": [],
   "source": [
    "data.rename({\"age_cat\": \"age_decades\"}, axis=1, inplace=True)"
   ]
  },
  {
   "cell_type": "code",
   "execution_count": null,
   "id": "6daf2f53-f696-4198-8bb9-3c215851938e",
   "metadata": {},
   "outputs": [],
   "source": [
    "data = data[[\"age\", \"age_decades\", \"ethnicity\", \"gender\", \"img_name\", \"pixels\"]]"
   ]
  },
  {
   "cell_type": "code",
   "execution_count": null,
   "id": "6414c07e-e4b6-4d38-b23b-3d1745cdc21b",
   "metadata": {},
   "outputs": [],
   "source": [
    "data.to_csv(\"data/age_gender_preproc.csv\", index=False)"
   ]
  }
 ],
 "metadata": {
  "kernelspec": {
   "display_name": "Python 3 (ipykernel)",
   "language": "python",
   "name": "python3"
  },
  "language_info": {
   "codemirror_mode": {
    "name": "ipython",
    "version": 3
   },
   "file_extension": ".py",
   "mimetype": "text/x-python",
   "name": "python",
   "nbconvert_exporter": "python",
   "pygments_lexer": "ipython3",
   "version": "3.11.9"
  }
 },
 "nbformat": 4,
 "nbformat_minor": 5
}
