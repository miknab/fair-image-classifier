{
 "cells": [
  {
   "cell_type": "markdown",
   "id": "5d703a2e-3a31-4fec-9889-d70aab84c0a3",
   "metadata": {},
   "source": [
    "# Face classifier - Exploratory Data Analysis"
   ]
  },
  {
   "cell_type": "markdown",
   "id": "54c33a57-93f9-4f16-b07f-aa114e51cd9b",
   "metadata": {},
   "source": [
    "In this notebook I shall perform the exploratory data analysis (EDA) of the [Kaggle dataset](https://www.kaggle.com/datasets/nipunarora8/age-gender-and-ethnicity-face-data-csv) used in this project. The data set contains images of people together with some attributes about these people such as age, gender, and ethnicity."
   ]
  },
  {
   "cell_type": "markdown",
   "id": "fd2c0102-7540-4c78-ba92-c552a24cdc12",
   "metadata": {},
   "source": [
    "## Set up"
   ]
  },
  {
   "cell_type": "code",
   "execution_count": null,
   "id": "c9e4be5a-8792-4f83-9ec3-2a58cca9e06e",
   "metadata": {},
   "outputs": [],
   "source": [
    "# 3rd party imports\n",
    "import pandas as pd\n",
    "import numpy as np\n",
    "from numpy import random as rd\n",
    "import seaborn as sns\n",
    "import matplotlib.pyplot as plt\n",
    "\n",
    "# Local imports\n",
    "from facecls import fcaux"
   ]
  },
  {
   "cell_type": "markdown",
   "id": "00bec25b-11be-414b-9815-9743234566ef",
   "metadata": {},
   "source": [
    "## Load data"
   ]
  },
  {
   "cell_type": "code",
   "execution_count": null,
   "id": "592f911a-1b01-4cbd-a8ec-f85cac46c4d3",
   "metadata": {},
   "outputs": [],
   "source": [
    "data = pd.read_csv(\"data/age_gender.csv\")"
   ]
  },
  {
   "cell_type": "markdown",
   "id": "0fe38d3b-59b8-4ea0-82ff-f5d458a9e8de",
   "metadata": {},
   "source": [
    "## EDA"
   ]
  },
  {
   "cell_type": "markdown",
   "id": "b68fede6-5b0a-4fec-ac42-e71b4490a9a0",
   "metadata": {},
   "source": [
    "### What does the data look like?"
   ]
  },
  {
   "cell_type": "markdown",
   "id": "56f0e102-14ef-4d78-a2ba-0c34eebf1afb",
   "metadata": {},
   "source": [
    "Let's first get some basic information about the data set such as its shape, an idea what specific data examples look like, what the data types are, if there are NULL values, etc."
   ]
  },
  {
   "cell_type": "code",
   "execution_count": null,
   "id": "5cc9bc16-cc6d-43e7-8bb4-6b1af65a38aa",
   "metadata": {},
   "outputs": [],
   "source": [
    "# Shape of the data set\n",
    "data.shape"
   ]
  },
  {
   "cell_type": "code",
   "execution_count": null,
   "id": "ffeb6ada-7e19-4dd9-bf91-a2af27eacf2a",
   "metadata": {},
   "outputs": [],
   "source": [
    "# Get the first five specific examples\n",
    "data.head()"
   ]
  },
  {
   "cell_type": "code",
   "execution_count": null,
   "id": "4da365b6-762b-44c9-b5a6-70be00853632",
   "metadata": {},
   "outputs": [],
   "source": [
    "# Let's print som info about data types, NULL value counts, etc.\n",
    "data.info()"
   ]
  },
  {
   "cell_type": "markdown",
   "id": "d080add3-5606-4601-972f-89d9163aa01e",
   "metadata": {},
   "source": [
    "From this very basic analysis it can be seen that the data set contains 23705 5-dimensional examples. The first three dimensions correspond to the age, the ethnicity, and the gender of the person on the image, all represented as integers. The fourth dimension is a string containing the image name and the fifth is a stringified version of the image itself."
   ]
  },
  {
   "cell_type": "markdown",
   "id": "3efe394c-dd8c-4c84-8e6f-5b21bc436a89",
   "metadata": {},
   "source": [
    "I found by coincidence that some images occur more than once. This is not desired and therefore multiple occurences should be removed."
   ]
  },
  {
   "cell_type": "code",
   "execution_count": null,
   "id": "c0dea628-4de7-4bd4-92f9-ff42fc51d9c9",
   "metadata": {},
   "outputs": [],
   "source": [
    "# The next line removes rows from the data set which have occured\n",
    "# already at least once\n",
    "data = data[~data[\"pixels\"].duplicated()]"
   ]
  },
  {
   "cell_type": "markdown",
   "id": "fac00c34-ad63-4647-8760-dcaf13478aa3",
   "metadata": {},
   "source": [
    "Next, let's print some images. However, to do so, we need to process the 5th data column: as seen above, this column originally contains strings of space-separated pixel values (integers between 1 and 255). So these strings must be split into arrays of individual values, each value must be cast to the integer data type, and the resulting 1D array must be reshaped into a 2D array. These transformations are done by the functions fcaux.pxlstring2pxlvec and fcaux.pxlvec2pxlarray, respectively.\n",
    "\n",
    "The sample of images plotted below is a hardcoded selection of 15 images, containing three subsets with 5 images each. Each of the three subsets represent a different age/gender group."
   ]
  },
  {
   "cell_type": "code",
   "execution_count": null,
   "id": "d15eb8cb-f9f9-431e-bc34-f144cb4a8054",
   "metadata": {},
   "outputs": [],
   "source": [
    "fig, axs = plt.subplots(3,5, figsize=(10,6))\n",
    "\n",
    "for i in range(3):\n",
    "    for j in range(5):\n",
    "        img = fcaux.pxlvec2pxlarray(fcaux.pxlstring2pxlvec(data,i*2000+j))\n",
    "        axs[i,j].imshow(img, interpolation = \"nearest\", cmap=\"gray\")\n",
    "        axs[i,j].axis(\"off\")\n",
    "        axs[i,j].set_title(f\"Image #{i*2000+j}\")\n",
    "\n",
    "fig.suptitle(\"Example images\")\n",
    "plt.show()"
   ]
  },
  {
   "cell_type": "markdown",
   "id": "0a60c86f-aaf6-4ae3-8319-f1a5abe77b05",
   "metadata": {},
   "source": [
    "Looking closely we can see that there are imperfections in this data set: The middle row is supposed to contain images of females, however image #2003 is that of a male. We learn that the dataset contains wrong labels.\n",
    "\n",
    "In order to get a sense of how significant wrong labels are in this data set, let's recreate the above plot array with a random collection of images, changing every time the code (in the next cell below) is executed. To get more info, let's add the age (a), ethnicity (e) and gender (g) information to the title of each picture. "
   ]
  },
  {
   "cell_type": "code",
   "execution_count": null,
   "id": "0f29d5bf-5c7c-41e8-9959-b34459769c7d",
   "metadata": {},
   "outputs": [],
   "source": [
    "fig, axs = plt.subplots(3,5, figsize=(10,6))\n",
    "\n",
    "for i, row in enumerate(sorted(rd.choice(range(10), size=3, replace=False))):\n",
    "    for j, col in enumerate(sorted(rd.choice(range(2000), size=5, replace=False))):\n",
    "        img = fcaux.pxlvec2pxlarray(fcaux.pxlstring2pxlvec(data,row*2000+j))\n",
    "        axs[i,j].imshow(img, interpolation = \"nearest\", cmap=\"gray\")\n",
    "        axs[i,j].axis(\"off\")\n",
    "        current_img = data.iloc[row*2000+col]\n",
    "        axs[i,j].set_title(f\"#{row*2000+col}: a{current_img['age']}, e{current_img['ethnicity']}, g{current_img['gender']}\")\n",
    "\n",
    "fig.suptitle(\"Example images\")\n",
    "plt.show()"
   ]
  },
  {
   "cell_type": "markdown",
   "id": "f60d0eb7-8be0-42f6-b612-66d8a4ed47cf",
   "metadata": {},
   "source": [
    "It becomes evident that there are several mislabelings. While wrong gender labels and vastly wrong age labels are quite easily spotted, determining the correctness of the ethnicity labels is tricky for several reasons: (a) one would need clear criteria by which ethnicity is defined, (b) there are people with mixed ethnicities, etc."
   ]
  },
  {
   "cell_type": "markdown",
   "id": "60e2df38-bf91-4470-984b-7a0479926b15",
   "metadata": {},
   "source": [
    "<div class=\"alert alert-block alert-warning\">\n",
    "    <b>CONCLUSION</b>\n",
    "    \n",
    "Due to the many wrong labels in this data set, it is by far not optimal as machine learning models trained on it will be confused by the wrong labels. As this project is more about the methods than about the actual result (I am not trying to sell a product in the end), I will go on with this data set, but it shall be noted that a better quality data set would of course be preferrable.\n",
    "</div>"
   ]
  },
  {
   "cell_type": "markdown",
   "id": "8cd8f6a9-1a8a-4221-aefb-425f4bc8604c",
   "metadata": {},
   "source": [
    "Let's randomly sample 15 different images and save them to disk:"
   ]
  },
  {
   "cell_type": "code",
   "execution_count": null,
   "id": "b90af3a6-6130-43a1-af79-6b040e6adf05",
   "metadata": {},
   "outputs": [],
   "source": [
    "# 0 = Caucasian\n",
    "# 1 = Black\n",
    "# 2 = Asian\n",
    "# 3 = Indian\n",
    "# 4 = Latino\n",
    "\n",
    "sample_imgs = data.sample(n=15, random_state=42)\n",
    "\n",
    "fig, axs = plt.subplots(3,5, figsize=(10,6))\n",
    "\n",
    "for i in range(3):\n",
    "    for j in range(5):\n",
    "        img = fcaux.pxlvec2pxlarray(fcaux.pxlstring2pxlvec(sample_imgs,sample_imgs.index[i*5+j]))\n",
    "        axs[i,j].imshow(img, interpolation = \"nearest\", cmap=\"gray\")\n",
    "        axs[i,j].axis(\"off\")\n",
    "        axs[i,j].set_title(f\"Image #{sample_imgs.index[i*3+j]}\")\n",
    "\n",
    "fig.suptitle(\"Example images\")\n",
    "plt.savefig(\"imgs/random_face_images.png\")\n",
    "plt.show()"
   ]
  },
  {
   "cell_type": "markdown",
   "id": "18541285-347e-4e89-9d90-7ed6cb504db4",
   "metadata": {},
   "source": [
    "### Statistical data analysis"
   ]
  },
  {
   "cell_type": "markdown",
   "id": "0d6c6a3c-f467-4470-940c-d28ea7159a80",
   "metadata": {},
   "source": [
    "Next, let's analyze the value distributions in the three label columns age, ethnicity and gender to find out where the imbalances are if any."
   ]
  },
  {
   "cell_type": "code",
   "execution_count": null,
   "id": "ea39448b-b360-4d62-9efd-3331ca763d97",
   "metadata": {},
   "outputs": [],
   "source": [
    "sns.set_style(\"whitegrid\")\n",
    "\n",
    "fig, axs = plt.subplots(1,3, figsize=(12,4))\n",
    "sns.histplot(data = data, \n",
    "             x=\"age\", \n",
    "             binrange=(0,120),\n",
    "             bins=30,\n",
    "             ax=axs[0]\n",
    "             )\n",
    "axs[0].set_title(\"Age distribution\")\n",
    "\n",
    "sns.countplot(data = data, \n",
    "             x=\"ethnicity\", \n",
    "             ax=axs[1]\n",
    "             )\n",
    "axs[1].set_title(\"Ethnicity distribution\")\n",
    "\n",
    "sns.countplot(data = data, \n",
    "             x=\"gender\", \n",
    "             ax=axs[2]\n",
    "             )\n",
    "axs[2].set_title(\"Gender distribution\")\n",
    "plt.tight_layout()\n",
    "plt.savefig(\"imgs/label_distributions.png\")\n",
    "plt.show()"
   ]
  },
  {
   "cell_type": "markdown",
   "id": "9c318739-cfdb-4316-883c-c11fda736cb0",
   "metadata": {},
   "source": [
    "Clearly, the age and ethnicity labels are significantly imbalanced while the gender label is quite balanced. This makes the gender label attractive for a simple model as it does not require very sophisticated preprocessing to deal with class imbalances."
   ]
  }
 ],
 "metadata": {
  "kernelspec": {
   "display_name": "Python 3 (ipykernel)",
   "language": "python",
   "name": "python3"
  },
  "language_info": {
   "codemirror_mode": {
    "name": "ipython",
    "version": 3
   },
   "file_extension": ".py",
   "mimetype": "text/x-python",
   "name": "python",
   "nbconvert_exporter": "python",
   "pygments_lexer": "ipython3",
   "version": "3.11.7"
  }
 },
 "nbformat": 4,
 "nbformat_minor": 5
}
