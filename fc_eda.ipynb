{
 "cells": [
  {
   "cell_type": "markdown",
   "id": "5d703a2e-3a31-4fec-9889-d70aab84c0a3",
   "metadata": {},
   "source": [
    "# Face classifier"
   ]
  },
  {
   "cell_type": "markdown",
   "id": "fd2c0102-7540-4c78-ba92-c552a24cdc12",
   "metadata": {},
   "source": [
    "## Set up"
   ]
  },
  {
   "cell_type": "code",
   "execution_count": null,
   "id": "c9e4be5a-8792-4f83-9ec3-2a58cca9e06e",
   "metadata": {},
   "outputs": [],
   "source": [
    "import pandas as pd\n",
    "import numpy as np\n",
    "import seaborn as sns\n",
    "import matplotlib.pyplot as plt"
   ]
  },
  {
   "cell_type": "markdown",
   "id": "00bec25b-11be-414b-9815-9743234566ef",
   "metadata": {},
   "source": [
    "## Load data"
   ]
  },
  {
   "cell_type": "code",
   "execution_count": null,
   "id": "592f911a-1b01-4cbd-a8ec-f85cac46c4d3",
   "metadata": {},
   "outputs": [],
   "source": [
    "data = pd.read_csv(\"../data/age_gender.csv\")"
   ]
  },
  {
   "cell_type": "markdown",
   "id": "0fe38d3b-59b8-4ea0-82ff-f5d458a9e8de",
   "metadata": {},
   "source": [
    "## EDA"
   ]
  },
  {
   "cell_type": "code",
   "execution_count": null,
   "id": "5cc9bc16-cc6d-43e7-8bb4-6b1af65a38aa",
   "metadata": {},
   "outputs": [],
   "source": [
    "data.shape"
   ]
  },
  {
   "cell_type": "code",
   "execution_count": null,
   "id": "ffeb6ada-7e19-4dd9-bf91-a2af27eacf2a",
   "metadata": {},
   "outputs": [],
   "source": [
    "data.head()"
   ]
  },
  {
   "cell_type": "code",
   "execution_count": null,
   "id": "4da365b6-762b-44c9-b5a6-70be00853632",
   "metadata": {},
   "outputs": [],
   "source": [
    "data.info()"
   ]
  },
  {
   "cell_type": "code",
   "execution_count": null,
   "id": "ea39448b-b360-4d62-9efd-3331ca763d97",
   "metadata": {},
   "outputs": [],
   "source": [
    "sns.set_style(\"whitegrid\")\n",
    "\n",
    "fig, axs = plt.subplots(1,3, figsize=(12,4))\n",
    "sns.histplot(data = data, \n",
    "             x=\"age\", \n",
    "             binrange=(0,120),\n",
    "             bins=30,\n",
    "             ax=axs[0]\n",
    "             )\n",
    "axs[0].set_title(\"Age distribution\")\n",
    "\n",
    "sns.countplot(data = data, \n",
    "             x=\"ethnicity\", \n",
    "             ax=axs[1]\n",
    "             )\n",
    "axs[1].set_title(\"Ethnicity distribution\")\n",
    "\n",
    "sns.countplot(data = data, \n",
    "             x=\"gender\", \n",
    "             ax=axs[2]\n",
    "             )\n",
    "axs[2].set_title(\"Gender distribution\")\n",
    "plt.tight_layout()\n",
    "plt.show()"
   ]
  },
  {
   "cell_type": "code",
   "execution_count": null,
   "id": "11d2f653-c3dc-49a8-9089-d578e34798ac",
   "metadata": {},
   "outputs": [],
   "source": [
    "def pxlstring2pxlvec(df: pd.DataFrame, idx: int) -> np.ndarray:\n",
    "    \"\"\"\n",
    "    Takes in a string of space-separated integers and converts it into\n",
    "    an 1D array of integers corresponding to the vectorized array of\n",
    "    pixel values.\n",
    "    \"\"\"\n",
    "    pxl_str = df[\"pixels\"][idx]\n",
    "    pxl_list = pxl_str.split(\" \")\n",
    "    n_pxls = len(pxl_list)\n",
    "\n",
    "    img_dim = np.sqrt(n_pxls)\n",
    "    assert float(int(img_dim)) == img_dim\n",
    "    img_dim = int(img_dim)\n",
    "\n",
    "    img = np.array(pxl_list, dtype=int)\n",
    "    return img\n",
    "    \n",
    "def pxlvec2pxlarray(pxlvec: np.ndarray) -> np.ndarray:\n",
    "    \"\"\"\n",
    "    Takes in a pixel vector and converts it into an array of integers\n",
    "    corresponding to the array of pixel values.\n",
    "    \"\"\"\n",
    "    vec_dim = pxlvec.shape[0]\n",
    "    arr_dim = int(np.sqrt(vec_dim))\n",
    "    return pxlvec.reshape(arr_dim, arr_dim)"
   ]
  },
  {
   "cell_type": "code",
   "execution_count": null,
   "id": "0851a16b-0f26-4faa-a79f-381db392f262",
   "metadata": {},
   "outputs": [],
   "source": [
    "fig, axs = plt.subplots(3,5, figsize=(10,6))\n",
    "\n",
    "for i in range(3):\n",
    "    for j in range(5):\n",
    "        img = pxlvec2pxlarray(pxlstring2pxlvec(data,i*2000+j))\n",
    "        axs[i,j].imshow(img, interpolation = \"nearest\", cmap=\"gray\")\n",
    "        axs[i,j].axis(\"off\")\n",
    "        axs[i,j].set_title(f\"Image #{i*2000+j}\")\n",
    "\n",
    "fig.suptitle(\"Example images\")\n",
    "plt.show()"
   ]
  }
 ],
 "metadata": {
  "kernelspec": {
   "display_name": "Python 3 (ipykernel)",
   "language": "python",
   "name": "python3"
  },
  "language_info": {
   "codemirror_mode": {
    "name": "ipython",
    "version": 3
   },
   "file_extension": ".py",
   "mimetype": "text/x-python",
   "name": "python",
   "nbconvert_exporter": "python",
   "pygments_lexer": "ipython3",
   "version": "3.10.9"
  }
 },
 "nbformat": 4,
 "nbformat_minor": 5
}
