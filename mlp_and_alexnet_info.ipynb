{
 "cells": [
  {
   "cell_type": "code",
   "execution_count": null,
   "id": "ce273fc1-662b-45e2-92b2-1d68398eb009",
   "metadata": {},
   "outputs": [],
   "source": [
    "from pathlib import Path\n",
    "\n",
    "import numpy as np\n",
    "import pandas as pd\n",
    "import matplotlib.pyplot as plt\n",
    "\n",
    "from tensorflow import keras\n",
    "from tensorflow.keras.utils import plot_model"
   ]
  },
  {
   "cell_type": "code",
   "execution_count": null,
   "id": "853dd77d-b03f-42d9-8d2e-1f2598f36181",
   "metadata": {},
   "outputs": [],
   "source": [
    "model_root = Path(\"results/models/GenderClassifier/\")"
   ]
  },
  {
   "cell_type": "code",
   "execution_count": null,
   "id": "ec26d8eb-ab1f-4eab-b706-0f698b720ddf",
   "metadata": {},
   "outputs": [],
   "source": [
    "anet_names = [f.as_posix().split(\"/\")[-1] for f in model_root.glob(\"mynet*\")]\n",
    "anet_names"
   ]
  },
  {
   "cell_type": "code",
   "execution_count": null,
   "id": "d8abd8d8-bd08-472c-b049-85e604e7d248",
   "metadata": {},
   "outputs": [],
   "source": [
    "models = dict()\n",
    "for model_name in anet_names:\n",
    "    models[model_name] = keras.models.load_model(model_root / \n",
    "                                                 model_name / \n",
    "                                                 f'{model_name}__nepochs10.keras')"
   ]
  },
  {
   "cell_type": "code",
   "execution_count": null,
   "id": "2d4dcd58-bf75-453f-a33a-ee318415ed9c",
   "metadata": {},
   "outputs": [],
   "source": [
    "for name, model in models.items():\n",
    "    print(name)\n",
    "    print(\"=\"*len(name))\n",
    "    print(model.summary())\n",
    "    print()"
   ]
  },
  {
   "cell_type": "code",
   "execution_count": null,
   "id": "3a3c23ed-79cc-4ff1-8c02-b097a3947426",
   "metadata": {},
   "outputs": [],
   "source": [
    "mlp_names = [f.as_posix().split(\"/\")[-1] for f in model_root.glob(\"mlp*\")]\n",
    "mlp_names"
   ]
  },
  {
   "cell_type": "code",
   "execution_count": null,
   "id": "ed743473-72b0-4d76-8b1b-6fd4418d2405",
   "metadata": {},
   "outputs": [],
   "source": [
    "mlps = dict()\n",
    "for mlp_name in mlp_names:\n",
    "    mlps[mlp_name] = keras.models.load_model(model_root / \n",
    "                                             mlp_name / \n",
    "                                             f'{mlp_name}.keras')"
   ]
  },
  {
   "cell_type": "code",
   "execution_count": null,
   "id": "c18333b8-0b0a-4acd-bb42-fecb97d8c9c9",
   "metadata": {},
   "outputs": [],
   "source": [
    "for name, model in mlps.items():\n",
    "    print(name)\n",
    "    print(\"=\"*len(name))\n",
    "    print(model.summary())\n",
    "    print()"
   ]
  },
  {
   "cell_type": "code",
   "execution_count": null,
   "id": "df8d444e-24a9-4a18-9c23-afa135660b39",
   "metadata": {},
   "outputs": [],
   "source": [
    "anet_ds = dict()\n",
    "for model_name in anet_names:\n",
    "    anet_ds[model_name] = pd.read_csv(model_root / model_name / f'data_set_indices__{model_name}.csv')"
   ]
  },
  {
   "cell_type": "code",
   "execution_count": null,
   "id": "34925243-cd0e-4338-9dda-2eeaa66a0132",
   "metadata": {},
   "outputs": [],
   "source": [
    "for name, ds in anet_ds.items():\n",
    "    print(name)\n",
    "    print(\"=\"*len(name))\n",
    "    print(\"#training:\", ds[\"train_idx\"].count())\n",
    "    print(\"#validation:\", ds[\"val_idx\"].count())\n",
    "    print(\"#test:\", ds[\"test_idx\"].count())\n",
    "    print()"
   ]
  },
  {
   "cell_type": "code",
   "execution_count": null,
   "id": "65dfef92-7983-432e-ab59-3caa26e69b89",
   "metadata": {},
   "outputs": [],
   "source": [
    "mlp_ds = dict()\n",
    "for model_name in mlp_names:\n",
    "    mlp_ds[model_name] = pd.read_csv(model_root / model_name / f'data_set_indices__{model_name}.csv')"
   ]
  },
  {
   "cell_type": "code",
   "execution_count": null,
   "id": "c3290868-5cbc-4ae8-9835-77d753e4e431",
   "metadata": {},
   "outputs": [],
   "source": [
    "for name, ds in mlp_ds.items():\n",
    "    print(name)\n",
    "    print(\"=\"*len(name))\n",
    "    print(\"#training:\", ds[\"train_idx\"].count())\n",
    "    print(\"#validation:\", ds[\"val_idx\"].count())\n",
    "    print(\"#test:\", ds[\"test_idx\"].count())\n",
    "    print()"
   ]
  },
  {
   "cell_type": "code",
   "execution_count": null,
   "id": "d2a34bc0-9657-4888-880d-f04744e9b567",
   "metadata": {},
   "outputs": [],
   "source": [
    "plot_model(models[\"mynet_gender_001\"], to_file='mynet_gender_001.png', show_shapes=True, show_layer_names=True)"
   ]
  },
  {
   "cell_type": "code",
   "execution_count": null,
   "id": "8c7dd8d8-212f-4580-91d1-c2aec525e816",
   "metadata": {},
   "outputs": [],
   "source": []
  }
 ],
 "metadata": {
  "kernelspec": {
   "display_name": "Python 3 (ipykernel)",
   "language": "python",
   "name": "python3"
  },
  "language_info": {
   "codemirror_mode": {
    "name": "ipython",
    "version": 3
   },
   "file_extension": ".py",
   "mimetype": "text/x-python",
   "name": "python",
   "nbconvert_exporter": "python",
   "pygments_lexer": "ipython3",
   "version": "3.11.9"
  }
 },
 "nbformat": 4,
 "nbformat_minor": 5
}
