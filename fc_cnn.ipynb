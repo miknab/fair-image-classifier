{
 "cells": [
  {
   "cell_type": "markdown",
   "id": "5d703a2e-3a31-4fec-9889-d70aab84c0a3",
   "metadata": {},
   "source": [
    "# Face classifier"
   ]
  },
  {
   "cell_type": "markdown",
   "id": "fd2c0102-7540-4c78-ba92-c552a24cdc12",
   "metadata": {},
   "source": [
    "## Set up"
   ]
  },
  {
   "cell_type": "code",
   "execution_count": null,
   "id": "c9e4be5a-8792-4f83-9ec3-2a58cca9e06e",
   "metadata": {},
   "outputs": [],
   "source": [
    "# Stdlib imports\n",
    "from pathlib import Path\n",
    "import os\n",
    "\n",
    "# 3rd party imports\n",
    "import pandas as pd\n",
    "import numpy as np\n",
    "import seaborn as sns\n",
    "import matplotlib.pyplot as plt\n",
    "import random\n",
    "\n",
    "import tensorflow as tf\n",
    "from tensorflow import keras\n",
    "from tensorflow.keras import Input\n",
    "from tensorflow.keras.models import Sequential, Model\n",
    "from tensorflow.keras.layers import Dense, Dropout, Activation, Flatten\n",
    "from tensorflow.keras.layers import Conv2D, MaxPooling2D \n",
    "\n",
    "from sklearn.model_selection import train_test_split\n",
    "from sklearn.metrics import accuracy_score, balanced_accuracy_score \n",
    "from sklearn.metrics import classification_report, roc_curve, roc_auc_score, f1_score\n",
    "from sklearn.metrics import r2_score\n",
    "\n",
    "from IPython.display import display\n",
    "\n",
    "# Local imports\n",
    "from facecls import fcaux"
   ]
  },
  {
   "cell_type": "markdown",
   "id": "8fa7267a-b5a0-40e1-be30-5be06cc96246",
   "metadata": {},
   "source": [
    "## Configurations"
   ]
  },
  {
   "cell_type": "code",
   "execution_count": null,
   "id": "cbaaf28f-10d4-4473-b4fa-f88dc90d53f1",
   "metadata": {},
   "outputs": [],
   "source": [
    "def set_seeds(seed = 42):\n",
    "    os.environ['PYTHONHASHSEED'] = str(seed)\n",
    "    os.environ['TF_DETERMINISTIC_OPS'] = '1'\n",
    "    tf.random.set_seed(seed)\n",
    "    np.random.seed(seed)\n",
    "    random.seed(seed)\n",
    "\n",
    "seed =42\n",
    "set_seeds(seed)"
   ]
  },
  {
   "cell_type": "code",
   "execution_count": null,
   "id": "7d7032ed-29bf-4d35-89a0-483eb35a1898",
   "metadata": {},
   "outputs": [],
   "source": [
    "target = \"gender\""
   ]
  },
  {
   "cell_type": "code",
   "execution_count": null,
   "id": "1aeb5e24-1972-4011-aa9e-9138cdbea779",
   "metadata": {},
   "outputs": [],
   "source": [
    "models_dir = Path(f\"results/models/{target.title()}Classifier/\")\n",
    "\n",
    "try:\n",
    "    last_model_id = max([int(folder.as_posix().split(\"_\")[2]) for folder in models_dir.glob('alexnet*')])\n",
    "except ValueError:\n",
    "    last_model_id = 0\n",
    "\n",
    "print(\"Last model id:\", last_model_id)\n",
    "\n",
    "new_model_id = last_model_id + 1\n",
    "file_suffix = f\"alexnet_{target}_{str(new_model_id).zfill(3)}\"\n",
    "new_model_dir = models_dir / file_suffix\n",
    "print(f\"Creating folder \\\"{new_model_dir}\\\"...\")\n",
    "new_model_dir.mkdir(parents=True, exist_ok=True)"
   ]
  },
  {
   "cell_type": "markdown",
   "id": "00bec25b-11be-414b-9815-9743234566ef",
   "metadata": {},
   "source": [
    "## Load data"
   ]
  },
  {
   "cell_type": "code",
   "execution_count": null,
   "id": "592f911a-1b01-4cbd-a8ec-f85cac46c4d3",
   "metadata": {},
   "outputs": [],
   "source": [
    "data = pd.read_csv(\"data/age_gender_preproc.csv\")"
   ]
  },
  {
   "cell_type": "markdown",
   "id": "a5ea15cf-c831-4751-a229-b5be363ee4af",
   "metadata": {},
   "source": [
    "## Challenger model: CNN classifier"
   ]
  },
  {
   "cell_type": "code",
   "execution_count": null,
   "id": "d72b9aae-4e0d-401a-9b8c-2076c7b88835",
   "metadata": {},
   "outputs": [],
   "source": [
    "full_img_vec_list = np.array([fcaux.pxlstring2pxlvec(data, i) for i in range(data.shape[0])])\n",
    "full_img_array_list = np.array([fcaux.pxlvec2pxlarray(img_vec) for img_vec in full_img_vec_list])"
   ]
  },
  {
   "cell_type": "markdown",
   "id": "7690400a-d40e-494c-84d6-a4bf8b7a19b5",
   "metadata": {},
   "source": [
    "### Data split"
   ]
  },
  {
   "cell_type": "code",
   "execution_count": null,
   "id": "834e62d5-f174-410c-ad2d-7fbe1da404ca",
   "metadata": {},
   "outputs": [],
   "source": [
    "indeces = list(range(len(full_img_array_list)))"
   ]
  },
  {
   "cell_type": "code",
   "execution_count": null,
   "id": "a09703ba-a7ef-4e21-a0ca-106f1739f33f",
   "metadata": {},
   "outputs": [],
   "source": [
    "if \"age\" in target and not(target == \"age_cat\"):\n",
    "    idx_train, idx_test = train_test_split(indeces,\n",
    "                                           test_size = 0.2,\n",
    "                                           random_state=seed)\n",
    "    idx_train, idx_val  = train_test_split(idx_train,\n",
    "                                           test_size = 0.1,\n",
    "                                           random_state=seed)\n",
    "\n",
    "    X_train = full_img_array_list[idx_train]\n",
    "    y_train = data[target].values[idx_train]\n",
    "    X_val = full_img_array_list[idx_val]\n",
    "    y_val = data[target].values[idx_val]\n",
    "    X_test = full_img_array_list[idx_test]\n",
    "    y_test = data[target].values[idx_test]\n",
    "    test_attrs = data[[\"age\", \"ethnicity\", \"gender\"]].iloc[idx_test]\n",
    "\n",
    "else:\n",
    "    idx_train, idx_test = train_test_split(indeces, \n",
    "                                           test_size = 0.2,\n",
    "                                           stratify = data[target].values,\n",
    "                                           random_state=seed\n",
    "                                           )\n",
    "\n",
    "    idx_train, idx_val  = train_test_split(idx_train, \n",
    "                                           test_size = 0.1,\n",
    "                                           stratify = data[target].values[idx_train],\n",
    "                                           random_state=seed\n",
    "                                           )\n",
    "\n",
    "    X_train = full_img_array_list[idx_train]\n",
    "    y_train = data[target].values[idx_train]\n",
    "    X_val = full_img_array_list[idx_val]\n",
    "    y_val = data[target].values[idx_val]\n",
    "    X_test = full_img_array_list[idx_test]\n",
    "    y_test = data[target].values[idx_test]\n",
    "    test_attrs = data[[\"age\", \"ethnicity\", \"gender\"]].iloc[idx_test]"
   ]
  },
  {
   "cell_type": "code",
   "execution_count": null,
   "id": "a35dfb7f-450c-4f82-a5f4-167ee23f433e",
   "metadata": {},
   "outputs": [],
   "source": [
    "print(\"#training:\", len(X_train))\n",
    "print(\"#validation:\", len(X_val))\n",
    "print(\"#test:\", len(X_test))"
   ]
  },
  {
   "cell_type": "code",
   "execution_count": null,
   "id": "ccfb83dc-d1b7-4c7c-b4f4-fc941acae340",
   "metadata": {},
   "outputs": [],
   "source": [
    "idx_val += (len(idx_train) - len(idx_val))*[np.nan]\n",
    "idx_test += (len(idx_train) - len(idx_test))*[np.nan]\n",
    "\n",
    "assert len(idx_train) == len(idx_val)\n",
    "assert len(idx_train) == len(idx_test)\n",
    "\n",
    "idx_df = pd.DataFrame({\"train_idx\": idx_train,\n",
    "                       \"val_idx\": idx_val,\n",
    "                       \"test_idx\": idx_test}, dtype=\"Int64\")\n",
    "\n",
    "idx_df.to_csv(new_model_dir / f\"data_set_indices__{file_suffix}.csv\", index=False)"
   ]
  },
  {
   "cell_type": "markdown",
   "id": "946e9e2b-e332-4fc1-bda2-19d6fe409702",
   "metadata": {},
   "source": [
    "### Data preprocessing"
   ]
  },
  {
   "cell_type": "code",
   "execution_count": null,
   "id": "15455a88-020c-43ca-9e69-bc510024f2ab",
   "metadata": {},
   "outputs": [],
   "source": [
    "X_train = X_train.reshape(X_train.shape + (1,))\n",
    "X_val = X_val.reshape(X_val.shape + (1,))\n",
    "X_test = X_test.reshape(X_test.shape + (1,))"
   ]
  },
  {
   "cell_type": "code",
   "execution_count": null,
   "id": "26f9ab82-b0c0-48ee-9c75-97db1775a0d1",
   "metadata": {},
   "outputs": [],
   "source": [
    "X_train = X_train.astype(\"float32\")\n",
    "X_val = X_val.astype(\"float32\")\n",
    "X_test = X_test.astype(\"float32\")\n",
    "X_train /= 255\n",
    "X_val /= 255\n",
    "X_test /= 255\n",
    "\n",
    "if target == \"age_cat\":\n",
    "    y_train /= age_diff\n",
    "    y_val /= age_diff\n",
    "    y_test /= age_diff"
   ]
  },
  {
   "cell_type": "code",
   "execution_count": null,
   "id": "113635ff-1de2-418a-87c4-cb170a4f9e41",
   "metadata": {},
   "outputs": [],
   "source": [
    "if \"age\" in target and not(target == \"age_cat\"):\n",
    "    num_classes = 0\n",
    "else:\n",
    "    num_classes = data[target].nunique()\n",
    "    y_train = keras.utils.to_categorical(y_train, num_classes)\n",
    "    y_val = keras.utils.to_categorical(y_val, num_classes)\n",
    "\n",
    "print(\"num_classes =\", num_classes)"
   ]
  },
  {
   "cell_type": "markdown",
   "id": "12ffaf94-cd2e-41a8-b71e-fc8fea56c4dd",
   "metadata": {},
   "source": [
    "### Building the CNN model (AlexNet architecture)"
   ]
  },
  {
   "cell_type": "code",
   "execution_count": null,
   "id": "b9cc5873-a191-4289-bc9b-744eec02ac86",
   "metadata": {},
   "outputs": [],
   "source": [
    "def create_alex_net_model(num_classes):\n",
    "    input_img = Input(shape=(48,48,1))\n",
    "    conv1 = Conv2D(16, (3,3), padding=\"same\", strides=(1,1))(input_img)\n",
    "    activ1 = Activation(\"relu\")(conv1)\n",
    "    conv2 = Conv2D(32, (5,5), strides=(1,1))(activ1)\n",
    "    activ2 = Activation(\"relu\")(conv2)\n",
    "    pool1 = MaxPooling2D(pool_size=(2,2))(activ2)\n",
    "    conv3 = Conv2D(64, (5,5), strides=(1,1))(pool1)\n",
    "    activ3 = Activation(\"relu\")(conv3)\n",
    "    pool2 = MaxPooling2D(pool_size=(2,2))(activ3)\n",
    "    flat = Flatten()(pool2)\n",
    "    dense1 = Dense(128, activation=\"relu\")(flat) # previously: 128\n",
    "    dense1 = Dense(128, activation=\"relu\")(dense1)\n",
    "    \n",
    "    if num_classes == 2:\n",
    "        out = Dense(num_classes, activation=\"sigmoid\")(dense1)\n",
    "    elif num_classes > 2:\n",
    "        out = Dense(num_classes, activation=\"softmax\")(dense1)\n",
    "    else:\n",
    "        out = Dense(1, activation=\"linear\")(dense1)\n",
    "\n",
    "    model = Model(input_img, out)\n",
    "\n",
    "    adam = keras.optimizers.Adam()\n",
    "\n",
    "    if num_classes == 2:\n",
    "        loss = \"binary_crossentropy\"\n",
    "        metrics_list = [\"accuracy\"]\n",
    "        \n",
    "    elif num_classes > 2:\n",
    "        loss = \"categorical_crossentropy\"\n",
    "        metrics_list = [\"accuracy\"]\n",
    "        \n",
    "    else:\n",
    "        loss = \"mean_squared_error\"\n",
    "        #loss = \"mean_absolute_percentage_error\"\n",
    "        metrics_list = [\"r2_score\", \"mean_squared_error\", \"mean_absolute_percentage_error\"]\n",
    "        \n",
    "    model.compile(optimizer=adam,\n",
    "                  loss=loss,\n",
    "                  metrics=metrics_list\n",
    "                 )\n",
    "\n",
    "    return model"
   ]
  },
  {
   "cell_type": "code",
   "execution_count": null,
   "id": "e2dbe3c6-383b-44ea-82a2-527d7aefe63d",
   "metadata": {},
   "outputs": [],
   "source": [
    "set_seeds()\n",
    "alex_net = create_alex_net_model(num_classes)"
   ]
  },
  {
   "cell_type": "code",
   "execution_count": null,
   "id": "ee1c7fa6-3563-40b2-99b7-2d74818ef873",
   "metadata": {},
   "outputs": [],
   "source": [
    "alex_net.summary()"
   ]
  },
  {
   "cell_type": "markdown",
   "id": "356273cc-011f-490a-8b81-dc108bce0846",
   "metadata": {},
   "source": [
    "### Train model until overfitting"
   ]
  },
  {
   "cell_type": "code",
   "execution_count": null,
   "id": "4370ab73-2d95-4dd7-b896-9093c8145cd9",
   "metadata": {},
   "outputs": [],
   "source": [
    "n_epochs = 10\n",
    "an_history = alex_net.fit(X_train, y_train,\n",
    "                          epochs=n_epochs,\n",
    "                          batch_size=32,\n",
    "                          validation_data=(X_val, y_val),\n",
    "                          shuffle=True\n",
    "                         )             "
   ]
  },
  {
   "cell_type": "code",
   "execution_count": null,
   "id": "231f4c5b-172a-4e4d-86c1-4d782d9b19a6",
   "metadata": {},
   "outputs": [],
   "source": [
    "alex_net.save(new_model_dir / f'{file_suffix}__nepochs{n_epochs}.keras')"
   ]
  },
  {
   "cell_type": "code",
   "execution_count": null,
   "id": "047264f0-fe17-42c9-b74d-6005cfc37f1a",
   "metadata": {},
   "outputs": [],
   "source": [
    "history = alex_net.history.history\n",
    "n_epochs = len(history[list(history.keys())[0]])\n",
    "history[\"epoch\"] = list(range(1, n_epochs+1))\n",
    "\n",
    "# in general I don't know the names of the other columns. Therefore:\n",
    "other_columns = [k for k, v in history.items() if k!=\"epoch\"] \n",
    "\n",
    "history_df = pd.DataFrame(history, columns = [\"epoch\"] + other_columns)\n",
    "file_name = f'history__{file_suffix}__nepochs{n_epochs}.csv'\n",
    "history_df.to_csv(new_model_dir / file_name, index=False)"
   ]
  },
  {
   "cell_type": "code",
   "execution_count": null,
   "id": "c9d27cb8-61dc-4c44-af36-29c658d988df",
   "metadata": {},
   "outputs": [],
   "source": [
    "fig, axs = plt.subplots(2,1, figsize=(5,4), sharex=True)\n",
    "ax = axs[0]\n",
    "ax.plot(an_history.history[\"loss\"], label=\"training\")\n",
    "ax.plot(an_history.history[\"val_loss\"], label=\"validation\")\n",
    "ax.grid(True)\n",
    "ax.set_xticks(range(n_epochs))\n",
    "ax.set_ylabel(\"Loss\")\n",
    "ax.set_title(f\"AlexNet ({target.title()})\")\n",
    "ax.legend(loc=\"best\")\n",
    "\n",
    "ax = axs[1]\n",
    "ax.plot(an_history.history[\"accuracy\"], label=\"training\")\n",
    "ax.plot(an_history.history[f\"val_accuracy\"], label=\"validation\")\n",
    "ax.grid(True)\n",
    "ax.set_xticks(range(n_epochs))\n",
    "ax.set_xlabel(\"Epochs\")\n",
    "ax.set_ylabel(\"Accuracy\")#metric.title())\n",
    "ax.legend(loc=\"best\")\n",
    "\n",
    "plt.savefig(new_model_dir / f\"loss_curve__{file_suffix}__nepochs{n_epochs}.png\",\n",
    "            bbox_inches='tight')\n",
    "plt.show()"
   ]
  },
  {
   "cell_type": "markdown",
   "id": "8e5b6ff8-4486-44d0-9df1-93b05a0e648f",
   "metadata": {},
   "source": [
    "### Refit model with optimal number of epochs\n",
    "\n",
    "Remark: optimal number of epochs = number of epochs leading to minimal validation loss"
   ]
  },
  {
   "cell_type": "code",
   "execution_count": null,
   "id": "72da928a-5202-4f06-979a-8273c67fc444",
   "metadata": {},
   "outputs": [],
   "source": [
    "set_seeds()\n",
    "n_epochs = np.argmin(an_history.history[\"val_loss\"])\n",
    "print(f\"Optimal epoch: #{n_epochs}.\")\n",
    "alex_net_refit = create_alex_net_model(num_classes)\n",
    "\n",
    "refit_history = alex_net_refit.fit(X_train, y_train,\n",
    "                                   epochs=n_epochs,\n",
    "                                   batch_size=32,\n",
    "                                   validation_data=(X_val, y_val),\n",
    "                                   shuffle=True\n",
    "                                  )    \n",
    "\n",
    "alex_net_refit.save(new_model_dir / f'{file_suffix}__refit_nepochs{n_epochs}.keras')"
   ]
  },
  {
   "cell_type": "code",
   "execution_count": null,
   "id": "65feabb0-a95f-4246-8168-dda62475bcc3",
   "metadata": {},
   "outputs": [],
   "source": [
    "refit_history = alex_net_refit.history.history\n",
    "n_epochs = len(refit_history[list(refit_history.keys())[0]])\n",
    "history[\"epoch\"] = list(range(1, n_epochs+1))\n",
    "\n",
    "# in general I don't know the names of the other columns. Therefore:\n",
    "other_columns = [k for k, v in refit_history.items() if k!=\"epoch\"] \n",
    "\n",
    "refit_history_df = pd.DataFrame(refit_history, columns = [\"epoch\"] + other_columns)\n",
    "file_name = f'history__{file_suffix}__refit__nepochs{n_epochs}.csv'\n",
    "#refit_history_df.to_csv(new_model_dir / file_name, index=False)"
   ]
  },
  {
   "cell_type": "code",
   "execution_count": null,
   "id": "7f58ef33-fac6-4183-b2a6-146b9d614ccb",
   "metadata": {},
   "outputs": [],
   "source": [
    "fig, axs = plt.subplots(2,1, figsize=(5,4), sharex=True)\n",
    "ax = axs[0]\n",
    "ax.plot(refit_history[\"loss\"], label=\"training\")\n",
    "ax.plot(refit_history[\"val_loss\"], label=\"validation\")\n",
    "ax.grid(True)\n",
    "ax.set_xticks(range(n_epochs))\n",
    "ax.set_ylabel(\"Loss\")\n",
    "ax.set_title(f\"AlexNet ({target.title()})\")\n",
    "ax.legend(loc=\"best\")\n",
    "\n",
    "ax = axs[1]\n",
    "ax.plot(refit_history[\"accuracy\"], label=\"training\")\n",
    "ax.plot(refit_history[f\"val_accuracy\"], label=\"validation\")\n",
    "ax.grid(True)\n",
    "ax.set_xticks(range(n_epochs))\n",
    "ax.set_xlabel(\"Epochs\")\n",
    "ax.set_ylabel(\"Accuracy\")#metric.title())\n",
    "ax.legend(loc=\"best\")\n",
    "\n",
    "plt.savefig(new_model_dir / f\"loss_curve__{file_suffix}__refit_nepochs{n_epochs}.png\",\n",
    "            bbox_inches='tight')\n",
    "plt.show()"
   ]
  },
  {
   "cell_type": "code",
   "execution_count": null,
   "id": "eb0f9644-eadd-4f90-a204-8856a1abb571",
   "metadata": {},
   "outputs": [],
   "source": [
    "y_prob_train = alex_net.predict(X_train)\n",
    "y_pred_train = np.array([np.argmax(i) for i in y_prob_train])\n",
    "\n",
    "y_prob_val = alex_net.predict(X_val)\n",
    "y_pred_val = np.array([np.argmax(i) for i in y_prob_val])\n",
    "\n",
    "y_prob_test = alex_net.predict(X_test)\n",
    "y_pred_test = np.array([np.argmax(i) for i in y_prob_test])"
   ]
  },
  {
   "cell_type": "code",
   "execution_count": null,
   "id": "03160d32-1010-4a1d-87f1-7e332107f20a",
   "metadata": {},
   "outputs": [],
   "source": [
    "train_metrics = {\"accuracy\": accuracy_score(np.array([np.argmax(i) for i in y_train]), y_pred_train),\n",
    "                \"balanced_accuracy\": balanced_accuracy_score(np.array([np.argmax(i) for i in y_train]), y_pred_train),\n",
    "                \"roc_auc\": roc_auc_score(np.array([np.argmax(i) for i in y_train]), y_prob_train[:,1]),\n",
    "                \"F1\": f1_score(np.array([np.argmax(i) for i in y_train]), y_pred_train)}\n",
    "\n",
    "val_metrics = {\"accuracy\": accuracy_score(np.array([np.argmax(i) for i in y_val]), y_pred_val),\n",
    "                \"balanced_accuracy\": balanced_accuracy_score(np.array([np.argmax(i) for i in y_val]), y_pred_val),\n",
    "                \"roc_auc\": roc_auc_score(np.array([np.argmax(i) for i in y_val]), y_prob_val[:,1]),\n",
    "                \"F1\": f1_score(np.array([np.argmax(i) for i in y_val]), y_pred_val)}\n",
    "\n",
    "test_metrics = {\"accuracy\": accuracy_score(y_test, y_pred_test),\n",
    "                \"balanced_accuracy\": balanced_accuracy_score(y_test, y_pred_test),\n",
    "                \"roc_auc\": roc_auc_score(y_test, y_prob_test[:,1]),\n",
    "                \"F1\": f1_score(y_test, y_pred_test)}\n",
    "\n",
    "metrics_df = pd.DataFrame({\"train\": train_metrics, \n",
    "                           \"val\": val_metrics, \n",
    "                           \"test\": test_metrics})\n",
    "\n",
    "display(metrics_df)\n",
    "metrics_df.to_csv(new_model_dir / f\"metrics__{file_suffix}.csv\")"
   ]
  },
  {
   "cell_type": "code",
   "execution_count": null,
   "id": "00c31df2-5e3a-4063-a73d-fb24277a2455",
   "metadata": {},
   "outputs": [],
   "source": [
    "fpr, tpr, thr = roc_curve(y_test, y_prob_test[:,1])\n",
    "pd.DataFrame({\"FPR\": fpr, \"TPR\": tpr}).to_csv(new_model_dir / f\"fpr_vs_tpr__{file_suffix}.csv\")"
   ]
  },
  {
   "cell_type": "code",
   "execution_count": null,
   "id": "4aabda4a-a6c3-4854-9b3b-18685f23a408",
   "metadata": {},
   "outputs": [],
   "source": [
    "fig, ax = plt.subplots()\n",
    "ax.plot(fpr,tpr)\n",
    "ax.plot([0,1], [0,1], ls=\"--\", c=\"k\")\n",
    "ax.grid(True)\n",
    "ax.set_xlabel(\"False Positive Rate\")\n",
    "ax.set_ylabel(\"True Positive Rate\")\n",
    "ax.set_title(f\"{target.title()} -- ROC AUC: {np.round(roc_auc_score(y_test, y_prob_test[:,1]),4)}\")\n",
    "plt.tight_layout()\n",
    "plt.savefig(new_model_dir / f\"roc_curve__{file_suffix}.png\",\n",
    "            bbox_inches='tight')\n",
    "plt.show()"
   ]
  },
  {
   "cell_type": "code",
   "execution_count": null,
   "id": "d7653854-24ca-4abf-a9ce-0c2b868f0235",
   "metadata": {},
   "outputs": [],
   "source": [
    "cls_report = pd.DataFrame(classification_report(y_test, y_pred_test, output_dict=True))\n",
    "cls_report.to_csv(new_model_dir / f\"classificationo_report__{file_suffix}.png\")"
   ]
  },
  {
   "cell_type": "markdown",
   "id": "a3833330-dcfe-470c-ac9b-a0dfb1af2d6d",
   "metadata": {},
   "source": [
    "### Analysis"
   ]
  },
  {
   "cell_type": "code",
   "execution_count": null,
   "id": "4181057f-49e5-40ec-ac38-121a03a39324",
   "metadata": {},
   "outputs": [],
   "source": [
    "test_data = data.iloc[[i for i in idx_test if i==i]].reset_index(drop=True)"
   ]
  },
  {
   "cell_type": "code",
   "execution_count": null,
   "id": "76be5b2f-7752-415d-9347-8054c80ecdf9",
   "metadata": {},
   "outputs": [],
   "source": [
    "ethnicity_groups = dict()\n",
    "\n",
    "for ethn_idx in test_data[\"ethnicity\"].unique():\n",
    "    ethnicity_groups[ethn_idx] = list(test_data[test_data[\"ethnicity\"]==ethn_idx].index)"
   ]
  },
  {
   "cell_type": "code",
   "execution_count": null,
   "id": "7067a05b-52ad-467a-860d-42a0302e0036",
   "metadata": {},
   "outputs": [],
   "source": [
    "performance_by_ethnicity = dict()\n",
    "for ethn in range(5):\n",
    "    y_prob_ethn = alex_net.predict(X_test[ethnicity_groups[ethn]])\n",
    "    y_pred_ethn = np.array([np.argmax(i) for i in y_prob_ethn])\n",
    "    acc = accuracy_score(y_test[ethnicity_groups[ethn]], y_pred_ethn)\n",
    "    rocauc = roc_auc_score(y_test[ethnicity_groups[ethn]], y_pred_ethn)\n",
    "\n",
    "    performance_by_ethnicity[ethn] = {\"accuracy\": acc, \n",
    "                                      \"ROC_AUC\": rocauc}\n",
    "\n",
    "# Convert to data frame for easier plotting\n",
    "performance_by_ethnicity_df = pd.DataFrame(performance_by_ethnicity).transpose()"
   ]
  },
  {
   "cell_type": "code",
   "execution_count": null,
   "id": "8e7ec0c2-efc7-4c4c-bc9a-eb6e21d8aa38",
   "metadata": {},
   "outputs": [],
   "source": [
    "age_groups = dict()\n",
    "\n",
    "for age_idx in test_data[\"age_decades\"].unique():\n",
    "    age_groups[age_idx] = list(test_data[test_data[\"age_decades\"]==age_idx].index)"
   ]
  },
  {
   "cell_type": "code",
   "execution_count": null,
   "id": "2a29840e-257a-4047-b2e3-81da37c20385",
   "metadata": {},
   "outputs": [],
   "source": [
    "performance_by_age = dict()\n",
    "for age_idx in test_data[\"age_decades\"].unique():\n",
    "    y_prob_age = alex_net.predict(X_test[age_groups[age_idx]])\n",
    "    y_pred_age = np.array([np.argmax(i) for i in y_prob_age])\n",
    "    acc = accuracy_score(y_test[age_groups[age_idx]], y_pred_age)\n",
    "    try:\n",
    "        rocauc = roc_auc_score(y_test[age_groups[age_idx]], y_pred_age)\n",
    "    except ValueError:\n",
    "        rocauc = np.nan\n",
    "\n",
    "    performance_by_age[age_idx] = {\"accuracy\": acc, \n",
    "                                      \"ROC_AUC\": rocauc}\n",
    "\n",
    "sorted_columns = sorted([k for k,v in performance_by_age.items()])\n",
    "performance_by_age_df = pd.DataFrame(performance_by_age, \n",
    "                                     columns = sorted_columns).transpose()"
   ]
  },
  {
   "cell_type": "code",
   "execution_count": null,
   "id": "4e7dcb44-2cc7-4110-b3da-89ce57c3687d",
   "metadata": {},
   "outputs": [],
   "source": [
    "fig, axs = plt.subplots(1,2, figsize=(10,4), sharey=True, gridspec_kw = {\"hspace\": 0.07})\n",
    "ax = axs[0]\n",
    "performance_by_ethnicity_df.plot(kind=\"bar\", ax = ax, grid=True, legend=False)\n",
    "ax.set_xlabel(\"Ethnicity\")\n",
    "ax.set_ylabel(\"Metric\")\n",
    "\n",
    "ax = axs[1]\n",
    "performance_by_age_df.plot(kind=\"bar\", ax = ax, grid=True)\n",
    "ax.set_xlabel(\"Age (decade)\")\n",
    "ax.legend(loc=\"center\", bbox_to_anchor=(-0.15,-0.2), ncol=2)\n",
    "\n",
    "fig.suptitle(\"Classification performance by ethnicity and age group\")\n",
    "\n",
    "plt.savefig(new_model_dir / f\"cls_performance_analysis__{file_suffix}\", \n",
    "            bbox_inches='tight')\n",
    "plt.show()"
   ]
  },
  {
   "cell_type": "code",
   "execution_count": null,
   "id": "15ac7332-6518-4985-81f7-c4cedc0e5b67",
   "metadata": {},
   "outputs": [],
   "source": []
  }
 ],
 "metadata": {
  "kernelspec": {
   "display_name": "Python 3 (ipykernel)",
   "language": "python",
   "name": "python3"
  },
  "language_info": {
   "codemirror_mode": {
    "name": "ipython",
    "version": 3
   },
   "file_extension": ".py",
   "mimetype": "text/x-python",
   "name": "python",
   "nbconvert_exporter": "python",
   "pygments_lexer": "ipython3",
   "version": "3.11.9"
  }
 },
 "nbformat": 4,
 "nbformat_minor": 5
}
