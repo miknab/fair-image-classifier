{
 "cells": [
  {
   "cell_type": "markdown",
   "id": "5d703a2e-3a31-4fec-9889-d70aab84c0a3",
   "metadata": {},
   "source": [
    "# Face classification with Neural Networks"
   ]
  },
  {
   "cell_type": "markdown",
   "id": "fd2c0102-7540-4c78-ba92-c552a24cdc12",
   "metadata": {},
   "source": [
    "## Set up"
   ]
  },
  {
   "cell_type": "code",
   "execution_count": 1,
   "id": "c9e4be5a-8792-4f83-9ec3-2a58cca9e06e",
   "metadata": {},
   "outputs": [
    {
     "name": "stderr",
     "output_type": "stream",
     "text": [
      "2024-07-08 02:57:06.699452: I tensorflow/core/platform/cpu_feature_guard.cc:210] This TensorFlow binary is optimized to use available CPU instructions in performance-critical operations.\n",
      "To enable the following instructions: AVX2 FMA, in other operations, rebuild TensorFlow with the appropriate compiler flags.\n"
     ]
    }
   ],
   "source": [
    "# Stdlib imports\n",
    "from pathlib import Path\n",
    "import os\n",
    "\n",
    "# 3rd party imports\n",
    "import pandas as pd\n",
    "import numpy as np\n",
    "import seaborn as sns\n",
    "import matplotlib.pyplot as plt\n",
    "import random\n",
    "\n",
    "from PIL import Image\n",
    "\n",
    "import tensorflow as tf\n",
    "from tensorflow import keras\n",
    "from tensorflow.keras import Input\n",
    "from tensorflow.keras.models import Sequential, Model\n",
    "from tensorflow.keras.layers import Dense, Dropout, Activation, Flatten\n",
    "from tensorflow.keras.layers import Conv2D, MaxPooling2D \n",
    "from tensorflow.keras.callbacks import EarlyStopping\n",
    "\n",
    "from sklearn.model_selection import train_test_split\n",
    "from sklearn.metrics import accuracy_score, balanced_accuracy_score \n",
    "from sklearn.metrics import classification_report, roc_curve, roc_auc_score, f1_score\n",
    "from sklearn.metrics import r2_score\n",
    "\n",
    "from IPython.display import display\n",
    "\n",
    "# Local imports\n",
    "from facecls import fcaux, fcmodels"
   ]
  },
  {
   "cell_type": "markdown",
   "id": "00bec25b-11be-414b-9815-9743234566ef",
   "metadata": {},
   "source": [
    "## Load data\n",
    "\n",
    "Let's load the preprocessed data set from the CSV file. It contains the images and four possible attributes/targets: \"gender\", \"ethnicity\", \"age\", and \"age_decades\"."
   ]
  },
  {
   "cell_type": "code",
   "execution_count": 2,
   "id": "592f911a-1b01-4cbd-a8ec-f85cac46c4d3",
   "metadata": {},
   "outputs": [],
   "source": [
    "data = pd.read_csv(\"data/age_gender_preproc.csv\")"
   ]
  },
  {
   "cell_type": "markdown",
   "id": "8fa7267a-b5a0-40e1-be30-5be06cc96246",
   "metadata": {},
   "source": [
    "## Configurations\n",
    "\n",
    "Next, we define for which of the four targets the classifier shall be trained in this notebook and with what CNN architecture:"
   ]
  },
  {
   "cell_type": "code",
   "execution_count": 3,
   "id": "7d7032ed-29bf-4d35-89a0-483eb35a1898",
   "metadata": {},
   "outputs": [],
   "source": [
    "target = \"gender\"  # other options: \"ethnicity\", \"age_decades\", \"age\"\n",
    "nn_architecture = \"my_cnn\"  # other options: \"mlp\", \"my_cnn\", \"lenet\", \"vgg\", \"resnet\""
   ]
  },
  {
   "cell_type": "markdown",
   "id": "14d32b99-c28f-431c-b11a-78449f7481b9",
   "metadata": {},
   "source": [
    "Also, we create a new directory specifically for the model that we will train in this notebook:"
   ]
  },
  {
   "cell_type": "code",
   "execution_count": 4,
   "id": "1aeb5e24-1972-4011-aa9e-9138cdbea779",
   "metadata": {},
   "outputs": [
    {
     "name": "stdout",
     "output_type": "stream",
     "text": [
      "Last model id: 0\n",
      "Creating folder \"results/models/GenderClassifier/my_cnn_gender_001\"...\n"
     ]
    }
   ],
   "source": [
    "# Define a variable containing the root directory for all models\n",
    "models_dir = Path(f\"results/models/{target.title()}Classifier/\")\n",
    "\n",
    "# Identify the ID of the last, already existing model of the specified \n",
    "# CNN architecture.\n",
    "try:\n",
    "    last_model_id = max([int(folder.as_posix().split(\"_\")[2]) \n",
    "                         for folder in models_dir.glob(f'{nn_architecture}*')\n",
    "                        ])\n",
    "except ValueError:\n",
    "    # If no model of the specified architecture exists yet, set the last \n",
    "    # model ID = 0, so that the model created now will have ID = 1\n",
    "    last_model_id = 0 \n",
    "\n",
    "# Just to check that all is right, print the identified ID of the last, existing\n",
    "# model.\n",
    "print(\"Last model id:\", last_model_id)\n",
    "\n",
    "# ID of the model that we will create now\n",
    "new_model_id = last_model_id + 1\n",
    "\n",
    "# Variable file_suffix contains info about the model architecture, the target\n",
    "# and the model ID. This variable will be reused several times in this notebook\n",
    "# and defines a naming convention.\n",
    "file_suffix = f\"{nn_architecture}_{target}_{str(new_model_id).zfill(3)}\"\n",
    "\n",
    "# Create a directory for the model created here\n",
    "new_model_dir = models_dir / file_suffix\n",
    "print(f\"Creating folder \\\"{new_model_dir}\\\"...\")\n",
    "new_model_dir.mkdir(parents=True, exist_ok=True)"
   ]
  },
  {
   "cell_type": "markdown",
   "id": "a5ea15cf-c831-4751-a229-b5be363ee4af",
   "metadata": {},
   "source": [
    "## Model build\n",
    "\n",
    "In this section, we will build the classifier using the CNN architecture defined above. The first step to do is to prepare the data:"
   ]
  },
  {
   "cell_type": "code",
   "execution_count": 5,
   "id": "fb231e39-8807-4d9b-bcfe-b986fdc78510",
   "metadata": {},
   "outputs": [],
   "source": [
    "seed = fcaux.set_seed(42)"
   ]
  },
  {
   "cell_type": "markdown",
   "id": "0488e4f3-677d-4ecb-9507-0614dcc73ccb",
   "metadata": {},
   "source": [
    "### Convert data from strings (as read from file) to arrays"
   ]
  },
  {
   "cell_type": "code",
   "execution_count": 7,
   "id": "d72b9aae-4e0d-401a-9b8c-2076c7b88835",
   "metadata": {},
   "outputs": [],
   "source": [
    "# Use helper function to convert the pixel string \n",
    "# first into a pixel vector...\n",
    "X_in = np.array([fcaux.pxlstring2pxlvec(data, i) for i in range(data.shape[0])])\n",
    "\n",
    "if nn_architecture != \"mlp\":\n",
    "    # ...and, if the model is a CNN, then convert the pixel vector into a pixel array\n",
    "    X_in = np.array([fcaux.pxlvec2pxlarray(img_vec) for img_vec in X_in])"
   ]
  },
  {
   "cell_type": "markdown",
   "id": "7690400a-d40e-494c-84d6-a4bf8b7a19b5",
   "metadata": {},
   "source": [
    "### Data split\n",
    "\n",
    "As usual we split the data set into a training, validation and a test set. The test set is made of 20% of the entire data set, the validation set of 10% of the remaining 80% (i.e. of 8% of the entire data set) and therefore 72% of the full data set make up the training set.\n",
    "\n",
    "Notice that we perform the split using indices and not on the feature and target data directly. The motivation is so we can later just safe the train, validation and test example indices in a CSV file which saves more disk space than saving new copies of the full data for each model."
   ]
  },
  {
   "cell_type": "code",
   "execution_count": 8,
   "id": "2bdfea30-925b-4678-b592-7bb01684a576",
   "metadata": {},
   "outputs": [],
   "source": [
    "attrs = data[[\"gender\", \"ethnicity\", \"age_decades\"]]\n",
    "all_indices = range(len(X_in))\n",
    "\n",
    "# Stratification is only possible for categorical targets\n",
    "if target == \"age\":\n",
    "    strat = None\n",
    "else:\n",
    "    strat = attrs[target].values\n",
    "\n",
    "# Perform the train-test split\n",
    "idx_train, idx_test = train_test_split(all_indices,\n",
    "                                       test_size = 0.2,\n",
    "                                       stratify = strat,\n",
    "                                       random_state=seed\n",
    "                                      )\n",
    "\n",
    "# Perform the train-val split\n",
    "idx_train, idx_val  = train_test_split(idx_train,\n",
    "                                       test_size = 0.1,\n",
    "                                       stratify = strat[idx_train],\n",
    "                                       random_state=seed\n",
    "                                      )"
   ]
  },
  {
   "cell_type": "markdown",
   "id": "23f13848-7dcf-4aa7-9e5b-f66b21c4c0fb",
   "metadata": {},
   "source": [
    "Now use those indices to extract the corresponding features/images and targets:"
   ]
  },
  {
   "cell_type": "code",
   "execution_count": 9,
   "id": "bde2c0b2-6a21-497c-8a98-cb24095126cc",
   "metadata": {},
   "outputs": [],
   "source": [
    "# First, extract column index for target column ...\n",
    "target_idx = attrs.columns.get_loc(target)\n",
    "\n",
    "# ... because we need this to slice the data sets using iloc\n",
    "X_train = X_in[idx_train]\n",
    "y_train = attrs.iloc[idx_train, target_idx]\n",
    "\n",
    "X_val = X_in[idx_val]\n",
    "y_val = attrs.iloc[idx_val, target_idx]\n",
    "\n",
    "X_test = X_in[idx_test]\n",
    "y_test = attrs.iloc[idx_test, target_idx]\n",
    "attrs_test = attrs.iloc[idx_test, :]"
   ]
  },
  {
   "cell_type": "code",
   "execution_count": 10,
   "id": "a35dfb7f-450c-4f82-a5f4-167ee23f433e",
   "metadata": {},
   "outputs": [
    {
     "name": "stdout",
     "output_type": "stream",
     "text": [
      "#training: 17067\n",
      "#validation: 1897\n",
      "#test: 4741\n"
     ]
    }
   ],
   "source": [
    "# Just checking: number of elements per data subset\n",
    "print(\"#training:\", len(X_train))\n",
    "print(\"#validation:\", len(X_val))\n",
    "print(\"#test:\", len(X_test))"
   ]
  },
  {
   "cell_type": "markdown",
   "id": "c8b8b240-7b80-4a35-ae42-d5acd4447d84",
   "metadata": {},
   "source": [
    "Now save the three different index data sets to file:"
   ]
  },
  {
   "cell_type": "code",
   "execution_count": 11,
   "id": "ccfb83dc-d1b7-4c7c-b4f4-fc941acae340",
   "metadata": {},
   "outputs": [],
   "source": [
    "# In order to pack all three index vectors into one single pd.DataFrame\n",
    "# they all need to be of the same length. To achieve this, we fill the\n",
    "# test and validation index vectors with NaNs until they have the same\n",
    "# length as the training index vector.\n",
    "idx_val += (len(idx_train) - len(idx_val))*[np.nan]\n",
    "idx_test += (len(idx_train) - len(idx_test))*[np.nan]\n",
    "\n",
    "# Check that the vectors are now all of equal length\n",
    "assert len(idx_train) == len(idx_val)\n",
    "assert len(idx_train) == len(idx_test)\n",
    "\n",
    "# Pack all three index vectors into a single pd.DataFrame for easy\n",
    "# and convenient writing to file.\n",
    "idx_df = pd.DataFrame({\"train_idx\": idx_train,\n",
    "                       \"val_idx\": idx_val,\n",
    "                       \"test_idx\": idx_test}, dtype=\"Int64\")\n",
    "\n",
    "idx_df.to_csv(new_model_dir / f\"data_set_indices__{file_suffix}.csv\", index=False)"
   ]
  },
  {
   "cell_type": "markdown",
   "id": "946e9e2b-e332-4fc1-bda2-19d6fe409702",
   "metadata": {},
   "source": [
    "### Data preprocessing\n",
    "\n",
    "In order to train the model later on, we first need to make sure the data is in a suitable format. Specifically this means:\n",
    "\n",
    "- the input tensors X_* need to be of shape (n_X, width, height, n_channels), where n_X is the number of examples in the tensor X_*, width and height are the pixel dimensions of each image and n_channels is the number of channels used in the image. Specifically, we are working with grayscale images, i.e. n_channels = 1.\n",
    "- The pixel values need to be of type float\n",
    "- The pixel values need to be normalized to the range between [0,1].\n",
    "- If the target is age_decades, we need to make sure the age_decade classes are labelled by consecutive indices"
   ]
  },
  {
   "cell_type": "code",
   "execution_count": 12,
   "id": "8915ae48-84c4-43da-b926-c7205f0fb71b",
   "metadata": {},
   "outputs": [],
   "source": [
    "# Upsample images if required by CNN architecture\n",
    "if nn_architecture in [\"LeNet\", \"AlexNet\", \"VGG\", \"ResNet\"]:\n",
    "    newdim = 227\n",
    "    X_train = np.array([fcaux.upsample_image(X_train, newdim, newdim) for X in X_train])\n",
    "    X_val = np.array([fcaux.upsample_image(X_val, newdim, newdim) for X in X_val])\n",
    "    X_test = np.array([fcaux.upsample_image(X_test, newdim, newdim) for X in X_test])"
   ]
  },
  {
   "cell_type": "code",
   "execution_count": 13,
   "id": "15455a88-020c-43ca-9e69-bc510024f2ab",
   "metadata": {},
   "outputs": [],
   "source": [
    "# Preprocess the data: fix the shape and data type and normalize\n",
    "if nn_architecture == \"mlp\":\n",
    "    add_channels = False\n",
    "else:\n",
    "    add_channels = True\n",
    "\n",
    "X_train = fcaux.preproc_data(X_train, add_channels_dim = add_channels)\n",
    "X_val = fcaux.preproc_data(X_val, add_channels_dim = add_channels)\n",
    "X_test = fcaux.preproc_data(X_test, add_channels_dim = add_channels)"
   ]
  },
  {
   "cell_type": "code",
   "execution_count": 14,
   "id": "26f9ab82-b0c0-48ee-9c75-97db1775a0d1",
   "metadata": {},
   "outputs": [],
   "source": [
    "# If the target is \"age_decades\", we need to generate consecutive data\n",
    "# classes as classes 10, 20, 30 etc. or 5, 10, 15, etc. are not accepted\n",
    "# by keras.utils.to_categorical called below\n",
    "if target == \"age_decades\":\n",
    "    y_train /= age_diff\n",
    "    y_val /= age_diff\n",
    "    y_test /= age_diff"
   ]
  },
  {
   "cell_type": "code",
   "execution_count": 15,
   "id": "113635ff-1de2-418a-87c4-cb170a4f9e41",
   "metadata": {},
   "outputs": [
    {
     "name": "stdout",
     "output_type": "stream",
     "text": [
      "num_classes = 2\n"
     ]
    }
   ],
   "source": [
    "# Compute the number of classes for the current classification problem.\n",
    "# This number will be the dimension of the output layer in the neural \n",
    "# network to be built.\n",
    "if target == \"age\":\n",
    "    # If target == \"age\", we are solving a regression and not a classifiction\n",
    "    # problem, i.e. there are no classes. \n",
    "    num_classes = 0\n",
    "else:\n",
    "    num_classes = data[target].nunique()\n",
    "    #if nn_architecture != \"mlp\":\n",
    "    y_train = keras.utils.to_categorical(y_train, num_classes)\n",
    "    y_val = keras.utils.to_categorical(y_val, num_classes)\n",
    "\n",
    "print(\"num_classes =\", num_classes)"
   ]
  },
  {
   "cell_type": "markdown",
   "id": "12ffaf94-cd2e-41a8-b71e-fc8fea56c4dd",
   "metadata": {},
   "source": [
    "### Building the CNN model \n",
    "Here we define the model according to the CNN architecture definition specified in the configurations section above:"
   ]
  },
  {
   "cell_type": "code",
   "execution_count": 16,
   "id": "c45dc330-5106-4517-8afa-a295f5a49981",
   "metadata": {},
   "outputs": [
    {
     "data": {
      "text/html": [
       "<pre style=\"white-space:pre;overflow-x:auto;line-height:normal;font-family:Menlo,'DejaVu Sans Mono',consolas,'Courier New',monospace\"><span style=\"font-weight: bold\">Model: \"functional\"</span>\n",
       "</pre>\n"
      ],
      "text/plain": [
       "\u001b[1mModel: \"functional\"\u001b[0m\n"
      ]
     },
     "metadata": {},
     "output_type": "display_data"
    },
    {
     "data": {
      "text/html": [
       "<pre style=\"white-space:pre;overflow-x:auto;line-height:normal;font-family:Menlo,'DejaVu Sans Mono',consolas,'Courier New',monospace\">┏━━━━━━━━━━━━━━━━━━━━━━━━━━━━━━━━━┳━━━━━━━━━━━━━━━━━━━━━━━━┳━━━━━━━━━━━━━━━┓\n",
       "┃<span style=\"font-weight: bold\"> Layer (type)                    </span>┃<span style=\"font-weight: bold\"> Output Shape           </span>┃<span style=\"font-weight: bold\">       Param # </span>┃\n",
       "┡━━━━━━━━━━━━━━━━━━━━━━━━━━━━━━━━━╇━━━━━━━━━━━━━━━━━━━━━━━━╇━━━━━━━━━━━━━━━┩\n",
       "│ input_layer (<span style=\"color: #0087ff; text-decoration-color: #0087ff\">InputLayer</span>)        │ (<span style=\"color: #00d7ff; text-decoration-color: #00d7ff\">None</span>, <span style=\"color: #00af00; text-decoration-color: #00af00\">48</span>, <span style=\"color: #00af00; text-decoration-color: #00af00\">48</span>, <span style=\"color: #00af00; text-decoration-color: #00af00\">1</span>)      │             <span style=\"color: #00af00; text-decoration-color: #00af00\">0</span> │\n",
       "├─────────────────────────────────┼────────────────────────┼───────────────┤\n",
       "│ conv2d (<span style=\"color: #0087ff; text-decoration-color: #0087ff\">Conv2D</span>)                 │ (<span style=\"color: #00d7ff; text-decoration-color: #00d7ff\">None</span>, <span style=\"color: #00af00; text-decoration-color: #00af00\">48</span>, <span style=\"color: #00af00; text-decoration-color: #00af00\">48</span>, <span style=\"color: #00af00; text-decoration-color: #00af00\">16</span>)     │           <span style=\"color: #00af00; text-decoration-color: #00af00\">160</span> │\n",
       "├─────────────────────────────────┼────────────────────────┼───────────────┤\n",
       "│ activation (<span style=\"color: #0087ff; text-decoration-color: #0087ff\">Activation</span>)         │ (<span style=\"color: #00d7ff; text-decoration-color: #00d7ff\">None</span>, <span style=\"color: #00af00; text-decoration-color: #00af00\">48</span>, <span style=\"color: #00af00; text-decoration-color: #00af00\">48</span>, <span style=\"color: #00af00; text-decoration-color: #00af00\">16</span>)     │             <span style=\"color: #00af00; text-decoration-color: #00af00\">0</span> │\n",
       "├─────────────────────────────────┼────────────────────────┼───────────────┤\n",
       "│ conv2d_1 (<span style=\"color: #0087ff; text-decoration-color: #0087ff\">Conv2D</span>)               │ (<span style=\"color: #00d7ff; text-decoration-color: #00d7ff\">None</span>, <span style=\"color: #00af00; text-decoration-color: #00af00\">44</span>, <span style=\"color: #00af00; text-decoration-color: #00af00\">44</span>, <span style=\"color: #00af00; text-decoration-color: #00af00\">32</span>)     │        <span style=\"color: #00af00; text-decoration-color: #00af00\">12,832</span> │\n",
       "├─────────────────────────────────┼────────────────────────┼───────────────┤\n",
       "│ activation_1 (<span style=\"color: #0087ff; text-decoration-color: #0087ff\">Activation</span>)       │ (<span style=\"color: #00d7ff; text-decoration-color: #00d7ff\">None</span>, <span style=\"color: #00af00; text-decoration-color: #00af00\">44</span>, <span style=\"color: #00af00; text-decoration-color: #00af00\">44</span>, <span style=\"color: #00af00; text-decoration-color: #00af00\">32</span>)     │             <span style=\"color: #00af00; text-decoration-color: #00af00\">0</span> │\n",
       "├─────────────────────────────────┼────────────────────────┼───────────────┤\n",
       "│ max_pooling2d (<span style=\"color: #0087ff; text-decoration-color: #0087ff\">MaxPooling2D</span>)    │ (<span style=\"color: #00d7ff; text-decoration-color: #00d7ff\">None</span>, <span style=\"color: #00af00; text-decoration-color: #00af00\">22</span>, <span style=\"color: #00af00; text-decoration-color: #00af00\">22</span>, <span style=\"color: #00af00; text-decoration-color: #00af00\">32</span>)     │             <span style=\"color: #00af00; text-decoration-color: #00af00\">0</span> │\n",
       "├─────────────────────────────────┼────────────────────────┼───────────────┤\n",
       "│ conv2d_2 (<span style=\"color: #0087ff; text-decoration-color: #0087ff\">Conv2D</span>)               │ (<span style=\"color: #00d7ff; text-decoration-color: #00d7ff\">None</span>, <span style=\"color: #00af00; text-decoration-color: #00af00\">18</span>, <span style=\"color: #00af00; text-decoration-color: #00af00\">18</span>, <span style=\"color: #00af00; text-decoration-color: #00af00\">64</span>)     │        <span style=\"color: #00af00; text-decoration-color: #00af00\">51,264</span> │\n",
       "├─────────────────────────────────┼────────────────────────┼───────────────┤\n",
       "│ activation_2 (<span style=\"color: #0087ff; text-decoration-color: #0087ff\">Activation</span>)       │ (<span style=\"color: #00d7ff; text-decoration-color: #00d7ff\">None</span>, <span style=\"color: #00af00; text-decoration-color: #00af00\">18</span>, <span style=\"color: #00af00; text-decoration-color: #00af00\">18</span>, <span style=\"color: #00af00; text-decoration-color: #00af00\">64</span>)     │             <span style=\"color: #00af00; text-decoration-color: #00af00\">0</span> │\n",
       "├─────────────────────────────────┼────────────────────────┼───────────────┤\n",
       "│ max_pooling2d_1 (<span style=\"color: #0087ff; text-decoration-color: #0087ff\">MaxPooling2D</span>)  │ (<span style=\"color: #00d7ff; text-decoration-color: #00d7ff\">None</span>, <span style=\"color: #00af00; text-decoration-color: #00af00\">9</span>, <span style=\"color: #00af00; text-decoration-color: #00af00\">9</span>, <span style=\"color: #00af00; text-decoration-color: #00af00\">64</span>)       │             <span style=\"color: #00af00; text-decoration-color: #00af00\">0</span> │\n",
       "├─────────────────────────────────┼────────────────────────┼───────────────┤\n",
       "│ flatten (<span style=\"color: #0087ff; text-decoration-color: #0087ff\">Flatten</span>)               │ (<span style=\"color: #00d7ff; text-decoration-color: #00d7ff\">None</span>, <span style=\"color: #00af00; text-decoration-color: #00af00\">5184</span>)           │             <span style=\"color: #00af00; text-decoration-color: #00af00\">0</span> │\n",
       "├─────────────────────────────────┼────────────────────────┼───────────────┤\n",
       "│ dense (<span style=\"color: #0087ff; text-decoration-color: #0087ff\">Dense</span>)                   │ (<span style=\"color: #00d7ff; text-decoration-color: #00d7ff\">None</span>, <span style=\"color: #00af00; text-decoration-color: #00af00\">128</span>)            │       <span style=\"color: #00af00; text-decoration-color: #00af00\">663,680</span> │\n",
       "├─────────────────────────────────┼────────────────────────┼───────────────┤\n",
       "│ dense_1 (<span style=\"color: #0087ff; text-decoration-color: #0087ff\">Dense</span>)                 │ (<span style=\"color: #00d7ff; text-decoration-color: #00d7ff\">None</span>, <span style=\"color: #00af00; text-decoration-color: #00af00\">2</span>)              │           <span style=\"color: #00af00; text-decoration-color: #00af00\">258</span> │\n",
       "└─────────────────────────────────┴────────────────────────┴───────────────┘\n",
       "</pre>\n"
      ],
      "text/plain": [
       "┏━━━━━━━━━━━━━━━━━━━━━━━━━━━━━━━━━┳━━━━━━━━━━━━━━━━━━━━━━━━┳━━━━━━━━━━━━━━━┓\n",
       "┃\u001b[1m \u001b[0m\u001b[1mLayer (type)                   \u001b[0m\u001b[1m \u001b[0m┃\u001b[1m \u001b[0m\u001b[1mOutput Shape          \u001b[0m\u001b[1m \u001b[0m┃\u001b[1m \u001b[0m\u001b[1m      Param #\u001b[0m\u001b[1m \u001b[0m┃\n",
       "┡━━━━━━━━━━━━━━━━━━━━━━━━━━━━━━━━━╇━━━━━━━━━━━━━━━━━━━━━━━━╇━━━━━━━━━━━━━━━┩\n",
       "│ input_layer (\u001b[38;5;33mInputLayer\u001b[0m)        │ (\u001b[38;5;45mNone\u001b[0m, \u001b[38;5;34m48\u001b[0m, \u001b[38;5;34m48\u001b[0m, \u001b[38;5;34m1\u001b[0m)      │             \u001b[38;5;34m0\u001b[0m │\n",
       "├─────────────────────────────────┼────────────────────────┼───────────────┤\n",
       "│ conv2d (\u001b[38;5;33mConv2D\u001b[0m)                 │ (\u001b[38;5;45mNone\u001b[0m, \u001b[38;5;34m48\u001b[0m, \u001b[38;5;34m48\u001b[0m, \u001b[38;5;34m16\u001b[0m)     │           \u001b[38;5;34m160\u001b[0m │\n",
       "├─────────────────────────────────┼────────────────────────┼───────────────┤\n",
       "│ activation (\u001b[38;5;33mActivation\u001b[0m)         │ (\u001b[38;5;45mNone\u001b[0m, \u001b[38;5;34m48\u001b[0m, \u001b[38;5;34m48\u001b[0m, \u001b[38;5;34m16\u001b[0m)     │             \u001b[38;5;34m0\u001b[0m │\n",
       "├─────────────────────────────────┼────────────────────────┼───────────────┤\n",
       "│ conv2d_1 (\u001b[38;5;33mConv2D\u001b[0m)               │ (\u001b[38;5;45mNone\u001b[0m, \u001b[38;5;34m44\u001b[0m, \u001b[38;5;34m44\u001b[0m, \u001b[38;5;34m32\u001b[0m)     │        \u001b[38;5;34m12,832\u001b[0m │\n",
       "├─────────────────────────────────┼────────────────────────┼───────────────┤\n",
       "│ activation_1 (\u001b[38;5;33mActivation\u001b[0m)       │ (\u001b[38;5;45mNone\u001b[0m, \u001b[38;5;34m44\u001b[0m, \u001b[38;5;34m44\u001b[0m, \u001b[38;5;34m32\u001b[0m)     │             \u001b[38;5;34m0\u001b[0m │\n",
       "├─────────────────────────────────┼────────────────────────┼───────────────┤\n",
       "│ max_pooling2d (\u001b[38;5;33mMaxPooling2D\u001b[0m)    │ (\u001b[38;5;45mNone\u001b[0m, \u001b[38;5;34m22\u001b[0m, \u001b[38;5;34m22\u001b[0m, \u001b[38;5;34m32\u001b[0m)     │             \u001b[38;5;34m0\u001b[0m │\n",
       "├─────────────────────────────────┼────────────────────────┼───────────────┤\n",
       "│ conv2d_2 (\u001b[38;5;33mConv2D\u001b[0m)               │ (\u001b[38;5;45mNone\u001b[0m, \u001b[38;5;34m18\u001b[0m, \u001b[38;5;34m18\u001b[0m, \u001b[38;5;34m64\u001b[0m)     │        \u001b[38;5;34m51,264\u001b[0m │\n",
       "├─────────────────────────────────┼────────────────────────┼───────────────┤\n",
       "│ activation_2 (\u001b[38;5;33mActivation\u001b[0m)       │ (\u001b[38;5;45mNone\u001b[0m, \u001b[38;5;34m18\u001b[0m, \u001b[38;5;34m18\u001b[0m, \u001b[38;5;34m64\u001b[0m)     │             \u001b[38;5;34m0\u001b[0m │\n",
       "├─────────────────────────────────┼────────────────────────┼───────────────┤\n",
       "│ max_pooling2d_1 (\u001b[38;5;33mMaxPooling2D\u001b[0m)  │ (\u001b[38;5;45mNone\u001b[0m, \u001b[38;5;34m9\u001b[0m, \u001b[38;5;34m9\u001b[0m, \u001b[38;5;34m64\u001b[0m)       │             \u001b[38;5;34m0\u001b[0m │\n",
       "├─────────────────────────────────┼────────────────────────┼───────────────┤\n",
       "│ flatten (\u001b[38;5;33mFlatten\u001b[0m)               │ (\u001b[38;5;45mNone\u001b[0m, \u001b[38;5;34m5184\u001b[0m)           │             \u001b[38;5;34m0\u001b[0m │\n",
       "├─────────────────────────────────┼────────────────────────┼───────────────┤\n",
       "│ dense (\u001b[38;5;33mDense\u001b[0m)                   │ (\u001b[38;5;45mNone\u001b[0m, \u001b[38;5;34m128\u001b[0m)            │       \u001b[38;5;34m663,680\u001b[0m │\n",
       "├─────────────────────────────────┼────────────────────────┼───────────────┤\n",
       "│ dense_1 (\u001b[38;5;33mDense\u001b[0m)                 │ (\u001b[38;5;45mNone\u001b[0m, \u001b[38;5;34m2\u001b[0m)              │           \u001b[38;5;34m258\u001b[0m │\n",
       "└─────────────────────────────────┴────────────────────────┴───────────────┘\n"
      ]
     },
     "metadata": {},
     "output_type": "display_data"
    },
    {
     "data": {
      "text/html": [
       "<pre style=\"white-space:pre;overflow-x:auto;line-height:normal;font-family:Menlo,'DejaVu Sans Mono',consolas,'Courier New',monospace\"><span style=\"font-weight: bold\"> Total params: </span><span style=\"color: #00af00; text-decoration-color: #00af00\">728,194</span> (2.78 MB)\n",
       "</pre>\n"
      ],
      "text/plain": [
       "\u001b[1m Total params: \u001b[0m\u001b[38;5;34m728,194\u001b[0m (2.78 MB)\n"
      ]
     },
     "metadata": {},
     "output_type": "display_data"
    },
    {
     "data": {
      "text/html": [
       "<pre style=\"white-space:pre;overflow-x:auto;line-height:normal;font-family:Menlo,'DejaVu Sans Mono',consolas,'Courier New',monospace\"><span style=\"font-weight: bold\"> Trainable params: </span><span style=\"color: #00af00; text-decoration-color: #00af00\">728,194</span> (2.78 MB)\n",
       "</pre>\n"
      ],
      "text/plain": [
       "\u001b[1m Trainable params: \u001b[0m\u001b[38;5;34m728,194\u001b[0m (2.78 MB)\n"
      ]
     },
     "metadata": {},
     "output_type": "display_data"
    },
    {
     "data": {
      "text/html": [
       "<pre style=\"white-space:pre;overflow-x:auto;line-height:normal;font-family:Menlo,'DejaVu Sans Mono',consolas,'Courier New',monospace\"><span style=\"font-weight: bold\"> Non-trainable params: </span><span style=\"color: #00af00; text-decoration-color: #00af00\">0</span> (0.00 B)\n",
       "</pre>\n"
      ],
      "text/plain": [
       "\u001b[1m Non-trainable params: \u001b[0m\u001b[38;5;34m0\u001b[0m (0.00 B)\n"
      ]
     },
     "metadata": {},
     "output_type": "display_data"
    }
   ],
   "source": [
    "if nn_architecture == \"mlp\":\n",
    "    model = fcmodels.mlp(num_classes, X_train[0].shape)\n",
    "elif nn_architecture == \"my_cnn\":\n",
    "    model = fcmodels.my_cnn(num_classes)\n",
    "elif nn_architecture == \"lenet\":\n",
    "    pass\n",
    "elif nn_architecture == \"alexnet\":\n",
    "    model = fcmodels.model(num_classes)\n",
    "elif nn_architecture == \"vgg\":\n",
    "    pass\n",
    "elif nn_architecture == \"resnet\":\n",
    "    pass\n",
    "\n",
    "model.summary()"
   ]
  },
  {
   "cell_type": "markdown",
   "id": "356273cc-011f-490a-8b81-dc108bce0846",
   "metadata": {},
   "source": [
    "### Train model until overfitting\n",
    "Now we are finally ready to train the model. We do so by fitting the previously defined model to the training data for a maximal number n_epochs epochs. During the training, we measure the validation loss and use early stopping based on the validation loss in order to avoid overfitting. We use this approach not just find the optimal value of epochs but also to generate evidence that if more epochs are used the model would overfit."
   ]
  },
  {
   "cell_type": "code",
   "execution_count": 17,
   "id": "4370ab73-2d95-4dd7-b896-9093c8145cd9",
   "metadata": {},
   "outputs": [
    {
     "name": "stdout",
     "output_type": "stream",
     "text": [
      "Epoch 1/50\n",
      "\u001b[1m134/134\u001b[0m \u001b[32m━━━━━━━━━━━━━━━━━━━━\u001b[0m\u001b[37m\u001b[0m \u001b[1m39s\u001b[0m 285ms/step - accuracy: 0.6986 - loss: 0.5575 - val_accuracy: 0.8587 - val_loss: 0.3318\n",
      "Epoch 2/50\n",
      "\u001b[1m134/134\u001b[0m \u001b[32m━━━━━━━━━━━━━━━━━━━━\u001b[0m\u001b[37m\u001b[0m \u001b[1m40s\u001b[0m 296ms/step - accuracy: 0.8512 - loss: 0.3372 - val_accuracy: 0.8735 - val_loss: 0.2894\n",
      "Epoch 3/50\n",
      "\u001b[1m134/134\u001b[0m \u001b[32m━━━━━━━━━━━━━━━━━━━━\u001b[0m\u001b[37m\u001b[0m \u001b[1m42s\u001b[0m 315ms/step - accuracy: 0.8751 - loss: 0.2842 - val_accuracy: 0.8856 - val_loss: 0.2631\n",
      "Epoch 4/50\n",
      "\u001b[1m134/134\u001b[0m \u001b[32m━━━━━━━━━━━━━━━━━━━━\u001b[0m\u001b[37m\u001b[0m \u001b[1m41s\u001b[0m 305ms/step - accuracy: 0.8925 - loss: 0.2503 - val_accuracy: 0.8946 - val_loss: 0.2447\n",
      "Epoch 5/50\n",
      "\u001b[1m134/134\u001b[0m \u001b[32m━━━━━━━━━━━━━━━━━━━━\u001b[0m\u001b[37m\u001b[0m \u001b[1m41s\u001b[0m 309ms/step - accuracy: 0.9058 - loss: 0.2263 - val_accuracy: 0.8930 - val_loss: 0.2361\n",
      "Epoch 6/50\n",
      "\u001b[1m134/134\u001b[0m \u001b[32m━━━━━━━━━━━━━━━━━━━━\u001b[0m\u001b[37m\u001b[0m \u001b[1m42s\u001b[0m 311ms/step - accuracy: 0.9143 - loss: 0.2075 - val_accuracy: 0.9030 - val_loss: 0.2495\n",
      "Epoch 7/50\n",
      "\u001b[1m134/134\u001b[0m \u001b[32m━━━━━━━━━━━━━━━━━━━━\u001b[0m\u001b[37m\u001b[0m \u001b[1m42s\u001b[0m 310ms/step - accuracy: 0.9188 - loss: 0.1979 - val_accuracy: 0.9025 - val_loss: 0.2341\n",
      "Epoch 8/50\n",
      "\u001b[1m134/134\u001b[0m \u001b[32m━━━━━━━━━━━━━━━━━━━━\u001b[0m\u001b[37m\u001b[0m \u001b[1m42s\u001b[0m 310ms/step - accuracy: 0.9328 - loss: 0.1752 - val_accuracy: 0.8967 - val_loss: 0.2569\n",
      "Epoch 9/50\n",
      "\u001b[1m134/134\u001b[0m \u001b[32m━━━━━━━━━━━━━━━━━━━━\u001b[0m\u001b[37m\u001b[0m \u001b[1m44s\u001b[0m 329ms/step - accuracy: 0.9397 - loss: 0.1578 - val_accuracy: 0.8967 - val_loss: 0.2776\n",
      "Epoch 10/50\n",
      "\u001b[1m134/134\u001b[0m \u001b[32m━━━━━━━━━━━━━━━━━━━━\u001b[0m\u001b[37m\u001b[0m \u001b[1m47s\u001b[0m 350ms/step - accuracy: 0.9460 - loss: 0.1381 - val_accuracy: 0.8872 - val_loss: 0.3167\n",
      "Epoch 11/50\n",
      "\u001b[1m134/134\u001b[0m \u001b[32m━━━━━━━━━━━━━━━━━━━━\u001b[0m\u001b[37m\u001b[0m \u001b[1m46s\u001b[0m 339ms/step - accuracy: 0.9538 - loss: 0.1221 - val_accuracy: 0.8898 - val_loss: 0.3080\n",
      "Epoch 12/50\n",
      "\u001b[1m134/134\u001b[0m \u001b[32m━━━━━━━━━━━━━━━━━━━━\u001b[0m\u001b[37m\u001b[0m \u001b[1m47s\u001b[0m 349ms/step - accuracy: 0.9622 - loss: 0.1051 - val_accuracy: 0.8930 - val_loss: 0.3238\n"
     ]
    }
   ],
   "source": [
    "# Maximum number of epochs\n",
    "n_epochs = 50\n",
    "\n",
    "# Definition of early stopping callback: make sure to restore the best weights\n",
    "early_stopping = EarlyStopping(monitor='val_loss', patience=5, restore_best_weights=True)\n",
    "\n",
    "# Train the model\n",
    "history = model.fit(X_train, y_train,\n",
    "                    epochs=n_epochs,\n",
    "                    batch_size=128,\n",
    "                    validation_data=(X_val, y_val),\n",
    "                    shuffle=True,\n",
    "                    callbacks=[early_stopping]\n",
    "                   )\n",
    "\n",
    "# Save the optimal model\n",
    "model.save(new_model_dir / f'{file_suffix}__nepochs{n_epochs}.keras')"
   ]
  },
  {
   "cell_type": "markdown",
   "id": "8e08f4f6-9e02-4809-8dff-c4adabadcc28",
   "metadata": {},
   "source": [
    "Let's now have a look at the loss curve to make sure the training process went as expected. First we put the data in a pandas.DataFrame, then we save that to a CSV file..."
   ]
  },
  {
   "cell_type": "code",
   "execution_count": 18,
   "id": "047264f0-fe17-42c9-b74d-6005cfc37f1a",
   "metadata": {},
   "outputs": [],
   "source": [
    "history = model.history.history  # Just for simplification/convenience\n",
    "\n",
    "# Count the actual number of epochs (may be less than defined due to early stopping)\n",
    "n_epochs = len(model.history.history[\"loss\"])\n",
    "\n",
    "# Add an explicit \"epoch\" key with values enumerating the epochs\n",
    "history[\"epoch\"] = list(range(1, n_epochs+1))\n",
    "\n",
    "# In general we don't know the names of the other keys of the history dictionary\n",
    "# as they depend on the specific configuration of the model training process.\n",
    "# Therefore, extract those unknown keys.\n",
    "other_columns = [k for k, v in history.items() if k!=\"epoch\"] \n",
    "\n",
    "# Convert the history dictionary into a dataframe (with 'epoch' as first column)\n",
    "# for convenient saving.\n",
    "history_df = pd.DataFrame(history, columns = [\"epoch\"] + other_columns)\n",
    "file_name = f'history__{file_suffix}__nepochs{n_epochs}.csv'\n",
    "history_df.to_csv(new_model_dir / file_name, index=False)\n",
    "\n",
    "# Remark: by creating the column \"epoch\" and by setting the index kwarg in\n",
    "# the last line to False, the epoch enumarting column has actually in the\n",
    "# saved CSV file (otherwise there wouldn't be a name and when loading the file\n",
    "# again from disk there would be a generic \"Unnamed: 0\"."
   ]
  },
  {
   "cell_type": "markdown",
   "id": "01858b56-badc-4aee-a006-3ee9a941d85c",
   "metadata": {},
   "source": [
    "...and last but not least, we plot it:"
   ]
  },
  {
   "cell_type": "code",
   "execution_count": 19,
   "id": "c9d27cb8-61dc-4c44-af36-29c658d988df",
   "metadata": {},
   "outputs": [
    {
     "data": {
      "image/png": "[encoded data removed]",
      "text/plain": [
       "<Figure size 500x400 with 2 Axes>"
      ]
     },
     "metadata": {},
     "output_type": "display_data"
    }
   ],
   "source": [
    "fig, axs = plt.subplots(2,1, figsize=(5,4), sharex=True)\n",
    "ax = axs[0]  # panel for loss curves\n",
    "ax.plot(history[\"loss\"], label=\"training\")\n",
    "ax.plot(history[\"val_loss\"], label=\"validation\")\n",
    "ax.grid(True)\n",
    "ax.set_xticks(range(n_epochs))\n",
    "ax.set_ylabel(\"Loss\")\n",
    "ax.set_title(f\"AlexNet ({target.title()})\")\n",
    "ax.legend(loc=\"best\")\n",
    "\n",
    "ax = axs[1]  # panel for accuracy curves\n",
    "ax.plot(history[\"accuracy\"], label=\"training\")\n",
    "ax.plot(history[f\"val_accuracy\"], label=\"validation\")\n",
    "ax.grid(True)\n",
    "ax.set_xticks(range(n_epochs))\n",
    "ax.set_xlabel(\"Epochs\")\n",
    "ax.set_ylabel(\"Accuracy\")\n",
    "ax.legend(loc=\"best\")\n",
    "\n",
    "# Save figure to disk\n",
    "plt.savefig(new_model_dir / f\"loss_curve__{file_suffix}__nepochs{n_epochs}.png\",\n",
    "            bbox_inches='tight')\n",
    "plt.show()"
   ]
  },
  {
   "cell_type": "markdown",
   "id": "fda687c3-a16b-4594-9208-de360cf5df48",
   "metadata": {},
   "source": [
    "At this point we have trained the model and save information about the training process."
   ]
  },
  {
   "cell_type": "markdown",
   "id": "2590fe44-3c86-4064-9465-ec9650f2d25a",
   "metadata": {},
   "source": [
    "## Model validation"
   ]
  },
  {
   "cell_type": "markdown",
   "id": "349e33cd-a9fa-47e6-8dc0-3ea20eb9ad36",
   "metadata": {},
   "source": [
    "### Basic classification performance metrics\n",
    "Next validate the model by testing it on the so far unseen test data. While doing so, look at other metrics such as balanced accuracy, ROC AUC and F1 scores, too."
   ]
  },
  {
   "cell_type": "code",
   "execution_count": 20,
   "id": "eb0f9644-eadd-4f90-a204-8856a1abb571",
   "metadata": {},
   "outputs": [
    {
     "name": "stdout",
     "output_type": "stream",
     "text": [
      "\u001b[1m534/534\u001b[0m \u001b[32m━━━━━━━━━━━━━━━━━━━━\u001b[0m\u001b[37m\u001b[0m \u001b[1m8s\u001b[0m 15ms/step\n",
      "\u001b[1m60/60\u001b[0m \u001b[32m━━━━━━━━━━━━━━━━━━━━\u001b[0m\u001b[37m\u001b[0m \u001b[1m1s\u001b[0m 15ms/step\n",
      "\u001b[1m149/149\u001b[0m \u001b[32m━━━━━━━━━━━━━━━━━━━━\u001b[0m\u001b[37m\u001b[0m \u001b[1m2s\u001b[0m 16ms/step\n"
     ]
    }
   ],
   "source": [
    "# Evaluate the model on training, validation, and test set.\n",
    "# First, the y_prob* variables contain the predicted class probabilities \n",
    "# which will be used in the ROC AUC computation. To compute the other \n",
    "# metrics, use the predicted class labels (given in y_pred*).\n",
    "y_prob_train = model.predict(X_train)\n",
    "y_pred_train = np.array([np.argmax(i) for i in y_prob_train])\n",
    "\n",
    "y_prob_val = model.predict(X_val)\n",
    "y_pred_val = np.array([np.argmax(i) for i in y_prob_val])\n",
    "\n",
    "y_prob_test = model.predict(X_test)\n",
    "y_pred_test = np.array([np.argmax(i) for i in y_prob_test])"
   ]
  },
  {
   "cell_type": "code",
   "execution_count": 21,
   "id": "03160d32-1010-4a1d-87f1-7e332107f20a",
   "metadata": {},
   "outputs": [
    {
     "data": {
      "text/html": [
       "<div>\n",
       "<style scoped>\n",
       "    .dataframe tbody tr th:only-of-type {\n",
       "        vertical-align: middle;\n",
       "    }\n",
       "\n",
       "    .dataframe tbody tr th {\n",
       "        vertical-align: top;\n",
       "    }\n",
       "\n",
       "    .dataframe thead th {\n",
       "        text-align: right;\n",
       "    }\n",
       "</style>\n",
       "<table border=\"1\" class=\"dataframe\">\n",
       "  <thead>\n",
       "    <tr style=\"text-align: right;\">\n",
       "      <th></th>\n",
       "      <th>train</th>\n",
       "      <th>val</th>\n",
       "      <th>test</th>\n",
       "    </tr>\n",
       "  </thead>\n",
       "  <tbody>\n",
       "    <tr>\n",
       "      <th>accuracy</th>\n",
       "      <td>0.929806</td>\n",
       "      <td>0.902478</td>\n",
       "      <td>0.894115</td>\n",
       "    </tr>\n",
       "    <tr>\n",
       "      <th>balanced_accuracy</th>\n",
       "      <td>0.929346</td>\n",
       "      <td>0.902296</td>\n",
       "      <td>0.893188</td>\n",
       "    </tr>\n",
       "    <tr>\n",
       "      <th>roc_auc</th>\n",
       "      <td>0.981384</td>\n",
       "      <td>0.967734</td>\n",
       "      <td>0.962421</td>\n",
       "    </tr>\n",
       "    <tr>\n",
       "      <th>F1</th>\n",
       "      <td>0.925931</td>\n",
       "      <td>0.897846</td>\n",
       "      <td>0.887242</td>\n",
       "    </tr>\n",
       "  </tbody>\n",
       "</table>\n",
       "</div>"
      ],
      "text/plain": [
       "                      train       val      test\n",
       "accuracy           0.929806  0.902478  0.894115\n",
       "balanced_accuracy  0.929346  0.902296  0.893188\n",
       "roc_auc            0.981384  0.967734  0.962421\n",
       "F1                 0.925931  0.897846  0.887242"
      ]
     },
     "metadata": {},
     "output_type": "display_data"
    }
   ],
   "source": [
    "# Compute all the metrics for train, validation and test set \n",
    "# and combine them into respective dictionaries for convenient handling\n",
    "train_metrics = {\"accuracy\": accuracy_score(np.array([np.argmax(i) for i in y_train]), y_pred_train),\n",
    "                 \"balanced_accuracy\": balanced_accuracy_score(np.array([np.argmax(i) for i in y_train]), y_pred_train),\n",
    "                 \"roc_auc\": roc_auc_score(np.array([np.argmax(i) for i in y_train]), y_prob_train[:,1]),\n",
    "                 \"F1\": f1_score(np.array([np.argmax(i) for i in y_train]), y_pred_train)}\n",
    "\n",
    "val_metrics = {\"accuracy\": accuracy_score(np.array([np.argmax(i) for i in y_val]), y_pred_val),\n",
    "               \"balanced_accuracy\": balanced_accuracy_score(np.array([np.argmax(i) for i in y_val]), y_pred_val),\n",
    "               \"roc_auc\": roc_auc_score(np.array([np.argmax(i) for i in y_val]), y_prob_val[:,1]),\n",
    "               \"F1\": f1_score(np.array([np.argmax(i) for i in y_val]), y_pred_val)}\n",
    "\n",
    "test_metrics = {\"accuracy\": accuracy_score(y_test, y_pred_test),\n",
    "                \"balanced_accuracy\": balanced_accuracy_score(y_test, y_pred_test),\n",
    "                \"roc_auc\": roc_auc_score(y_test, y_prob_test[:,1]),\n",
    "                \"F1\": f1_score(y_test, y_pred_test)}\n",
    "\n",
    "# Combine all data sets into a pandas.DataFrame for convenient saving\n",
    "metrics_df = pd.DataFrame({\"train\": train_metrics, \n",
    "                           \"val\": val_metrics, \n",
    "                           \"test\": test_metrics})\n",
    "\n",
    "display(metrics_df)\n",
    "metrics_df.to_csv(new_model_dir / f\"metrics__{file_suffix}.csv\")"
   ]
  },
  {
   "cell_type": "code",
   "execution_count": 22,
   "id": "00c31df2-5e3a-4063-a73d-fb24277a2455",
   "metadata": {},
   "outputs": [],
   "source": [
    "# Further more, produce and save the the false positive and true positive \n",
    "# rates and save them to disk.\n",
    "fpr, tpr, thr = roc_curve(y_test, y_prob_test[:,1])\n",
    "pd.DataFrame({\"FPR\": fpr, \"TPR\": tpr}).to_csv(new_model_dir / f\"fpr_vs_tpr__{file_suffix}.csv\")"
   ]
  },
  {
   "cell_type": "code",
   "execution_count": 23,
   "id": "4aabda4a-a6c3-4854-9b3b-18685f23a408",
   "metadata": {},
   "outputs": [
    {
     "data": {
      "image/png": "[encoded data removed]",
      "text/plain": [
       "<Figure size 640x480 with 1 Axes>"
      ]
     },
     "metadata": {},
     "output_type": "display_data"
    }
   ],
   "source": [
    "# Use the previously computed FPRs and TPRs to plot the ROC curve.\n",
    "fig, ax = plt.subplots()\n",
    "ax.plot(fpr,tpr)\n",
    "ax.plot([0,1], [0,1], ls=\"--\", c=\"k\")\n",
    "ax.grid(True)\n",
    "ax.set_xlabel(\"False Positive Rate\")\n",
    "ax.set_ylabel(\"True Positive Rate\")\n",
    "ax.set_title(f\"{target.title()} -- ROC AUC: {np.round(roc_auc_score(y_test, y_prob_test[:,1]),4)}\")\n",
    "plt.tight_layout()\n",
    "plt.savefig(new_model_dir / f\"roc_curve__{file_suffix}.png\",\n",
    "            bbox_inches='tight')\n",
    "plt.show()"
   ]
  },
  {
   "cell_type": "code",
   "execution_count": 24,
   "id": "d7653854-24ca-4abf-a9ce-0c2b868f0235",
   "metadata": {},
   "outputs": [
    {
     "data": {
      "text/html": [
       "<div>\n",
       "<style scoped>\n",
       "    .dataframe tbody tr th:only-of-type {\n",
       "        vertical-align: middle;\n",
       "    }\n",
       "\n",
       "    .dataframe tbody tr th {\n",
       "        vertical-align: top;\n",
       "    }\n",
       "\n",
       "    .dataframe thead th {\n",
       "        text-align: right;\n",
       "    }\n",
       "</style>\n",
       "<table border=\"1\" class=\"dataframe\">\n",
       "  <thead>\n",
       "    <tr style=\"text-align: right;\">\n",
       "      <th></th>\n",
       "      <th>0</th>\n",
       "      <th>1</th>\n",
       "      <th>accuracy</th>\n",
       "      <th>macro avg</th>\n",
       "      <th>weighted avg</th>\n",
       "    </tr>\n",
       "  </thead>\n",
       "  <tbody>\n",
       "    <tr>\n",
       "      <th>precision</th>\n",
       "      <td>0.887147</td>\n",
       "      <td>0.902238</td>\n",
       "      <td>0.894115</td>\n",
       "      <td>0.894693</td>\n",
       "      <td>0.894351</td>\n",
       "    </tr>\n",
       "    <tr>\n",
       "      <th>recall</th>\n",
       "      <td>0.913640</td>\n",
       "      <td>0.872735</td>\n",
       "      <td>0.894115</td>\n",
       "      <td>0.893188</td>\n",
       "      <td>0.894115</td>\n",
       "    </tr>\n",
       "    <tr>\n",
       "      <th>f1-score</th>\n",
       "      <td>0.900199</td>\n",
       "      <td>0.887242</td>\n",
       "      <td>0.894115</td>\n",
       "      <td>0.893720</td>\n",
       "      <td>0.894014</td>\n",
       "    </tr>\n",
       "    <tr>\n",
       "      <th>support</th>\n",
       "      <td>2478.000000</td>\n",
       "      <td>2263.000000</td>\n",
       "      <td>0.894115</td>\n",
       "      <td>4741.000000</td>\n",
       "      <td>4741.000000</td>\n",
       "    </tr>\n",
       "  </tbody>\n",
       "</table>\n",
       "</div>"
      ],
      "text/plain": [
       "                     0            1  accuracy    macro avg  weighted avg\n",
       "precision     0.887147     0.902238  0.894115     0.894693      0.894351\n",
       "recall        0.913640     0.872735  0.894115     0.893188      0.894115\n",
       "f1-score      0.900199     0.887242  0.894115     0.893720      0.894014\n",
       "support    2478.000000  2263.000000  0.894115  4741.000000   4741.000000"
      ]
     },
     "metadata": {},
     "output_type": "display_data"
    }
   ],
   "source": [
    "# Last but not least, produce a classification report to get more quantitative\n",
    "# information about the classification performance.\n",
    "cls_report = pd.DataFrame(classification_report(y_test, y_pred_test, output_dict=True))\n",
    "display(cls_report)\n",
    "cls_report.to_csv(new_model_dir / f\"classificationo_report__{file_suffix}.png\")"
   ]
  },
  {
   "cell_type": "markdown",
   "id": "a3833330-dcfe-470c-ac9b-a0dfb1af2d6d",
   "metadata": {},
   "source": [
    "### Bias & fairness analysis\n",
    "\n",
    "The key focus of this project is to work towards an unbiased and fair classifier. Let's therefore investigate potential biases that are left in this classifier so we can lateron try to reduce/remove them."
   ]
  },
  {
   "cell_type": "markdown",
   "id": "f8af0847-bd5d-4e1a-b330-ca2cd419f5d5",
   "metadata": {},
   "source": [
    "Create a dictionary with performance metrics by the two non-target attributes. In other words, assuming that \"gender\" is the target attribute used to train the model, let's split the test data into individual ethnicity and/or age_decades groups and see how the model performs on each of these groups. If the model does not perform equally (or at least similarly) well on all groups, there are biases we should try to reduce."
   ]
  },
  {
   "cell_type": "code",
   "execution_count": 25,
   "id": "11fc4606-dc29-4bf8-9348-489f3996359b",
   "metadata": {},
   "outputs": [],
   "source": [
    "test_data = attrs_test.copy()\n",
    "test_data = test_data.reset_index()"
   ]
  },
  {
   "cell_type": "code",
   "execution_count": 27,
   "id": "76be5b2f-7752-415d-9347-8054c80ecdf9",
   "metadata": {},
   "outputs": [
    {
     "name": "stdout",
     "output_type": "stream",
     "text": [
      "ethnicity\n",
      "=========\n",
      "\u001b[1m11/11\u001b[0m \u001b[32m━━━━━━━━━━━━━━━━━━━━\u001b[0m\u001b[37m\u001b[0m \u001b[1m0s\u001b[0m 17ms/step\n",
      "\u001b[1m28/28\u001b[0m \u001b[32m━━━━━━━━━━━━━━━━━━━━\u001b[0m\u001b[37m\u001b[0m \u001b[1m1s\u001b[0m 17ms/step\n",
      "\u001b[1m25/25\u001b[0m \u001b[32m━━━━━━━━━━━━━━━━━━━━\u001b[0m\u001b[37m\u001b[0m \u001b[1m1s\u001b[0m 19ms/step\n",
      "\u001b[1m65/65\u001b[0m \u001b[32m━━━━━━━━━━━━━━━━━━━━\u001b[0m\u001b[37m\u001b[0m \u001b[1m1s\u001b[0m 17ms/step\n",
      "\u001b[1m22/22\u001b[0m \u001b[32m━━━━━━━━━━━━━━━━━━━━\u001b[0m\u001b[37m\u001b[0m \u001b[1m0s\u001b[0m 16ms/step\n",
      "age_decades\n",
      "===========\n",
      "\u001b[1m46/46\u001b[0m \u001b[32m━━━━━━━━━━━━━━━━━━━━\u001b[0m\u001b[37m\u001b[0m \u001b[1m1s\u001b[0m 17ms/step\n",
      "\u001b[1m30/30\u001b[0m \u001b[32m━━━━━━━━━━━━━━━━━━━━\u001b[0m\u001b[37m\u001b[0m \u001b[1m1s\u001b[0m 16ms/step\n",
      "\u001b[1m9/9\u001b[0m \u001b[32m━━━━━━━━━━━━━━━━━━━━\u001b[0m\u001b[37m\u001b[0m \u001b[1m0s\u001b[0m 15ms/step\n",
      "\u001b[1m18/18\u001b[0m \u001b[32m━━━━━━━━━━━━━━━━━━━━\u001b[0m\u001b[37m\u001b[0m \u001b[1m0s\u001b[0m 16ms/step\n",
      "\u001b[1m14/14\u001b[0m \u001b[32m━━━━━━━━━━━━━━━━━━━━\u001b[0m\u001b[37m\u001b[0m \u001b[1m0s\u001b[0m 16ms/step\n",
      "\u001b[1m15/15\u001b[0m \u001b[32m━━━━━━━━━━━━━━━━━━━━\u001b[0m\u001b[37m\u001b[0m \u001b[1m0s\u001b[0m 17ms/step\n",
      "\u001b[1m5/5\u001b[0m \u001b[32m━━━━━━━━━━━━━━━━━━━━\u001b[0m\u001b[37m\u001b[0m \u001b[1m0s\u001b[0m 14ms/step\n",
      "\u001b[1m10/10\u001b[0m \u001b[32m━━━━━━━━━━━━━━━━━━━━\u001b[0m\u001b[37m\u001b[0m \u001b[1m0s\u001b[0m 16ms/step\n",
      "\u001b[1m4/4\u001b[0m \u001b[32m━━━━━━━━━━━━━━━━━━━━\u001b[0m\u001b[37m\u001b[0m \u001b[1m0s\u001b[0m 14ms/step\n",
      "\u001b[1m2/2\u001b[0m \u001b[32m━━━━━━━━━━━━━━━━━━━━\u001b[0m\u001b[37m\u001b[0m \u001b[1m0s\u001b[0m 6ms/step \n",
      "\u001b[1m1/1\u001b[0m \u001b[32m━━━━━━━━━━━━━━━━━━━━\u001b[0m\u001b[37m\u001b[0m \u001b[1m0s\u001b[0m 21ms/step\n",
      "\u001b[1m1/1\u001b[0m \u001b[32m━━━━━━━━━━━━━━━━━━━━\u001b[0m\u001b[37m\u001b[0m \u001b[1m0s\u001b[0m 21ms/step\n"
     ]
    },
    {
     "name": "stderr",
     "output_type": "stream",
     "text": [
      "/Users/mischaknabenhans/Desktop/LEARNING/Lectures/OnlineLectures/Coursera/DL_and_RL/FaceClassifier/face_cls_env/lib/python3.11/site-packages/sklearn/metrics/_classification.py:395: UserWarning: A single label was found in 'y_true' and 'y_pred'. For the confusion matrix to have the correct shape, use the 'labels' parameter to pass all known labels.\n",
      "  warnings.warn(\n"
     ]
    }
   ],
   "source": [
    "# Initialize the dict to hold the performance metrics\n",
    "performance_df = dict()\n",
    "\n",
    "# Iterate over all non-target attributes\n",
    "non_targets = [a for a in attrs.columns if a!=target]\n",
    "for attr in non_targets:\n",
    "    # Print info for human-readablity\n",
    "    print(attr)\n",
    "    print(\"=\"*len(attr))\n",
    "\n",
    "    # Create sub-dicts for subgroups of current attr\n",
    "    subgroups = dict()  # will contain all test examples falling in each subgroup\n",
    "    performance_by_subgroup = dict()  # will contain performance metrics for each subgroup\n",
    "\n",
    "    # Iterate over all subgroups of current attr\n",
    "    for gidx in test_data[attr].unique():\n",
    "        # Find all test example in the current subgroup\n",
    "        subgroups[gidx] = list(test_data[test_data[attr]==gidx].index)\n",
    "\n",
    "        # For these examples, predict the gender class probabilities and class labels\n",
    "        y_prob_subg = model.predict(X_test[subgroups[gidx]])\n",
    "        y_pred_subg = np.array([np.argmax(i) for i in y_prob_subg])\n",
    "\n",
    "        # Using the predicted and true probabilities and labels, compute the performance\n",
    "        # metrics: accuracy, balanced accuracy, F1 score and ROC AUC score\n",
    "        acc = accuracy_score(y_test.iloc[subgroups[gidx]], y_pred_subg)\n",
    "        balacc = balanced_accuracy_score(y_test.iloc[subgroups[gidx]], y_pred_subg)\n",
    "        F1 = f1_score(y_test.iloc[subgroups[gidx]], y_pred_subg)\n",
    "        try:\n",
    "            rocauc = roc_auc_score(y_test.iloc[subgroups[gidx]], y_prob_subg[:,1])\n",
    "        except ValueError:\n",
    "            rocauc = np.nan\n",
    "\n",
    "        # ... and store them all into a dictionary\n",
    "        performance_by_subgroup[gidx] = {\"accuracy\": acc,\n",
    "                                         \"balanced_accuracy\": balacc,\n",
    "                                         \"ROC_AUC\": rocauc,\n",
    "                                         \"F1\": F1}\n",
    "    \n",
    "    # Convert to data frame for easier plotting\n",
    "    sorted_columns = sorted([k for k,v in performance_by_subgroup.items()])\n",
    "    performance_df[attr] = pd.DataFrame(performance_by_subgroup, \n",
    "                                     columns = sorted_columns).transpose()    "
   ]
  },
  {
   "cell_type": "markdown",
   "id": "b0c2da37-d73b-49fd-abc0-ec0566b63dec",
   "metadata": {},
   "source": [
    "Let's visualize the computed metrics:"
   ]
  },
  {
   "cell_type": "code",
   "execution_count": 28,
   "id": "6dee903d-d1bc-4e20-9b70-f6d919ad1f36",
   "metadata": {},
   "outputs": [
    {
     "data": {
      "image/png": "[encoded data removed]",
      "text/plain": [
       "<Figure size 1000x400 with 2 Axes>"
      ]
     },
     "metadata": {},
     "output_type": "display_data"
    }
   ],
   "source": [
    "fig, axs = plt.subplots(1,2, figsize=(10,4), sharey=True, gridspec_kw = {\"hspace\": 0.07})\n",
    "ax = axs[0]\n",
    "performance_df[\"ethnicity\"].plot(kind=\"bar\", ax = ax, grid=True, legend=False)\n",
    "ax.set_xlabel(\"Ethnicity\")\n",
    "ax.set_ylabel(\"Metric\")\n",
    "\n",
    "ax = axs[1]\n",
    "performance_df[\"age_decades\"].plot(kind=\"bar\", ax = ax, grid=True)\n",
    "ax.set_xlabel(\"Age (decade)\")\n",
    "ax.legend(loc=\"center\", bbox_to_anchor=(-0.15,-0.25), ncol=4)\n",
    "\n",
    "fig.suptitle(\"Classification performance by ethnicity and age group\")\n",
    "\n",
    "plt.savefig(new_model_dir / f\"cls_performance_analysis__{file_suffix}.png\", \n",
    "            bbox_inches='tight')\n",
    "plt.show()"
   ]
  },
  {
   "cell_type": "markdown",
   "id": "486175d6-f31c-4892-aff8-3993a4dccc6f",
   "metadata": {},
   "source": [
    "While these visualizations give an intuitive picture of the biases that are present in the current model, we should try to quantify them as well. To do so, one can study the variability of the performance metrics around the mean value. As the number of samples (attribute subgroups) is quite small, the spread should be considered on top of the standard deviation to get an idea of the variability. The smaller these variability values are, the less biased the model is (as all performance values are very similar for all attribute subgroups)."
   ]
  },
  {
   "cell_type": "code",
   "execution_count": 29,
   "id": "4e7dcb44-2cc7-4110-b3da-89ce57c3687d",
   "metadata": {},
   "outputs": [
    {
     "name": "stdout",
     "output_type": "stream",
     "text": [
      "ethnicity\n",
      "=========\n"
     ]
    },
    {
     "data": {
      "text/html": [
       "<div>\n",
       "<style scoped>\n",
       "    .dataframe tbody tr th:only-of-type {\n",
       "        vertical-align: middle;\n",
       "    }\n",
       "\n",
       "    .dataframe tbody tr th {\n",
       "        vertical-align: top;\n",
       "    }\n",
       "\n",
       "    .dataframe thead th {\n",
       "        text-align: right;\n",
       "    }\n",
       "</style>\n",
       "<table border=\"1\" class=\"dataframe\">\n",
       "  <thead>\n",
       "    <tr style=\"text-align: right;\">\n",
       "      <th></th>\n",
       "      <th>accuracy</th>\n",
       "      <th>balanced_accuracy</th>\n",
       "      <th>ROC_AUC</th>\n",
       "      <th>F1</th>\n",
       "    </tr>\n",
       "  </thead>\n",
       "  <tbody>\n",
       "    <tr>\n",
       "      <th>mean</th>\n",
       "      <td>0.890037</td>\n",
       "      <td>0.889503</td>\n",
       "      <td>0.957813</td>\n",
       "      <td>0.889547</td>\n",
       "    </tr>\n",
       "    <tr>\n",
       "      <th>std</th>\n",
       "      <td>0.031221</td>\n",
       "      <td>0.030027</td>\n",
       "      <td>0.019693</td>\n",
       "      <td>0.021522</td>\n",
       "    </tr>\n",
       "    <tr>\n",
       "      <th>spread</th>\n",
       "      <td>0.079882</td>\n",
       "      <td>0.075048</td>\n",
       "      <td>0.049728</td>\n",
       "      <td>0.056071</td>\n",
       "    </tr>\n",
       "  </tbody>\n",
       "</table>\n",
       "</div>"
      ],
      "text/plain": [
       "        accuracy  balanced_accuracy   ROC_AUC        F1\n",
       "mean    0.890037           0.889503  0.957813  0.889547\n",
       "std     0.031221           0.030027  0.019693  0.021522\n",
       "spread  0.079882           0.075048  0.049728  0.056071"
      ]
     },
     "metadata": {},
     "output_type": "display_data"
    },
    {
     "name": "stdout",
     "output_type": "stream",
     "text": [
      "\n",
      "age_decades\n",
      "===========\n"
     ]
    },
    {
     "data": {
      "text/html": [
       "<div>\n",
       "<style scoped>\n",
       "    .dataframe tbody tr th:only-of-type {\n",
       "        vertical-align: middle;\n",
       "    }\n",
       "\n",
       "    .dataframe tbody tr th {\n",
       "        vertical-align: top;\n",
       "    }\n",
       "\n",
       "    .dataframe thead th {\n",
       "        text-align: right;\n",
       "    }\n",
       "</style>\n",
       "<table border=\"1\" class=\"dataframe\">\n",
       "  <thead>\n",
       "    <tr style=\"text-align: right;\">\n",
       "      <th></th>\n",
       "      <th>accuracy</th>\n",
       "      <th>balanced_accuracy</th>\n",
       "      <th>ROC_AUC</th>\n",
       "      <th>F1</th>\n",
       "    </tr>\n",
       "  </thead>\n",
       "  <tbody>\n",
       "    <tr>\n",
       "      <th>mean</th>\n",
       "      <td>0.858752</td>\n",
       "      <td>0.857569</td>\n",
       "      <td>0.905335</td>\n",
       "      <td>0.850168</td>\n",
       "    </tr>\n",
       "    <tr>\n",
       "      <th>std</th>\n",
       "      <td>0.116442</td>\n",
       "      <td>0.109722</td>\n",
       "      <td>0.094501</td>\n",
       "      <td>0.111960</td>\n",
       "    </tr>\n",
       "    <tr>\n",
       "      <th>spread</th>\n",
       "      <td>0.352531</td>\n",
       "      <td>0.350159</td>\n",
       "      <td>0.263931</td>\n",
       "      <td>0.350694</td>\n",
       "    </tr>\n",
       "  </tbody>\n",
       "</table>\n",
       "</div>"
      ],
      "text/plain": [
       "        accuracy  balanced_accuracy   ROC_AUC        F1\n",
       "mean    0.858752           0.857569  0.905335  0.850168\n",
       "std     0.116442           0.109722  0.094501  0.111960\n",
       "spread  0.352531           0.350159  0.263931  0.350694"
      ]
     },
     "metadata": {},
     "output_type": "display_data"
    },
    {
     "name": "stdout",
     "output_type": "stream",
     "text": [
      "\n"
     ]
    }
   ],
   "source": [
    "for attr in non_targets:\n",
    "    stats = dict()  # Dictionary to be populated with performance stats\n",
    "    for col in performance_df[attr]:\n",
    "        # Compute performance stats (per attribute subgroup) and\n",
    "        # populate 'stats' with them.\n",
    "        stats[col] = {\"mean\": performance_df[attr][col].mean(),\n",
    "                      \"std\": performance_df[attr][col].std(),\n",
    "                      \"spread\": performance_df[attr][col].max() - performance_df[attr][col].min()\n",
    "                     }\n",
    "\n",
    "    # Convert dictionary to pd.DataFrame (again for convenient writing)\n",
    "    stats_df = pd.DataFrame(stats)\n",
    "\n",
    "    # Print and display the results\n",
    "    print(attr)\n",
    "    print(\"=\" * len(attr))\n",
    "    display(stats_df)\n",
    "    print()\n",
    "\n",
    "    stats_df.to_csv(new_model_dir / f\"performance_stats__{attr}__{file_suffix}.csv\", index=False) "
   ]
  },
  {
   "cell_type": "code",
   "execution_count": null,
   "id": "9afb0fbe-ba36-43c5-8aa5-94ea96c5fabf",
   "metadata": {},
   "outputs": [],
   "source": []
  }
 ],
 "metadata": {
  "kernelspec": {
   "display_name": "Python 3 (ipykernel)",
   "language": "python",
   "name": "python3"
  },
  "language_info": {
   "codemirror_mode": {
    "name": "ipython",
    "version": 3
   },
   "file_extension": ".py",
   "mimetype": "text/x-python",
   "name": "python",
   "nbconvert_exporter": "python",
   "pygments_lexer": "ipython3",
   "version": "3.11.9"
  }
 },
 "nbformat": 4,
 "nbformat_minor": 5
}
