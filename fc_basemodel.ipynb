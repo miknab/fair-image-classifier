{
 "cells": [
  {
   "cell_type": "markdown",
   "id": "5d703a2e-3a31-4fec-9889-d70aab84c0a3",
   "metadata": {},
   "source": [
    "# Face classifier - Baseline Model"
   ]
  },
  {
   "cell_type": "markdown",
   "id": "fd2c0102-7540-4c78-ba92-c552a24cdc12",
   "metadata": {},
   "source": [
    "## Set up"
   ]
  },
  {
   "cell_type": "code",
   "execution_count": null,
   "id": "c9e4be5a-8792-4f83-9ec3-2a58cca9e06e",
   "metadata": {},
   "outputs": [],
   "source": [
    "# Stdlib imports\n",
    "from pathlib import Path\n",
    "from datetime import datetime as dt\n",
    "\n",
    "# 3rd party imports\n",
    "import pandas as pd\n",
    "import numpy as np\n",
    "import seaborn as sns\n",
    "import matplotlib.pyplot as plt\n",
    "import random\n",
    "\n",
    "from sklearn.model_selection import train_test_split, RandomizedSearchCV\n",
    "from sklearn.linear_model import LogisticRegression\n",
    "from sklearn.ensemble import RandomForestClassifier\n",
    "from sklearn.metrics import accuracy_score, balanced_accuracy_score \n",
    "from sklearn.metrics import classification_report, roc_curve, roc_auc_score, f1_score\n",
    "\n",
    "# Local imports\n",
    "from facecls import fcaux"
   ]
  },
  {
   "cell_type": "code",
   "execution_count": null,
   "id": "cbaaf28f-10d4-4473-b4fa-f88dc90d53f1",
   "metadata": {},
   "outputs": [],
   "source": [
    "seed = 42\n",
    "np.random.seed(seed)\n",
    "random.seed(seed)"
   ]
  },
  {
   "cell_type": "code",
   "execution_count": null,
   "id": "5068cab3-27ef-4d27-8e58-936690ca38e9",
   "metadata": {},
   "outputs": [],
   "source": [
    "target = \"gender\"\n",
    "model_type = \"logreg\" "
   ]
  },
  {
   "cell_type": "code",
   "execution_count": null,
   "id": "e8f18fa1-1c9d-432d-9e0d-6ae793397ad2",
   "metadata": {},
   "outputs": [],
   "source": [
    "models_dir = Path(f\"results/models/{target.title()}Classifier/\")\n",
    "\n",
    "try:\n",
    "    last_model_id = max([int(folder.as_posix().split(\"_\")[2]) for folder in models_dir.glob(f'{model_type}*')])\n",
    "except ValueError:\n",
    "    last_model_id = 0\n",
    "\n",
    "print(\"Last model id:\", last_model_id)\n",
    "\n",
    "new_model_id = last_model_id + 1\n",
    "file_suffix = f\"{model_type}_{target}_{str(new_model_id).zfill(3)}\"\n",
    "new_model_dir = models_dir / file_suffix\n",
    "print(f\"Creating folder \\\"{new_model_dir}\\\"...\")\n",
    "new_model_dir.mkdir(parents=True, exist_ok=True)"
   ]
  },
  {
   "cell_type": "markdown",
   "id": "00bec25b-11be-414b-9815-9743234566ef",
   "metadata": {},
   "source": [
    "## Load data"
   ]
  },
  {
   "cell_type": "code",
   "execution_count": null,
   "id": "592f911a-1b01-4cbd-a8ec-f85cac46c4d3",
   "metadata": {},
   "outputs": [],
   "source": [
    "data = pd.read_csv(\"data/age_gender_preproc.csv\")"
   ]
  },
  {
   "cell_type": "markdown",
   "id": "126872b5-2f0e-4217-b027-2c0f3878242c",
   "metadata": {},
   "source": [
    "## Baseline model 1: Logistic Regression"
   ]
  },
  {
   "cell_type": "code",
   "execution_count": null,
   "id": "517188ad-1374-4e15-936b-7cc1ad6848ce",
   "metadata": {},
   "outputs": [],
   "source": [
    "full_img_vec_list = np.array([fcaux.pxlstring2pxlvec(data, i) for i in range(data.shape[0])])"
   ]
  },
  {
   "cell_type": "markdown",
   "id": "28602822-f3c1-4f40-a7d7-e5cf6f342d8a",
   "metadata": {},
   "source": [
    "#### Data split"
   ]
  },
  {
   "cell_type": "code",
   "execution_count": null,
   "id": "ee9d9bd9-056e-4eac-a20e-b22d1f5f1afe",
   "metadata": {},
   "outputs": [],
   "source": [
    "indeces = list(range(len(full_img_vec_list)))"
   ]
  },
  {
   "cell_type": "code",
   "execution_count": null,
   "id": "76de801d-8eb6-44e8-85d7-b9a625a004ff",
   "metadata": {},
   "outputs": [],
   "source": [
    "if \"age\" in target and not(target == \"age_cat\"):\n",
    "    idx_train, idx_test = train_test_split(indeces,\n",
    "                                           test_size = 0.2,\n",
    "                                           random_state=seed)\n",
    "    idx_train, idx_val  = train_test_split(idx_train,\n",
    "                                           test_size = 0.1,\n",
    "                                           random_state=seed)\n",
    "\n",
    "    X_train = full_img_vec_list[idx_train]\n",
    "    y_train = data[target].values[idx_train]\n",
    "    X_val = full_img_vec_list[idx_val]\n",
    "    y_val = data[target].values[idx_val]\n",
    "    X_test = full_img_vec_list[idx_test]\n",
    "    y_test = data[target].values[idx_test]\n",
    "    test_attrs = data[[\"age\", \"ethnicity\", \"gender\"]].iloc[idx_test]\n",
    "\n",
    "else:\n",
    "    idx_train, idx_test = train_test_split(indeces, \n",
    "                                           test_size = 0.2,\n",
    "                                           stratify = data[target].values,\n",
    "                                           random_state=seed\n",
    "                                           )\n",
    "\n",
    "    idx_train, idx_val  = train_test_split(idx_train, \n",
    "                                           test_size = 0.1,\n",
    "                                           stratify = data[target].values[idx_train],\n",
    "                                           random_state=seed\n",
    "                                           )\n",
    "\n",
    "    X_train = full_img_vec_list[idx_train]\n",
    "    y_train = data[target].values[idx_train]\n",
    "    X_val = full_img_vec_list[idx_val]\n",
    "    y_val = data[target].values[idx_val]\n",
    "    X_test = full_img_vec_list[idx_test]\n",
    "    y_test = data[target].values[idx_test]\n",
    "    test_attrs = data[[\"age\", \"ethnicity\", \"gender\"]].iloc[idx_test]"
   ]
  },
  {
   "cell_type": "code",
   "execution_count": null,
   "id": "fa9c2642-85d4-4a71-b179-4fb6e913d396",
   "metadata": {},
   "outputs": [],
   "source": [
    "print(\"#training:\", len(X_train))\n",
    "print(\"#validation:\", len(X_val))\n",
    "print(\"#test:\", len(X_test))"
   ]
  },
  {
   "cell_type": "code",
   "execution_count": null,
   "id": "7101f67d-e1da-4b20-bc49-5b75b713de54",
   "metadata": {},
   "outputs": [],
   "source": [
    "idx_val += (len(idx_train) - len(idx_val))*[np.nan]\n",
    "idx_test += (len(idx_train) - len(idx_test))*[np.nan]\n",
    "\n",
    "assert len(idx_train) == len(idx_val)\n",
    "assert len(idx_train) == len(idx_test)\n",
    "\n",
    "idx_df = pd.DataFrame({\"train_idx\": idx_train,\n",
    "                       \"val_idx\": idx_val,\n",
    "                       \"test_idx\": idx_test}, dtype=\"Int64\")\n",
    "\n",
    "idx_df.to_csv(new_model_dir / f\"data_set_indices__{file_suffix}.csv\", index=False)"
   ]
  },
  {
   "cell_type": "code",
   "execution_count": null,
   "id": "ef71a233-762f-42e4-86df-24f5a0f10501",
   "metadata": {},
   "outputs": [],
   "source": [
    "model = LogisticRegression(random_state = seed, \n",
    "                           #solver=\"liblinear\",\n",
    "                           n_jobs = -1,\n",
    "                           verbose=True\n",
    "                           )\n",
    "\n",
    "start = dt.now()\n",
    "model.fit(X_train, y_train)\n",
    "elapsed = dt.now()-start\n",
    "print(f\"Elapsed: {elapsed}s\")"
   ]
  },
  {
   "cell_type": "code",
   "execution_count": null,
   "id": "334e07c6-a18c-4fa8-bc43-715d3b25bada",
   "metadata": {},
   "outputs": [],
   "source": [
    "model = RandomForestClassifier(random_state = seed,\n",
    "                               n_jobs = -1,\n",
    "                               verbose=True\n",
    "                               )\n",
    "\n",
    "param_dist = {\"n_estimators\": [10,50,100,200,500,1000],\n",
    "              \"max_depth\": [1,2,3,4,5]\n",
    "             }\n",
    "\n",
    "rand_search = RandomizedSearchCV(model,\n",
    "                                 param_distributions = param_dist,\n",
    "                                 cv = 5,\n",
    "                                 n_iter = 10,\n",
    "                                 random_state = seed, \n",
    "                                 n_jobs = -1,\n",
    "                                 verbose = True \n",
    "                                )\n",
    "\n",
    "start = dt.now()\n",
    "rand_search.fit(X_train, y_train)\n",
    "elapsed = dt.now()-start\n",
    "print(f\"Elapsed: {elapsed}s\")"
   ]
  },
  {
   "cell_type": "code",
   "execution_count": null,
   "id": "ddfd5ffa-202e-4064-80dd-148de3b62c6a",
   "metadata": {},
   "outputs": [],
   "source": [
    "model = rand_search.best_estimator_"
   ]
  },
  {
   "cell_type": "code",
   "execution_count": null,
   "id": "c930603d-abca-4b79-8592-faf1e52a8249",
   "metadata": {},
   "outputs": [],
   "source": [
    "y_prob_test = model.predict_proba(X_test)"
   ]
  },
  {
   "cell_type": "code",
   "execution_count": null,
   "id": "fac8100a-5a0b-4a95-aa50-d78f72022fd2",
   "metadata": {},
   "outputs": [],
   "source": [
    "fpr, tpr, thr = roc_curve(y_test, y_prob_test[:,1])\n",
    "pd.DataFrame({\"FPR\": fpr, \"TPR\": tpr}).to_csv(new_model_dir / f\"fpr_vs_tpr__{file_suffix}.csv\")"
   ]
  },
  {
   "cell_type": "code",
   "execution_count": null,
   "id": "308507bf-c3d8-4bd3-98f7-cfe6c8dcc2de",
   "metadata": {},
   "outputs": [],
   "source": [
    "fig, ax = plt.subplots()\n",
    "ax.plot(fpr,tpr)\n",
    "ax.plot([0,1], [0,1], ls=\"--\", c=\"k\")\n",
    "ax.grid(True)\n",
    "ax.set_xlabel(\"False Positive Rate\")\n",
    "ax.set_ylabel(\"True Positive Rate\")\n",
    "ax.set_title(f\"ROC AUC: {np.round(roc_auc_score(y_test, y_prob_test[:,1]),4)}\")\n",
    "plt.savefig(new_model_dir / f\"roc_curve__{file_suffix}.png\",\n",
    "            bbox_inches='tight')\n",
    "plt.show()"
   ]
  },
  {
   "cell_type": "code",
   "execution_count": null,
   "id": "1ef7a988-43b8-43c4-b857-aea7760cdf0e",
   "metadata": {},
   "outputs": [],
   "source": [
    "y_pred_train = model.predict(X_train)\n",
    "y_pred_val = model.predict(X_val)\n",
    "y_pred_test = model.predict(X_test)\n",
    "\n",
    "y_proba_train = model.predict_proba(X_train)\n",
    "y_proba_val = model.predict_proba(X_val)\n",
    "y_proba_test = model.predict_proba(X_test)"
   ]
  },
  {
   "cell_type": "code",
   "execution_count": null,
   "id": "290cf858-de57-4817-a3e5-0017caa3da25",
   "metadata": {},
   "outputs": [],
   "source": [
    "cls_report = pd.DataFrame(classification_report(y_test, y_pred_test, output_dict=True))\n",
    "cls_report.to_csv(new_model_dir / f\"classificationo_report__{file_suffix}.csv\")"
   ]
  },
  {
   "cell_type": "code",
   "execution_count": null,
   "id": "fccac466-2590-4ae3-a1f1-c06b2aabb28b",
   "metadata": {},
   "outputs": [],
   "source": [
    "train_metrics = {\"accuracy\": accuracy_score(y_train, y_pred_train),\n",
    "                \"balanced_accuracy\": balanced_accuracy_score(y_train, y_pred_train),\n",
    "                \"roc_auc\": roc_auc_score(y_train, y_proba_train[:,1]),\n",
    "                \"F1\": f1_score(y_train, y_pred_train)}\n",
    "\n",
    "val_metrics = {\"accuracy\": accuracy_score(y_val, y_pred_val),\n",
    "                \"balanced_accuracy\": balanced_accuracy_score(y_val, y_pred_val),\n",
    "                \"roc_auc\": roc_auc_score(y_val, y_proba_val[:,1]),\n",
    "                \"F1\": f1_score(y_val, y_pred_val)}\n",
    "\n",
    "test_metrics = {\"accuracy\": accuracy_score(y_test, y_pred_test),\n",
    "                \"balanced_accuracy\": balanced_accuracy_score(y_test, y_pred_test),\n",
    "                \"roc_auc\": roc_auc_score(y_test, y_proba_test[:,1]),\n",
    "                \"F1\": f1_score(y_test, y_pred_test)}\n",
    "\n",
    "metrics_df = pd.DataFrame({\"train\": train_metrics, \n",
    "                           \"val\": val_metrics, \n",
    "                           \"test\": test_metrics})\n",
    "\n",
    "display(metrics_df)\n",
    "metrics_df.to_csv(new_model_dir / f\"metrics__{file_suffix}.csv\")"
   ]
  },
  {
   "cell_type": "code",
   "execution_count": null,
   "id": "5653e89e-2153-4f72-9d95-550871070dc5",
   "metadata": {},
   "outputs": [],
   "source": [
    "base_best_params = pd.DataFrame({k: str(v) for k,v in rand_search.best_params_.items()}, index=[0])\n",
    "base_best_params.to_csv(new_model_dir / f\"best_params__{file_suffix}.csv\", index=False)"
   ]
  }
 ],
 "metadata": {
  "kernelspec": {
   "display_name": "Python 3 (ipykernel)",
   "language": "python",
   "name": "python3"
  },
  "language_info": {
   "codemirror_mode": {
    "name": "ipython",
    "version": 3
   },
   "file_extension": ".py",
   "mimetype": "text/x-python",
   "name": "python",
   "nbconvert_exporter": "python",
   "pygments_lexer": "ipython3",
   "version": "3.11.9"
  }
 },
 "nbformat": 4,
 "nbformat_minor": 5
}
