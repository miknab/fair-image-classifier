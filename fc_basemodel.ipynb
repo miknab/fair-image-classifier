{
 "cells": [
  {
   "cell_type": "markdown",
   "id": "5d703a2e-3a31-4fec-9889-d70aab84c0a3",
   "metadata": {},
   "source": [
    "# Face classifier - Baseline Model"
   ]
  },
  {
   "cell_type": "markdown",
   "id": "fd2c0102-7540-4c78-ba92-c552a24cdc12",
   "metadata": {},
   "source": [
    "## Set up"
   ]
  },
  {
   "cell_type": "code",
   "execution_count": null,
   "id": "c9e4be5a-8792-4f83-9ec3-2a58cca9e06e",
   "metadata": {},
   "outputs": [],
   "source": [
    "# Stdlib imports\n",
    "from pathlib import Path\n",
    "\n",
    "# 3rd party imports\n",
    "import pandas as pd\n",
    "import numpy as np\n",
    "import seaborn as sns\n",
    "import matplotlib.pyplot as plt\n",
    "import random\n",
    "\n",
    "from sklearn.model_selection import train_test_split, RandomizedSearchCV\n",
    "from sklearn.neural_network import MLPClassifier\n",
    "from sklearn.metrics import log_loss, accuracy_score, classification_report, roc_curve, roc_auc_score\n",
    "\n",
    "# Local imports\n",
    "from facecls import fcaux"
   ]
  },
  {
   "cell_type": "code",
   "execution_count": null,
   "id": "cbaaf28f-10d4-4473-b4fa-f88dc90d53f1",
   "metadata": {},
   "outputs": [],
   "source": [
    "seed = 42\n",
    "np.random.seed(seed)\n",
    "random.seed(seed)"
   ]
  },
  {
   "cell_type": "code",
   "execution_count": null,
   "id": "5068cab3-27ef-4d27-8e58-936690ca38e9",
   "metadata": {},
   "outputs": [],
   "source": [
    "target = \"gender\""
   ]
  },
  {
   "cell_type": "code",
   "execution_count": null,
   "id": "e8f18fa1-1c9d-432d-9e0d-6ae793397ad2",
   "metadata": {},
   "outputs": [],
   "source": [
    "models_dir = Path(f\"results/models/{target.title()}Classifier/\")\n",
    "\n",
    "try:\n",
    "    last_model_id = max([int(folder.as_posix().split(\"_\")[2]) for folder in models_dir.glob('mlp*')])\n",
    "except ValueError:\n",
    "    last_model_id = 0\n",
    "\n",
    "print(\"Last model id:\", last_model_id)\n",
    "\n",
    "new_model_id = last_model_id + 1\n",
    "file_suffix = f\"mlp_{target}_{str(new_model_id).zfill(3)}\"\n",
    "new_model_dir = models_dir / file_suffix\n",
    "print(f\"Creating folder \\\"{new_model_dir}\\\"...\")\n",
    "new_model_dir.mkdir(parents=True, exist_ok=True)"
   ]
  },
  {
   "cell_type": "markdown",
   "id": "00bec25b-11be-414b-9815-9743234566ef",
   "metadata": {},
   "source": [
    "## Load data"
   ]
  },
  {
   "cell_type": "code",
   "execution_count": null,
   "id": "592f911a-1b01-4cbd-a8ec-f85cac46c4d3",
   "metadata": {},
   "outputs": [],
   "source": [
    "data = pd.read_csv(\"data/age_gender_preproc.csv\")"
   ]
  },
  {
   "cell_type": "markdown",
   "id": "126872b5-2f0e-4217-b027-2c0f3878242c",
   "metadata": {},
   "source": [
    "## Baseline model: Multilayer perceptron classifier"
   ]
  },
  {
   "cell_type": "code",
   "execution_count": null,
   "id": "517188ad-1374-4e15-936b-7cc1ad6848ce",
   "metadata": {},
   "outputs": [],
   "source": [
    "full_img_vec_list = np.array([fcaux.pxlstring2pxlvec(data, i) for i in range(data.shape[0])])"
   ]
  },
  {
   "cell_type": "markdown",
   "id": "28602822-f3c1-4f40-a7d7-e5cf6f342d8a",
   "metadata": {},
   "source": [
    "#### Data split"
   ]
  },
  {
   "cell_type": "code",
   "execution_count": null,
   "id": "ee9d9bd9-056e-4eac-a20e-b22d1f5f1afe",
   "metadata": {},
   "outputs": [],
   "source": [
    "indeces = list(range(len(full_img_vec_list)))"
   ]
  },
  {
   "cell_type": "code",
   "execution_count": null,
   "id": "76de801d-8eb6-44e8-85d7-b9a625a004ff",
   "metadata": {},
   "outputs": [],
   "source": [
    "if \"age\" in target and not(target == \"age_cat\"):\n",
    "    idx_train, idx_test = train_test_split(indeces,\n",
    "                                           test_size = 0.2,\n",
    "                                           random_state=seed)\n",
    "    idx_train, idx_val  = train_test_split(idx_train,\n",
    "                                           test_size = 0.1,\n",
    "                                           random_state=seed)\n",
    "\n",
    "    X_train = full_img_vec_list[idx_train]\n",
    "    y_train = data[target].values[idx_train]\n",
    "    X_val = full_img_vec_list[idx_val]\n",
    "    y_val = data[target].values[idx_val]\n",
    "    X_test = full_img_vec_list[idx_test]\n",
    "    y_test = data[target].values[idx_test]\n",
    "    test_attrs = data[[\"age\", \"ethnicity\", \"gender\"]].iloc[idx_test]\n",
    "\n",
    "else:\n",
    "    idx_train, idx_test = train_test_split(indeces, \n",
    "                                           test_size = 0.2,\n",
    "                                           stratify = data[target].values,\n",
    "                                           random_state=seed\n",
    "                                           )\n",
    "\n",
    "    idx_train, idx_val  = train_test_split(idx_train, \n",
    "                                           test_size = 0.2,\n",
    "                                           stratify = data[target].values[idx_train],\n",
    "                                           random_state=seed\n",
    "                                           )\n",
    "\n",
    "    X_train = full_img_vec_list[idx_train]\n",
    "    y_train = data[target].values[idx_train]\n",
    "    X_val = full_img_vec_list[idx_val]\n",
    "    y_val = data[target].values[idx_val]\n",
    "    X_test = full_img_vec_list[idx_test]\n",
    "    y_test = data[target].values[idx_test]\n",
    "    test_attrs = data[[\"age\", \"ethnicity\", \"gender\"]].iloc[idx_test]"
   ]
  },
  {
   "cell_type": "code",
   "execution_count": null,
   "id": "7101f67d-e1da-4b20-bc49-5b75b713de54",
   "metadata": {},
   "outputs": [],
   "source": [
    "idx_val += (len(idx_train) - len(idx_val))*[np.nan]\n",
    "idx_test += (len(idx_train) - len(idx_test))*[np.nan]\n",
    "\n",
    "assert len(idx_train) == len(idx_val)\n",
    "assert len(idx_train) == len(idx_test)\n",
    "\n",
    "idx_df = pd.DataFrame({\"train_idx\": idx_train,\n",
    "                       \"val_idx\": idx_val,\n",
    "                       \"test_idx\": idx_test}, dtype=\"Int64\")\n",
    "\n",
    "idx_df.to_csv(new_model_dir / f\"data_set_indices__{file_suffix}.csv\", index=False)"
   ]
  },
  {
   "cell_type": "code",
   "execution_count": null,
   "id": "334e07c6-a18c-4fa8-bc43-715d3b25bada",
   "metadata": {},
   "outputs": [],
   "source": [
    "mlp = MLPClassifier(hidden_layer_sizes = (1024,),\n",
    "                           activation='relu', \n",
    "                           solver='adam', \n",
    "                           tol = 0.01,\n",
    "                           batch_size = 32,\n",
    "                           learning_rate='adaptive',\n",
    "                           verbose = True,\n",
    "                           shuffle = True,\n",
    "                           max_iter=1,\n",
    "                           warm_start=True,\n",
    "                           random_state = seed)\n",
    "\n",
    "training_losses = []\n",
    "validation_losses = []\n",
    "training_accuracies = []\n",
    "validation_accuracies = []\n",
    "\n",
    "n_epochs = 20\n",
    "for epoch in range(n_epochs):\n",
    "    # Fit the model for one epoch\n",
    "    mlp.partial_fit(X_train, y_train, classes=np.unique(data[target].values))\n",
    "    \n",
    "    # Calculate the training loss\n",
    "    train_prob = mlp.predict_proba(X_train)\n",
    "    train_loss = log_loss(y_train, train_prob)\n",
    "    training_losses.append(train_loss)\n",
    "    \n",
    "    # Calculate the validation loss\n",
    "    val_prob = mlp.predict_proba(X_val)\n",
    "    val_loss = log_loss(y_val, val_prob)\n",
    "    validation_losses.append(val_loss)\n",
    "    \n",
    "    # Calculate the training accuracy\n",
    "    train_pred = mlp.predict(X_train)\n",
    "    train_accuracy = accuracy_score(y_train, train_pred)\n",
    "    training_accuracies.append(train_accuracy)\n",
    "\n",
    "    # Calculate the validation accuracy\n",
    "    val_pred = mlp.predict(X_val)\n",
    "    val_accuracy = accuracy_score(y_val, val_pred)\n",
    "    validation_accuracies.append(val_accuracy)\n",
    "    \n",
    "    print(f'Epoch {epoch + 1}/{n_epochs} - Training Loss: {train_loss:.4f} - Validation Loss: {val_loss:.4f} - Training Accuracy: {train_accuracy:.4f}')\n"
   ]
  },
  {
   "cell_type": "code",
   "execution_count": null,
   "id": "3be3f3f8-dbc0-47c3-b499-0b6a765ec448",
   "metadata": {},
   "outputs": [],
   "source": [
    "fig, axs = plt.subplots(2,1, figsize=(5,4), sharex=True)\n",
    "ax = axs[0]\n",
    "ax.plot(training_losses, label=\"training\")\n",
    "ax.plot(validation_losses, label=\"validation\")\n",
    "ax.grid(True)\n",
    "ax.set_xticks(range(20))\n",
    "ax.set_ylabel(\"Loss\")\n",
    "ax.set_title(\"1 hidden layer with 1024 neurons\")\n",
    "ax.legend(loc=\"best\")\n",
    "\n",
    "ax = axs[1]\n",
    "ax.plot(training_accuracies, label=\"training\")\n",
    "ax.plot(validation_accuracies, label=\"validation\")\n",
    "ax.grid(True)\n",
    "ax.set_xticks(range(20))\n",
    "ax.set_xlabel(\"Epochs\")\n",
    "ax.set_ylabel(\"Accuracy\")\n",
    "ax.legend(loc=\"best\")\n",
    "\n",
    "plt.savefig(\"results/loss_curve_1x1024_mlp.png\")\n",
    "plt.show()"
   ]
  },
  {
   "cell_type": "code",
   "execution_count": null,
   "id": "5dd00c00-6f29-48f0-b7b4-de0664d85281",
   "metadata": {},
   "outputs": [],
   "source": [
    "y_prob = mlp.predict_proba(X_test)\n",
    "y_pred = mlp.predict(X_test)"
   ]
  },
  {
   "cell_type": "code",
   "execution_count": null,
   "id": "a94dbe53-777f-427c-a13a-759027172daa",
   "metadata": {},
   "outputs": [],
   "source": [
    "fpr, tpr, thr = roc_curve(y_test, y_prob[:,1])"
   ]
  },
  {
   "cell_type": "code",
   "execution_count": null,
   "id": "92a07633-722e-4f5b-86cf-6041a2b9df8a",
   "metadata": {},
   "outputs": [],
   "source": [
    "fig, ax = plt.subplots()\n",
    "ax.plot(fpr,tpr)\n",
    "ax.plot([0,1], [0,1], ls=\"--\", c=\"k\")\n",
    "ax.grid(True)\n",
    "ax.set_xlabel(\"False Positive Rate\")\n",
    "ax.set_ylabel(\"True Positive Rate\")\n",
    "ax.set_title(f\"ROC AUC: {np.round(roc_auc_score(y_test, y_prob[:,1]),4)}\")\n",
    "plt.show()"
   ]
  },
  {
   "cell_type": "code",
   "execution_count": null,
   "id": "a3bc8b14-ac97-43fa-9b9c-03e4cdcf640b",
   "metadata": {},
   "outputs": [],
   "source": [
    "pd.DataFrame({\"FPR\": fpr, \"TPR\": tpr}).to_csv(\"results/mlp_roc.csv\")"
   ]
  },
  {
   "cell_type": "code",
   "execution_count": null,
   "id": "4fd37b0d-4080-4e21-a5a3-00eed5810c6f",
   "metadata": {},
   "outputs": [],
   "source": [
    "pd.DataFrame(classification_report(y_test, y_pred, output_dict=True))"
   ]
  },
  {
   "cell_type": "code",
   "execution_count": null,
   "id": "2ccc0eac-c11b-4399-9fd1-7ada07ce4a1b",
   "metadata": {},
   "outputs": [],
   "source": [
    "parameters = {'hidden_layer_sizes':[(32), (64), (128), (256), (512),\n",
    "                                    (32, 32), (64, 64), (128, 128), (256, 128), (512, 256),\n",
    "                                    \n",
    "                                    ],\n",
    "              'alpha': [0.001, 0.01, 0.1], \n",
    "              'max_iter': [10, 50, 100], \n",
    "              'learning_rate_init':[0.001, 0.01, 0.1],\n",
    "              'batch_size': [16, 32]}\n",
    "\n",
    "base_model = MLPClassifier(activation='relu', \n",
    "                           solver='adam', \n",
    "                           tol = 0.01,\n",
    "                           learning_rate='adaptive',\n",
    "                           verbose = True,\n",
    "                           shuffle = True,\n",
    "                           n_iter_no_change = 5,\n",
    "                           random_state = seed)\n",
    "\n",
    "cv_model = RandomizedSearchCV(estimator=base_model, \n",
    "                              param_distributions=parameters,\n",
    "                              cv = 3,\n",
    "                              random_state = seed,\n",
    "                              verbose = True,\n",
    "                              n_iter = 5)\n",
    "\n",
    "cv_model.fit(X_train, y_train)"
   ]
  },
  {
   "cell_type": "code",
   "execution_count": null,
   "id": "fb9f53c3-3d4b-4f60-aab3-965a075debef",
   "metadata": {},
   "outputs": [],
   "source": [
    "plt.plot(cv_model.best_estimator_.loss_curve_)"
   ]
  },
  {
   "cell_type": "code",
   "execution_count": null,
   "id": "06d40784-3205-4fcc-a526-0cb613b20898",
   "metadata": {},
   "outputs": [],
   "source": [
    "cv_model.best_score_"
   ]
  },
  {
   "cell_type": "code",
   "execution_count": null,
   "id": "5653e89e-2153-4f72-9d95-550871070dc5",
   "metadata": {},
   "outputs": [],
   "source": [
    "base_best_params = pd.DataFrame({k: str(v) for k,v in cv_model.best_params_.items()}, index=[0])\n",
    "base_best_params.to_csv(\"../results/base_model__best_params.csv\", index=False)"
   ]
  },
  {
   "cell_type": "code",
   "execution_count": null,
   "id": "c2a7d862-8560-4185-8d71-820e4712a66c",
   "metadata": {},
   "outputs": [],
   "source": [
    "y_pred = cv_model.best_estimator_.predict(X_test)"
   ]
  },
  {
   "cell_type": "code",
   "execution_count": null,
   "id": "fb0f6afe-5dd0-4232-af63-0f16dc8ae9c9",
   "metadata": {},
   "outputs": [],
   "source": [
    "#accuracy_score(y_test, y_pred)\n",
    "pd.DataFrame(classification_report(y_test, y_pred, output_dict=True))"
   ]
  },
  {
   "cell_type": "code",
   "execution_count": null,
   "id": "9a3d9ecf-cf97-4348-bad0-9407959cf90c",
   "metadata": {},
   "outputs": [],
   "source": [
    "# Exploiting universal approximation theorem (UAT) for wide, shallow networks\n",
    "wide_shallow = [(2**n,) for n in range(4,15)]\n",
    "\n",
    "# Exploiting universal approximation theorem (UAT) for narrow, deep networks\n",
    "narrow_deep  = [tuple(i*[64]) for i in range(2,5)]\n",
    "\n",
    "parameters = {'hidden_layer_sizes': wide_shallow + narrow_deep,\n",
    "              'alpha': [0.001, 0.01, 0.1], \n",
    "              'max_iter': [10, 50, 100], \n",
    "              'learning_rate_init':[0.001, 0.01, 0.1],\n",
    "              'batch_size': [16, 32]}\n",
    "\n",
    "base_model = MLPClassifier(activation='relu', \n",
    "                           solver='adam', \n",
    "                           tol = 0.01,\n",
    "                           learning_rate='adaptive',\n",
    "                           verbose = True,\n",
    "                           shuffle = True,\n",
    "                           n_iter_no_change = 5,\n",
    "                           random_state = seed)\n",
    "\n",
    "cv_model2 = RandomizedSearchCV(estimator=base_model, \n",
    "                              param_distributions=parameters,\n",
    "                              cv = 3,\n",
    "                              random_state = seed,\n",
    "                              verbose = True,\n",
    "                              n_iter = 10)\n",
    "\n",
    "cv_model2.fit(X_train, y_train)"
   ]
  },
  {
   "cell_type": "code",
   "execution_count": null,
   "id": "6bf2ad95-2bb8-441b-9d0d-7b52e4515608",
   "metadata": {},
   "outputs": [],
   "source": []
  },
  {
   "cell_type": "code",
   "execution_count": null,
   "id": "1a7d92b7-5129-4a1c-bfdf-1a13c2b9de84",
   "metadata": {},
   "outputs": [],
   "source": [
    "base_best_params2 = pd.DataFrame({k: str(v) for k,v in cv_model2.best_params_.items()}, index=[0])\n",
    "base_best_params2[\"score\"] = cv_model2.best_score_\n",
    "base_best_params2.to_csv(\"../results/base_model2__best_params.csv\", index=False)"
   ]
  },
  {
   "cell_type": "code",
   "execution_count": null,
   "id": "5da44cfd-a391-4b9d-9b0c-527f46cbdaa6",
   "metadata": {},
   "outputs": [],
   "source": [
    "fig, ax = plt.subplots()\n",
    "ax.plot(range(1,len(cv_model2.best_estimator_.loss_curve_)+1), cv_model2.best_estimator_.loss_curve_)\n",
    "ax.set_title(\"Loss curve\")\n",
    "ax.set_xlabel(\"Epoch\")\n",
    "ax.set_ylabel(\"Loss value\")\n",
    "plt.show()"
   ]
  },
  {
   "cell_type": "code",
   "execution_count": null,
   "id": "15917eb6-e7c1-49ae-bc6e-7865ef0e53b3",
   "metadata": {},
   "outputs": [],
   "source": [
    "y_pred = cv_model2.best_estimator_.predict(X_test)"
   ]
  },
  {
   "cell_type": "code",
   "execution_count": null,
   "id": "3d2148e2-b594-474b-8d4e-c49527994b6b",
   "metadata": {},
   "outputs": [],
   "source": [
    "accuracy_score(y_test, y_pred)"
   ]
  },
  {
   "cell_type": "code",
   "execution_count": null,
   "id": "e078b2fa-0aa0-4513-9631-1f2013e03f64",
   "metadata": {},
   "outputs": [],
   "source": [
    "roc_auc_score(y_test, y_pred)"
   ]
  },
  {
   "cell_type": "code",
   "execution_count": null,
   "id": "24cf9b3e-b5e3-4a32-a8d1-9ff9c28f4ee6",
   "metadata": {},
   "outputs": [],
   "source": [
    "fpr, tpr, thr = roc_curve(y_test, y_pred)\n",
    "\n",
    "plt.plot(fpr, tpr)\n",
    "plt.plot([0,1], [0,1], ls=\":\", c=\"k\")"
   ]
  },
  {
   "cell_type": "code",
   "execution_count": null,
   "id": "fb0d2097-cfd1-406b-b1dc-359d9adb65f3",
   "metadata": {},
   "outputs": [],
   "source": []
  }
 ],
 "metadata": {
  "kernelspec": {
   "display_name": "Python 3 (ipykernel)",
   "language": "python",
   "name": "python3"
  },
  "language_info": {
   "codemirror_mode": {
    "name": "ipython",
    "version": 3
   },
   "file_extension": ".py",
   "mimetype": "text/x-python",
   "name": "python",
   "nbconvert_exporter": "python",
   "pygments_lexer": "ipython3",
   "version": "3.11.9"
  }
 },
 "nbformat": 4,
 "nbformat_minor": 5
}
