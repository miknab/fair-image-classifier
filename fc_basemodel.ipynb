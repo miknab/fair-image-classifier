{
 "cells": [
  {
   "cell_type": "markdown",
   "id": "5d703a2e-3a31-4fec-9889-d70aab84c0a3",
   "metadata": {},
   "source": [
    "# Face classifier"
   ]
  },
  {
   "cell_type": "markdown",
   "id": "fd2c0102-7540-4c78-ba92-c552a24cdc12",
   "metadata": {},
   "source": [
    "## Set up"
   ]
  },
  {
   "cell_type": "code",
   "execution_count": null,
   "id": "c9e4be5a-8792-4f83-9ec3-2a58cca9e06e",
   "metadata": {},
   "outputs": [],
   "source": [
    "import pandas as pd\n",
    "import numpy as np\n",
    "import seaborn as sns\n",
    "import matplotlib.pyplot as plt\n",
    "import random\n",
    "\n",
    "import tensorflow as tf\n",
    "from tensorflow import keras\n",
    "from tensorflow.keras.preprocessing.image import ImageDataGenerator\n",
    "from tensorflow.keras import Input\n",
    "from tensorflow.keras.models import Sequential, Model\n",
    "from tensorflow.keras.layers import Dense, Dropout, Activation, Flatten\n",
    "from tensorflow.keras.layers import Conv2D, MaxPooling2D \n",
    "\n",
    "from sklearn.model_selection import train_test_split, RandomizedSearchCV\n",
    "from sklearn.neural_network import MLPClassifier\n",
    "from sklearn.metrics import accuracy_score, classification_report, roc_curve, roc_auc_score"
   ]
  },
  {
   "cell_type": "code",
   "execution_count": null,
   "id": "cbaaf28f-10d4-4473-b4fa-f88dc90d53f1",
   "metadata": {},
   "outputs": [],
   "source": [
    "seed = 42"
   ]
  },
  {
   "cell_type": "markdown",
   "id": "00bec25b-11be-414b-9815-9743234566ef",
   "metadata": {},
   "source": [
    "## Load data"
   ]
  },
  {
   "cell_type": "code",
   "execution_count": null,
   "id": "592f911a-1b01-4cbd-a8ec-f85cac46c4d3",
   "metadata": {},
   "outputs": [],
   "source": [
    "data = pd.read_csv(\"../data/age_gender.csv\")"
   ]
  },
  {
   "cell_type": "markdown",
   "id": "126872b5-2f0e-4217-b027-2c0f3878242c",
   "metadata": {},
   "source": [
    "## Baseline model: Multilayer perceptron classifier"
   ]
  },
  {
   "cell_type": "code",
   "execution_count": null,
   "id": "517188ad-1374-4e15-936b-7cc1ad6848ce",
   "metadata": {},
   "outputs": [],
   "source": [
    "full_img_vec_list = np.array([pxlstring2pxlvec(data, i) for i in range(data.shape[0])])"
   ]
  },
  {
   "cell_type": "code",
   "execution_count": null,
   "id": "76de801d-8eb6-44e8-85d7-b9a625a004ff",
   "metadata": {},
   "outputs": [],
   "source": [
    "target = \"gender\"\n",
    "X_train, X_test, y_train, y_test = train_test_split(full_img_vec_list, \n",
    "                                                    data[target],\n",
    "                                                    test_size = 0.2,\n",
    "                                                    stratify = data[target],\n",
    "                                                    shuffle = True,\n",
    "                                                    random_state = seed,\n",
    "                                                    )"
   ]
  },
  {
   "cell_type": "code",
   "execution_count": null,
   "id": "2ccc0eac-c11b-4399-9fd1-7ada07ce4a1b",
   "metadata": {},
   "outputs": [],
   "source": [
    "parameters = {'hidden_layer_sizes':[(32), (64), (128), (256), (512),\n",
    "                                    (64, 32), (128, 64), (256, 128), (512, 256),\n",
    "                                    (128, 64, 32), (256, 128, 64), (512, 256, 128)\n",
    "                                    ],\n",
    "              'alpha': [0.001, 0.01, 0.1], \n",
    "              'max_iter': [10, 50, 100], \n",
    "              'learning_rate_init':[0.001, 0.01, 0.1],\n",
    "              'batch_size': [16, 32]}\n",
    "\n",
    "base_model = MLPClassifier(activation='relu', \n",
    "                           solver='adam', \n",
    "                           tol = 0.01,\n",
    "                           learning_rate='adaptive',\n",
    "                           verbose = True,\n",
    "                           shuffle = True,\n",
    "                           n_iter_no_change = 5,\n",
    "                           random_state = seed)\n",
    "\n",
    "cv_model = RandomizedSearchCV(estimator=base_model, \n",
    "                              param_distributions=parameters,\n",
    "                              cv = 3,\n",
    "                              random_state = seed,\n",
    "                              verbose = True,\n",
    "                              n_iter = 5)\n",
    "\n",
    "cv_model.fit(X_train, y_train)"
   ]
  },
  {
   "cell_type": "code",
   "execution_count": null,
   "id": "fb9f53c3-3d4b-4f60-aab3-965a075debef",
   "metadata": {},
   "outputs": [],
   "source": [
    "plt.plot(cv_model.best_estimator_.loss_curve_)"
   ]
  },
  {
   "cell_type": "code",
   "execution_count": null,
   "id": "06d40784-3205-4fcc-a526-0cb613b20898",
   "metadata": {},
   "outputs": [],
   "source": [
    "cv_model.best_score_"
   ]
  },
  {
   "cell_type": "code",
   "execution_count": null,
   "id": "5653e89e-2153-4f72-9d95-550871070dc5",
   "metadata": {},
   "outputs": [],
   "source": [
    "base_best_params = pd.DataFrame({k: str(v) for k,v in cv_model.best_params_.items()}, index=[0])\n",
    "base_best_params.to_csv(\"../results/base_model__best_params.csv\", index=False)"
   ]
  },
  {
   "cell_type": "code",
   "execution_count": null,
   "id": "c2a7d862-8560-4185-8d71-820e4712a66c",
   "metadata": {},
   "outputs": [],
   "source": [
    "y_pred = cv_model.best_estimator_.predict(X_test)"
   ]
  },
  {
   "cell_type": "code",
   "execution_count": null,
   "id": "fb0f6afe-5dd0-4232-af63-0f16dc8ae9c9",
   "metadata": {},
   "outputs": [],
   "source": [
    "#accuracy_score(y_test, y_pred)\n",
    "pd.DataFrame(classification_report(y_test, y_pred, output_dict=True))"
   ]
  },
  {
   "cell_type": "code",
   "execution_count": null,
   "id": "9a3d9ecf-cf97-4348-bad0-9407959cf90c",
   "metadata": {},
   "outputs": [],
   "source": [
    "# Exploiting universal approximation theorem (UAT) for wide, shallow networks\n",
    "wide_shallow = [(2**n,) for n in range(7,15)]\n",
    "\n",
    "# Exploiting universal approximation theorem (UAT) for narrow, deep networks\n",
    "narrow_deep  = [tuple(i*[64]) for i in range(3,11)]\n",
    "\n",
    "parameters = {'hidden_layer_sizes': wide_shallow + narrow_deep,\n",
    "              'alpha': [0.001, 0.01, 0.1], \n",
    "              'max_iter': [10, 50, 100], \n",
    "              'learning_rate_init':[0.001, 0.01, 0.1],\n",
    "              'batch_size': [16, 32]}\n",
    "\n",
    "base_model = MLPClassifier(activation='relu', \n",
    "                           solver='adam', \n",
    "                           tol = 0.01,\n",
    "                           learning_rate='adaptive',\n",
    "                           verbose = True,\n",
    "                           shuffle = True,\n",
    "                           n_iter_no_change = 5,\n",
    "                           random_state = seed)\n",
    "\n",
    "cv_model2 = RandomizedSearchCV(estimator=base_model, \n",
    "                              param_distributions=parameters,\n",
    "                              cv = 3,\n",
    "                              random_state = seed,\n",
    "                              verbose = True,\n",
    "                              n_iter = 10)\n",
    "\n",
    "cv_model2.fit(X_train, y_train)"
   ]
  },
  {
   "cell_type": "code",
   "execution_count": null,
   "id": "1a7d92b7-5129-4a1c-bfdf-1a13c2b9de84",
   "metadata": {},
   "outputs": [],
   "source": [
    "base_best_params2 = pd.DataFrame({k: str(v) for k,v in cv_model2.best_params_.items()}, index=[0])\n",
    "base_best_params2[\"score\"] = cv_model2.best_score_\n",
    "base_best_params2.to_csv(\"../results/base_model2__best_params.csv\", index=False)"
   ]
  },
  {
   "cell_type": "code",
   "execution_count": null,
   "id": "5da44cfd-a391-4b9d-9b0c-527f46cbdaa6",
   "metadata": {},
   "outputs": [],
   "source": [
    "fig, ax = plt.subplots()\n",
    "ax.plot(range(1,len(cv_model2.best_estimator_.loss_curve_)+1), cv_model2.best_estimator_.loss_curve_)\n",
    "ax.set_title(\"Loss curve\")\n",
    "ax.set_xlabel(\"Epoch\")\n",
    "ax.set_ylabel(\"Loss value\")\n",
    "plt.show()"
   ]
  },
  {
   "cell_type": "code",
   "execution_count": null,
   "id": "15917eb6-e7c1-49ae-bc6e-7865ef0e53b3",
   "metadata": {},
   "outputs": [],
   "source": [
    "y_pred = cv_model2.best_estimator_.predict(X_test)"
   ]
  },
  {
   "cell_type": "code",
   "execution_count": null,
   "id": "3d2148e2-b594-474b-8d4e-c49527994b6b",
   "metadata": {},
   "outputs": [],
   "source": [
    "accuracy_score(y_test, y_pred)"
   ]
  },
  {
   "cell_type": "code",
   "execution_count": null,
   "id": "e078b2fa-0aa0-4513-9631-1f2013e03f64",
   "metadata": {},
   "outputs": [],
   "source": [
    "roc_auc_score(y_test, y_pred)"
   ]
  },
  {
   "cell_type": "code",
   "execution_count": null,
   "id": "24cf9b3e-b5e3-4a32-a8d1-9ff9c28f4ee6",
   "metadata": {},
   "outputs": [],
   "source": [
    "fpr, tpr, thr = roc_curve(y_test, y_pred)\n",
    "\n",
    "plt.plot(fpr, tpr)\n",
    "plt.plot([0,1], [0,1], ls=\":\", c=\"k\")"
   ]
  }
 ],
 "metadata": {
  "kernelspec": {
   "display_name": "Python 3 (ipykernel)",
   "language": "python",
   "name": "python3"
  },
  "language_info": {
   "codemirror_mode": {
    "name": "ipython",
    "version": 3
   },
   "file_extension": ".py",
   "mimetype": "text/x-python",
   "name": "python",
   "nbconvert_exporter": "python",
   "pygments_lexer": "ipython3",
   "version": "3.11.9"
  }
 },
 "nbformat": 4,
 "nbformat_minor": 5
}
