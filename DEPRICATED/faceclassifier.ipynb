{
 "cells": [
  {
   "cell_type": "markdown",
   "id": "5d703a2e-3a31-4fec-9889-d70aab84c0a3",
   "metadata": {},
   "source": [
    "# Face classifier"
   ]
  },
  {
   "cell_type": "markdown",
   "id": "fd2c0102-7540-4c78-ba92-c552a24cdc12",
   "metadata": {},
   "source": [
    "## Set up"
   ]
  },
  {
   "cell_type": "code",
   "execution_count": null,
   "id": "c9e4be5a-8792-4f83-9ec3-2a58cca9e06e",
   "metadata": {},
   "outputs": [],
   "source": [
    "import pandas as pd\n",
    "import numpy as np\n",
    "import seaborn as sns\n",
    "import matplotlib.pyplot as plt\n",
    "import random\n",
    "\n",
    "import tensorflow as tf\n",
    "from tensorflow import keras\n",
    "from tensorflow.keras.preprocessing.image import ImageDataGenerator\n",
    "from tensorflow.keras import Input\n",
    "from tensorflow.keras.models import Sequential, Model\n",
    "from tensorflow.keras.layers import Dense, Dropout, Activation, Flatten\n",
    "from tensorflow.keras.layers import Conv2D, MaxPooling2D \n",
    "\n",
    "from sklearn.model_selection import train_test_split, RandomizedSearchCV\n",
    "from sklearn.neural_network import MLPClassifier\n",
    "from sklearn.metrics import accuracy_score, classification_report, roc_curve, roc_auc_score"
   ]
  },
  {
   "cell_type": "code",
   "execution_count": null,
   "id": "cbaaf28f-10d4-4473-b4fa-f88dc90d53f1",
   "metadata": {},
   "outputs": [],
   "source": [
    "seed = 42"
   ]
  },
  {
   "cell_type": "markdown",
   "id": "00bec25b-11be-414b-9815-9743234566ef",
   "metadata": {},
   "source": [
    "## Load data"
   ]
  },
  {
   "cell_type": "code",
   "execution_count": null,
   "id": "592f911a-1b01-4cbd-a8ec-f85cac46c4d3",
   "metadata": {},
   "outputs": [],
   "source": [
    "data = pd.read_csv(\"../data/age_gender.csv\")"
   ]
  },
  {
   "cell_type": "markdown",
   "id": "0fe38d3b-59b8-4ea0-82ff-f5d458a9e8de",
   "metadata": {},
   "source": [
    "## EDA"
   ]
  },
  {
   "cell_type": "code",
   "execution_count": null,
   "id": "5cc9bc16-cc6d-43e7-8bb4-6b1af65a38aa",
   "metadata": {},
   "outputs": [],
   "source": [
    "data.shape"
   ]
  },
  {
   "cell_type": "code",
   "execution_count": null,
   "id": "ffeb6ada-7e19-4dd9-bf91-a2af27eacf2a",
   "metadata": {},
   "outputs": [],
   "source": [
    "data.head()"
   ]
  },
  {
   "cell_type": "code",
   "execution_count": null,
   "id": "4da365b6-762b-44c9-b5a6-70be00853632",
   "metadata": {},
   "outputs": [],
   "source": [
    "data.info()"
   ]
  },
  {
   "cell_type": "code",
   "execution_count": null,
   "id": "ea39448b-b360-4d62-9efd-3331ca763d97",
   "metadata": {},
   "outputs": [],
   "source": [
    "sns.set_style(\"whitegrid\")\n",
    "\n",
    "fig, axs = plt.subplots(1,3, figsize=(12,4))\n",
    "sns.histplot(data = data, \n",
    "             x=\"age\", \n",
    "             binrange=(0,120),\n",
    "             bins=30,\n",
    "             ax=axs[0]\n",
    "             )\n",
    "axs[0].set_title(\"Age distribution\")\n",
    "\n",
    "sns.countplot(data = data, \n",
    "             x=\"ethnicity\", \n",
    "             ax=axs[1]\n",
    "             )\n",
    "axs[1].set_title(\"Ethnicity distribution\")\n",
    "\n",
    "sns.countplot(data = data, \n",
    "             x=\"gender\", \n",
    "             ax=axs[2]\n",
    "             )\n",
    "axs[2].set_title(\"Gender distribution\")\n",
    "plt.tight_layout()\n",
    "plt.show()"
   ]
  },
  {
   "cell_type": "code",
   "execution_count": null,
   "id": "11d2f653-c3dc-49a8-9089-d578e34798ac",
   "metadata": {},
   "outputs": [],
   "source": [
    "def pxlstring2pxlvec(df: pd.DataFrame, idx: int) -> np.ndarray:\n",
    "    \"\"\"\n",
    "    Takes in a string of space-separated integers and converts it into\n",
    "    an 1D array of integers corresponding to the vectorized array of\n",
    "    pixel values.\n",
    "    \"\"\"\n",
    "    pxl_str = df[\"pixels\"][idx]\n",
    "    pxl_list = pxl_str.split(\" \")\n",
    "    n_pxls = len(pxl_list)\n",
    "\n",
    "    img_dim = np.sqrt(n_pxls)\n",
    "    assert float(int(img_dim)) == img_dim\n",
    "    img_dim = int(img_dim)\n",
    "\n",
    "    img = np.array(pxl_list, dtype=int)\n",
    "    return img\n",
    "    \n",
    "def pxlvec2pxlarray(pxlvec: np.ndarray) -> np.ndarray:\n",
    "    \"\"\"\n",
    "    Takes in a pixel vector and converts it into an array of integers\n",
    "    corresponding to the array of pixel values.\n",
    "    \"\"\"\n",
    "    vec_dim = pxlvec.shape[0]\n",
    "    arr_dim = int(np.sqrt(vec_dim))\n",
    "    return pxlvec.reshape(arr_dim, arr_dim)"
   ]
  },
  {
   "cell_type": "code",
   "execution_count": null,
   "id": "0851a16b-0f26-4faa-a79f-381db392f262",
   "metadata": {},
   "outputs": [],
   "source": [
    "fig, axs = plt.subplots(3,5, figsize=(10,6))\n",
    "\n",
    "for i in range(3):\n",
    "    for j in range(5):\n",
    "        img = pxlvec2pxlarray(pxlstring2pxlvec(data,i*2000+j))\n",
    "        axs[i,j].imshow(img, interpolation = \"nearest\", cmap=\"gray\")\n",
    "        axs[i,j].axis(\"off\")\n",
    "        axs[i,j].set_title(f\"Image #{i*2000+j}\")\n",
    "\n",
    "fig.suptitle(\"Example images\")\n",
    "plt.show()"
   ]
  },
  {
   "cell_type": "markdown",
   "id": "126872b5-2f0e-4217-b027-2c0f3878242c",
   "metadata": {},
   "source": [
    "## Baseline model: Multilayer perceptron classifier"
   ]
  },
  {
   "cell_type": "code",
   "execution_count": null,
   "id": "517188ad-1374-4e15-936b-7cc1ad6848ce",
   "metadata": {},
   "outputs": [],
   "source": [
    "full_img_vec_list = np.array([pxlstring2pxlvec(data, i) for i in range(data.shape[0])])"
   ]
  },
  {
   "cell_type": "code",
   "execution_count": null,
   "id": "76de801d-8eb6-44e8-85d7-b9a625a004ff",
   "metadata": {},
   "outputs": [],
   "source": [
    "target = \"gender\"\n",
    "X_train, X_test, y_train, y_test = train_test_split(full_img_vec_list, \n",
    "                                                    data[target],\n",
    "                                                    test_size = 0.2,\n",
    "                                                    stratify = data[target],\n",
    "                                                    shuffle = True,\n",
    "                                                    random_state = seed,\n",
    "                                                    )"
   ]
  },
  {
   "cell_type": "code",
   "execution_count": null,
   "id": "2ccc0eac-c11b-4399-9fd1-7ada07ce4a1b",
   "metadata": {},
   "outputs": [],
   "source": [
    "parameters = {'hidden_layer_sizes':[(32), (64), (128), (256), (512),\n",
    "                                    (64, 32), (128, 64), (256, 128), (512, 256),\n",
    "                                    (128, 64, 32), (256, 128, 64), (512, 256, 128)\n",
    "                                    ],\n",
    "              'alpha': [0.001, 0.01, 0.1], \n",
    "              'max_iter': [10, 50, 100], \n",
    "              'learning_rate_init':[0.001, 0.01, 0.1],\n",
    "              'batch_size': [16, 32]}\n",
    "\n",
    "base_model = MLPClassifier(activation='relu', \n",
    "                           solver='adam', \n",
    "                           tol = 0.01,\n",
    "                           learning_rate='adaptive',\n",
    "                           verbose = True,\n",
    "                           shuffle = True,\n",
    "                           n_iter_no_change = 5,\n",
    "                           random_state = seed)\n",
    "\n",
    "cv_model = RandomizedSearchCV(estimator=base_model, \n",
    "                              param_distributions=parameters,\n",
    "                              cv = 3,\n",
    "                              random_state = seed,\n",
    "                              verbose = True,\n",
    "                              n_iter = 5)\n",
    "\n",
    "cv_model.fit(X_train, y_train)"
   ]
  },
  {
   "cell_type": "code",
   "execution_count": null,
   "id": "fb9f53c3-3d4b-4f60-aab3-965a075debef",
   "metadata": {},
   "outputs": [],
   "source": [
    "plt.plot(cv_model.best_estimator_.loss_curve_)"
   ]
  },
  {
   "cell_type": "code",
   "execution_count": null,
   "id": "06d40784-3205-4fcc-a526-0cb613b20898",
   "metadata": {},
   "outputs": [],
   "source": [
    "cv_model.best_score_"
   ]
  },
  {
   "cell_type": "code",
   "execution_count": null,
   "id": "5653e89e-2153-4f72-9d95-550871070dc5",
   "metadata": {},
   "outputs": [],
   "source": [
    "base_best_params = pd.DataFrame({k: str(v) for k,v in cv_model.best_params_.items()}, index=[0])\n",
    "base_best_params.to_csv(\"../results/base_model__best_params.csv\", index=False)"
   ]
  },
  {
   "cell_type": "code",
   "execution_count": null,
   "id": "c2a7d862-8560-4185-8d71-820e4712a66c",
   "metadata": {},
   "outputs": [],
   "source": [
    "y_pred = cv_model.best_estimator_.predict(X_test)"
   ]
  },
  {
   "cell_type": "code",
   "execution_count": null,
   "id": "fb0f6afe-5dd0-4232-af63-0f16dc8ae9c9",
   "metadata": {},
   "outputs": [],
   "source": [
    "#accuracy_score(y_test, y_pred)\n",
    "pd.DataFrame(classification_report(y_test, y_pred, output_dict=True))"
   ]
  },
  {
   "cell_type": "code",
   "execution_count": null,
   "id": "9a3d9ecf-cf97-4348-bad0-9407959cf90c",
   "metadata": {},
   "outputs": [],
   "source": [
    "# Exploiting universal approximation theorem (UAT) for wide, shallow networks\n",
    "wide_shallow = [(2**n,) for n in range(7,15)]\n",
    "\n",
    "# Exploiting universal approximation theorem (UAT) for narrow, deep networks\n",
    "narrow_deep  = [tuple(i*[64]) for i in range(3,11)]\n",
    "\n",
    "parameters = {'hidden_layer_sizes': wide_shallow + narrow_deep,\n",
    "              'alpha': [0.001, 0.01, 0.1], \n",
    "              'max_iter': [10, 50, 100], \n",
    "              'learning_rate_init':[0.001, 0.01, 0.1],\n",
    "              'batch_size': [16, 32]}\n",
    "\n",
    "base_model = MLPClassifier(activation='relu', \n",
    "                           solver='adam', \n",
    "                           tol = 0.01,\n",
    "                           learning_rate='adaptive',\n",
    "                           verbose = True,\n",
    "                           shuffle = True,\n",
    "                           n_iter_no_change = 5,\n",
    "                           random_state = seed)\n",
    "\n",
    "cv_model2 = RandomizedSearchCV(estimator=base_model, \n",
    "                              param_distributions=parameters,\n",
    "                              cv = 3,\n",
    "                              random_state = seed,\n",
    "                              verbose = True,\n",
    "                              n_iter = 10)\n",
    "\n",
    "cv_model2.fit(X_train, y_train)"
   ]
  },
  {
   "cell_type": "code",
   "execution_count": null,
   "id": "1a7d92b7-5129-4a1c-bfdf-1a13c2b9de84",
   "metadata": {},
   "outputs": [],
   "source": [
    "base_best_params2 = pd.DataFrame({k: str(v) for k,v in cv_model2.best_params_.items()}, index=[0])\n",
    "base_best_params2[\"score\"] = cv_model2.best_score_\n",
    "base_best_params2.to_csv(\"../results/base_model2__best_params.csv\", index=False)"
   ]
  },
  {
   "cell_type": "code",
   "execution_count": null,
   "id": "5da44cfd-a391-4b9d-9b0c-527f46cbdaa6",
   "metadata": {},
   "outputs": [],
   "source": [
    "fig, ax = plt.subplots()\n",
    "ax.plot(range(1,len(cv_model2.best_estimator_.loss_curve_)+1), cv_model2.best_estimator_.loss_curve_)\n",
    "ax.set_title(\"Loss curve\")\n",
    "ax.set_xlabel(\"Epoch\")\n",
    "ax.set_ylabel(\"Loss value\")\n",
    "plt.show()"
   ]
  },
  {
   "cell_type": "code",
   "execution_count": null,
   "id": "15917eb6-e7c1-49ae-bc6e-7865ef0e53b3",
   "metadata": {},
   "outputs": [],
   "source": [
    "y_pred = cv_model2.best_estimator_.predict(X_test)"
   ]
  },
  {
   "cell_type": "code",
   "execution_count": null,
   "id": "3d2148e2-b594-474b-8d4e-c49527994b6b",
   "metadata": {},
   "outputs": [],
   "source": [
    "accuracy_score(y_test, y_pred)"
   ]
  },
  {
   "cell_type": "code",
   "execution_count": null,
   "id": "e078b2fa-0aa0-4513-9631-1f2013e03f64",
   "metadata": {},
   "outputs": [],
   "source": [
    "roc_auc_score(y_test, y_pred)"
   ]
  },
  {
   "cell_type": "code",
   "execution_count": null,
   "id": "24cf9b3e-b5e3-4a32-a8d1-9ff9c28f4ee6",
   "metadata": {},
   "outputs": [],
   "source": [
    "fpr, tpr, thr = roc_curve(y_test, y_pred)\n",
    "\n",
    "plt.plot(fpr, tpr)\n",
    "plt.plot([0,1], [0,1], ls=\":\", c=\"k\")"
   ]
  },
  {
   "cell_type": "markdown",
   "id": "a5ea15cf-c831-4751-a229-b5be363ee4af",
   "metadata": {},
   "source": [
    "## Challenger model: CNN classifier"
   ]
  },
  {
   "cell_type": "code",
   "execution_count": null,
   "id": "d72b9aae-4e0d-401a-9b8c-2076c7b88835",
   "metadata": {},
   "outputs": [],
   "source": [
    "full_img_array_list = np.array([pxlvec2pxlarray(img_vec) for img_vec in full_img_vec_list])\n",
    "gender = data[\"gender\"].values\n",
    "ethnicity = data[\"ethnicity\"].values\n",
    "age = data[\"age\"].values"
   ]
  },
  {
   "cell_type": "markdown",
   "id": "7690400a-d40e-494c-84d6-a4bf8b7a19b5",
   "metadata": {},
   "source": [
    "### Data split"
   ]
  },
  {
   "cell_type": "code",
   "execution_count": null,
   "id": "ef18bd2d-bc27-4964-83ea-85d3f99c81cf",
   "metadata": {},
   "outputs": [],
   "source": [
    "X_train, X_test, y_train, y_test = train_test_split(full_img_array_list, \n",
    "                                                    gender,\n",
    "                                                    test_size = 0.2,\n",
    "                                                    stratify = gender\n",
    "                                                    )"
   ]
  },
  {
   "cell_type": "code",
   "execution_count": null,
   "id": "578c09d3-593b-42cc-9254-42a7b1083ddf",
   "metadata": {},
   "outputs": [],
   "source": [
    "X_train.shape, y_train.shape"
   ]
  },
  {
   "cell_type": "code",
   "execution_count": null,
   "id": "15455a88-020c-43ca-9e69-bc510024f2ab",
   "metadata": {},
   "outputs": [],
   "source": [
    "X_train = X_train.reshape(X_train.shape + (1,))\n",
    "X_test = X_test.reshape(X_test.shape + (1,))"
   ]
  },
  {
   "cell_type": "code",
   "execution_count": null,
   "id": "69277e3d-e450-4cb3-82b3-6764b7cbcd0d",
   "metadata": {},
   "outputs": [],
   "source": [
    "X_train.shape, y_train.shape"
   ]
  },
  {
   "cell_type": "code",
   "execution_count": null,
   "id": "c145f80a-4188-4127-97e8-6b3cf3a0d324",
   "metadata": {},
   "outputs": [],
   "source": [
    "X_train, X_val, y_train, y_val = train_test_split(X_train, y_train, \n",
    "                                                  test_size = 0.1,\n",
    "                                                  stratify = y_train\n",
    "                                                 )"
   ]
  },
  {
   "cell_type": "markdown",
   "id": "946e9e2b-e332-4fc1-bda2-19d6fe409702",
   "metadata": {},
   "source": [
    "### Data preprocessing"
   ]
  },
  {
   "cell_type": "code",
   "execution_count": null,
   "id": "26f9ab82-b0c0-48ee-9c75-97db1775a0d1",
   "metadata": {},
   "outputs": [],
   "source": [
    "X_train = X_train.astype(\"float32\")\n",
    "X_val = X_val.astype(\"float32\")\n",
    "X_test = X_test.astype(\"float32\")\n",
    "X_train /= 255\n",
    "X_val /= 255\n",
    "X_test /= 255"
   ]
  },
  {
   "cell_type": "code",
   "execution_count": null,
   "id": "113635ff-1de2-418a-87c4-cb170a4f9e41",
   "metadata": {},
   "outputs": [],
   "source": [
    "num_classes = data[target].nunique()\n",
    "y_train = keras.utils.to_categorical(y_train, num_classes)\n",
    "y_val = keras.utils.to_categorical(y_val, num_classes)\n",
    "y_test = keras.utils.to_categorical(y_test, num_classes)"
   ]
  },
  {
   "cell_type": "markdown",
   "id": "12ffaf94-cd2e-41a8-b71e-fc8fea56c4dd",
   "metadata": {},
   "source": [
    "### Building the CNN model (AlexNet architecture)"
   ]
  },
  {
   "cell_type": "code",
   "execution_count": null,
   "id": "51b3a916-cc37-4a80-8f6d-e9c4dc564266",
   "metadata": {},
   "outputs": [],
   "source": [
    "# Shape: (48, 48, 1)\n",
    "cnn_model = Sequential()\n",
    "cnn_model.add(Conv2D(16, \n",
    "                     (3,3), \n",
    "                     padding=\"same\", \n",
    "                     strides=(1,1),\n",
    "                     input_shape = X_train.shape[1:])\n",
    "             )\n",
    "# Shape: (48, 48, 16)\n",
    "cnn_model.add(Activation(\"relu\"))\n",
    "# Shape: (48, 48, 16)\n",
    "cnn_model.add(MaxPooling2D(pool_size=(2,2)))\n",
    "# Shape: (24, 24, 16)\n",
    "              \n",
    "cnn_model.add(Conv2D(32, \n",
    "                     (3,3), \n",
    "                     strides=(1,1))\n",
    "             )\n",
    "# Shape: (24, 24, 32)\n",
    "cnn_model.add(Activation(\"relu\"))\n",
    "# Shape: (24, 24, 32)\n",
    "cnn_model.add(MaxPooling2D(pool_size=(2,2)))\n",
    "# Shape: (12, 12, 32)\n",
    "              \n",
    "cnn_model.add(Conv2D(64, \n",
    "                     (3,3),\n",
    "                     strides=(1,1))\n",
    "             )\n",
    "# Shape: (12, 12, 64)\n",
    "cnn_model.add(Activation(\"relu\"))\n",
    "# Shape: (12, 12, 64)\n",
    "cnn_model.add(MaxPooling2D(pool_size=(2,2)))\n",
    "# Shape: (6, 6, 64)\n",
    "\n",
    "cnn_model.add(Flatten())\n",
    "cnn_model.add(Dense(128))\n",
    "cnn_model.add(Activation(\"relu\"))\n",
    "cnn_model.add(Dropout(0.8))\n",
    "cnn_model.add(Dense(num_classes))\n",
    "if num_classes == 2:\n",
    "    cnn_model.add(Activation(\"sigmoid\"))\n",
    "elif num_classes >= 2:\n",
    "    cnn_model.add(Activation(\"softmax\"))\n",
    "else:\n",
    "    raise ValueError(\"number of output classes must be at least 2.\")\n"
   ]
  },
  {
   "cell_type": "code",
   "execution_count": null,
   "id": "fac503a3-04a4-4c27-8b82-70316b3e4404",
   "metadata": {},
   "outputs": [],
   "source": [
    "y_train[0]"
   ]
  },
  {
   "cell_type": "code",
   "execution_count": null,
   "id": "befd3f55-af40-4042-866b-72b124cad9fd",
   "metadata": {},
   "outputs": [],
   "source": [
    "adam = keras.optimizers.Adam()\n",
    "\n",
    "cnn_model.compile(optimizer=adam,\n",
    "                  loss=\"binary_crossentropy\",\n",
    "                  metrics=[\"accuracy\"])"
   ]
  },
  {
   "cell_type": "code",
   "execution_count": null,
   "id": "b3657b28-93c8-4877-9cf0-10fd0de9d24d",
   "metadata": {},
   "outputs": [],
   "source": [
    "history = cnn_model.fit(X_train, y_train,\n",
    "                        batch_size=16,\n",
    "                        epochs=19,\n",
    "                        validation_data=(X_val, y_val),\n",
    "                        shuffle=True\n",
    "                        )"
   ]
  },
  {
   "cell_type": "code",
   "execution_count": null,
   "id": "c1e5b0f4-0663-44af-ad1c-aec106cb7b2a",
   "metadata": {},
   "outputs": [],
   "source": [
    "plt.plot(history.history[\"loss\"])\n",
    "plt.plot(history.history[\"val_loss\"])"
   ]
  },
  {
   "cell_type": "code",
   "execution_count": null,
   "id": "fe17a593-c68c-49cf-a207-284f3cf478e1",
   "metadata": {},
   "outputs": [],
   "source": [
    "y_pred = cnn_model.predict(X_test)"
   ]
  },
  {
   "cell_type": "code",
   "execution_count": null,
   "id": "e3b19c0f-28f4-4c57-b0a3-6868f018df85",
   "metadata": {},
   "outputs": [],
   "source": [
    "y_pred = np.array([np.argmax(i) for i in y_pred])\n",
    "y_test = np.array([np.argmax(i) for i in y_test])"
   ]
  },
  {
   "cell_type": "code",
   "execution_count": null,
   "id": "20d0e98e-c775-4154-9f6f-b9e392ab9cf2",
   "metadata": {},
   "outputs": [],
   "source": [
    "accuracy_score(y_test, y_pred)"
   ]
  },
  {
   "cell_type": "code",
   "execution_count": null,
   "id": "2eadaef0-271e-4442-9a2b-cfeb3e96a975",
   "metadata": {},
   "outputs": [],
   "source": [
    "tf.random.set_seed(seed)\n",
    "np.random.seed(seed)\n",
    "random.seed(seed)"
   ]
  },
  {
   "cell_type": "code",
   "execution_count": null,
   "id": "b9cc5873-a191-4289-bc9b-744eec02ac86",
   "metadata": {},
   "outputs": [],
   "source": [
    "input_img = Input(shape=(48,48,1))\n",
    "conv1 = Conv2D(16, (3,3), padding=\"same\", strides=(1,1))(input_img)\n",
    "activ1 = Activation(\"relu\")(conv1)\n",
    "conv2 = Conv2D(32, (5,5), strides=(1,1))(activ1)\n",
    "activ2 = Activation(\"relu\")(conv2)\n",
    "pool1 = MaxPooling2D(pool_size=(2,2))(activ2)\n",
    "conv3 = Conv2D(64, (5,5), strides=(1,1))(pool1)\n",
    "activ3 = Activation(\"relu\")(conv3)\n",
    "pool2 = MaxPooling2D(pool_size=(2,2))(activ3)\n",
    "flat = Flatten()(pool2)\n",
    "dense1 = Dense(128, activation=\"relu\")(flat)\n",
    "\n",
    "if num_classes == 2:\n",
    "    out = Dense(num_classes, activation=\"sigmoid\")(dense1)\n",
    "elif num_classes >= 2:\n",
    "    out = Dense(num_classes, activation=\"softmax\")(dense1)\n",
    "else:\n",
    "    raise ValueError(\"Number of output classes must be at least 2.\")\n",
    "\n",
    "alex_net = Model(input_img, out)"
   ]
  },
  {
   "cell_type": "code",
   "execution_count": null,
   "id": "1bc33978-87ab-49ab-b791-197b81bbccb1",
   "metadata": {},
   "outputs": [],
   "source": [
    "adam = keras.optimizers.Adam()\n",
    "\n",
    "alex_net.compile(optimizer=adam,\n",
    "                 loss=\"binary_crossentropy\",\n",
    "                 metrics=[\"accuracy\"])"
   ]
  },
  {
   "cell_type": "code",
   "execution_count": null,
   "id": "4370ab73-2d95-4dd7-b896-9093c8145cd9",
   "metadata": {},
   "outputs": [],
   "source": [
    "an_history = alex_net.fit(X_train, y_train,\n",
    "                          epochs=4,\n",
    "                          batch_size=32,\n",
    "                          validation_data=(X_val, y_val),\n",
    "                          shuffle=True\n",
    "                         )             "
   ]
  },
  {
   "cell_type": "code",
   "execution_count": null,
   "id": "c9d27cb8-61dc-4c44-af36-29c658d988df",
   "metadata": {},
   "outputs": [],
   "source": [
    "plt.plot(an_history.history[\"loss\"])\n",
    "plt.plot(an_history.history[\"val_loss\"])"
   ]
  },
  {
   "cell_type": "code",
   "execution_count": null,
   "id": "7b224dd8-965c-47ba-ab70-278a59cf68fc",
   "metadata": {},
   "outputs": [],
   "source": [
    "plt.plot(an_history.history[\"accuracy\"])\n",
    "plt.plot(an_history.history[\"val_accuracy\"])"
   ]
  },
  {
   "cell_type": "code",
   "execution_count": null,
   "id": "eb0f9644-eadd-4f90-a204-8856a1abb571",
   "metadata": {},
   "outputs": [],
   "source": [
    "y_pred = alex_net.predict(X_test)"
   ]
  },
  {
   "cell_type": "code",
   "execution_count": null,
   "id": "d6293536-2fc1-4594-8892-a14e6ae19c7e",
   "metadata": {},
   "outputs": [],
   "source": [
    "y_pred = np.array([np.argmax(i) for i in y_pred])"
   ]
  },
  {
   "cell_type": "code",
   "execution_count": null,
   "id": "437dc250-37e3-4e77-bfbc-4678f87ea9a3",
   "metadata": {},
   "outputs": [],
   "source": [
    "accuracy_score(y_test, y_pred)"
   ]
  },
  {
   "cell_type": "code",
   "execution_count": null,
   "id": "26e06ccf-f229-4511-8967-90942b98f016",
   "metadata": {},
   "outputs": [],
   "source": [
    "pd.Series(y_test).value_counts()"
   ]
  },
  {
   "cell_type": "code",
   "execution_count": null,
   "id": "708d0453-3336-45a0-b8b4-6184146f60cb",
   "metadata": {},
   "outputs": [],
   "source": [
    "pd.Series(y_pred).value_counts()"
   ]
  },
  {
   "cell_type": "code",
   "execution_count": null,
   "id": "268cc8e2-b0b5-471c-89fa-7b5f9fac98b5",
   "metadata": {},
   "outputs": [],
   "source": []
  }
 ],
 "metadata": {
  "kernelspec": {
   "display_name": "Python 3 (ipykernel)",
   "language": "python",
   "name": "python3"
  },
  "language_info": {
   "codemirror_mode": {
    "name": "ipython",
    "version": 3
   },
   "file_extension": ".py",
   "mimetype": "text/x-python",
   "name": "python",
   "nbconvert_exporter": "python",
   "pygments_lexer": "ipython3",
   "version": "3.11.7"
  }
 },
 "nbformat": 4,
 "nbformat_minor": 5
}
